{
 "cells": [
  {
   "cell_type": "code",
   "execution_count": 10,
   "metadata": {
    "collapsed": true
   },
   "outputs": [],
   "source": [
    "import numpy\n",
    "from matplotlib import pyplot\n",
    "%matplotlib inline\n",
    "from matplotlib import rcParams\n",
    "rcParams['font.family'] = 'serif'\n",
    "rcParams['font.size'] = 16"
   ]
  },
  {
   "cell_type": "code",
   "execution_count": 11,
   "metadata": {
    "collapsed": false
   },
   "outputs": [],
   "source": [
    "# model parameters\n",
    "\n",
    "m_s = 50 #in kg (weight of rocket shell)\n",
    "g = 9.81 #in m/s^2\n",
    "rho = 1.901 #in kg/m^3 (average air density throughout flight, assumed constant)\n",
    "r = 0.5 #in m\n",
    "A = numpy.pi*(r**2) #maximum cross sectional area of the rocket\n",
    "v_e = 325 #in m/s (exhaust speed)\n",
    "C_D = 0.15 #Drag coefficient\n",
    "m_po = 100 #in kg at time t=0, initial weight of the rocket propellant\n",
    "\n",
    "#initial conditions\n",
    "v0 = 0.0\n",
    "h0 = 0.0\n",
    "m_p0 = 100.0"
   ]
  },
  {
   "cell_type": "code",
   "execution_count": 12,
   "metadata": {
    "collapsed": true
   },
   "outputs": [],
   "source": [
    "T = 10  #final time\n",
    "dt = 0.1  #time increment\n",
    "N = int(T/dt) + 1  #number of time-steps\n",
    "t = numpy.linspace(0, T, N)\n",
    "u = numpy.empty((N, 3))"
   ]
  },
  {
   "cell_type": "code",
   "execution_count": 13,
   "metadata": {
    "collapsed": false
   },
   "outputs": [],
   "source": [
    "m_p = numpy.zeros_like(t)"
   ]
  },
  {
   "cell_type": "code",
   "execution_count": 14,
   "metadata": {
    "collapsed": false
   },
   "outputs": [],
   "source": [
    "#set up integral for m_p:\n",
    "m_p[0] = m_p0\n",
    "for j in range(N-1):\n",
    "    if m_p[j] < 0.:   \n",
    "        m_p[j]=0.\n",
    "    else:\n",
    "        m_pdot = 20.*dt\n",
    "        m_p[j+1] = m_p[j]- m_pdot    "
   ]
  },
  {
   "cell_type": "code",
   "execution_count": 15,
   "metadata": {
    "collapsed": false
   },
   "outputs": [
    {
     "name": "stdout",
     "output_type": "stream",
     "text": [
      "[ 100.   98.   96.   94.   92.   90.   88.   86.   84.   82.   80.   78.\n",
      "   76.   74.   72.   70.   68.   66.   64.   62.   60.   58.   56.   54.\n",
      "   52.   50.   48.   46.   44.   42.   40.   38.   36.   34.   32.   30.\n",
      "   28.   26.   24.   22.   20.   18.   16.   14.   12.   10.    8.    6.\n",
      "    4.    2.    0.    0.    0.    0.    0.    0.    0.    0.    0.    0.\n",
      "    0.    0.    0.    0.    0.    0.    0.    0.    0.    0.    0.    0.\n",
      "    0.    0.    0.    0.    0.    0.    0.    0.    0.    0.    0.    0.\n",
      "    0.    0.    0.    0.    0.    0.    0.    0.    0.    0.    0.    0.\n",
      "    0.    0.    0.    0.    0.]\n"
     ]
    }
   ],
   "source": [
    "print(m_p)"
   ]
  },
  {
   "cell_type": "code",
   "execution_count": null,
   "metadata": {
    "collapsed": true
   },
   "outputs": [],
   "source": [
    "#plot m_p "
   ]
  },
  {
   "cell_type": "code",
   "execution_count": 119,
   "metadata": {
    "collapsed": true
   },
   "outputs": [],
   "source": [
    "#def euler_step(u, f, dt):\n",
    "    return u + dt * f(u)"
   ]
  },
  {
   "cell_type": "code",
   "execution_count": 120,
   "metadata": {
    "collapsed": false
   },
   "outputs": [],
   "source": [
    "\n",
    "'''    \n",
    "def f(u):\n",
    "    v = u[0]\n",
    "    h = u[1]\n",
    "#   m_p = u[2]\n",
    "    \n",
    "    x = numpy.array([-g + (1/(m_s+m_p))*(m_pdot*v_e)-((1/(m_s+m_p))*(.5*rho*v*abs(v)*A*C_D)), v])\n",
    "        \n",
    "    #print (\"v: %d.\" % x[0])\n",
    "    #print (\"alt: %d.\" % x[1])\n",
    "    #print (\"prop: %d.\" % x[2])\n",
    "    \n",
    "    return x\n",
    "'''"
   ]
  },
  {
   "cell_type": "code",
   "execution_count": 121,
   "metadata": {
    "collapsed": false,
    "scrolled": false
   },
   "outputs": [
    {
     "ename": "ValueError",
     "evalue": "setting an array element with a sequence.",
     "output_type": "error",
     "traceback": [
      "\u001b[1;31m---------------------------------------------------------------------------\u001b[0m",
      "\u001b[1;31mValueError\u001b[0m                                Traceback (most recent call last)",
      "\u001b[1;32m<ipython-input-121-0710d4a963ff>\u001b[0m in \u001b[0;36m<module>\u001b[1;34m()\u001b[0m\n\u001b[0;32m      3\u001b[0m     \u001b[0mu\u001b[0m\u001b[1;33m[\u001b[0m\u001b[1;36m0\u001b[0m\u001b[1;33m]\u001b[0m \u001b[1;33m=\u001b[0m \u001b[0mnumpy\u001b[0m\u001b[1;33m.\u001b[0m\u001b[0marray\u001b[0m\u001b[1;33m(\u001b[0m\u001b[1;33m[\u001b[0m\u001b[0mv0\u001b[0m\u001b[1;33m,\u001b[0m \u001b[0mh0\u001b[0m\u001b[1;33m,\u001b[0m \u001b[0mm_p0\u001b[0m\u001b[1;33m]\u001b[0m\u001b[1;33m)\u001b[0m\u001b[1;33m\u001b[0m\u001b[0m\n\u001b[0;32m      4\u001b[0m \u001b[1;33m\u001b[0m\u001b[0m\n\u001b[1;32m----> 5\u001b[1;33m     \u001b[0mu\u001b[0m\u001b[1;33m[\u001b[0m\u001b[0mn\u001b[0m\u001b[1;33m+\u001b[0m\u001b[1;36m1\u001b[0m\u001b[1;33m]\u001b[0m \u001b[1;33m=\u001b[0m \u001b[0meuler_step\u001b[0m\u001b[1;33m(\u001b[0m\u001b[0mu\u001b[0m\u001b[1;33m[\u001b[0m\u001b[0mn\u001b[0m\u001b[1;33m]\u001b[0m\u001b[1;33m,\u001b[0m \u001b[0mf\u001b[0m\u001b[1;33m,\u001b[0m \u001b[0mdt\u001b[0m\u001b[1;33m)\u001b[0m\u001b[1;33m\u001b[0m\u001b[0m\n\u001b[0m\u001b[0;32m      6\u001b[0m \u001b[1;33m\u001b[0m\u001b[0m\n\u001b[0;32m      7\u001b[0m     \u001b[1;32mif\u001b[0m \u001b[0mu\u001b[0m\u001b[1;33m[\u001b[0m\u001b[0mn\u001b[0m\u001b[1;33m+\u001b[0m\u001b[1;36m1\u001b[0m\u001b[1;33m,\u001b[0m \u001b[1;36m1\u001b[0m\u001b[1;33m]\u001b[0m \u001b[1;33m<=\u001b[0m \u001b[1;36m0\u001b[0m\u001b[1;33m:\u001b[0m\u001b[1;33m\u001b[0m\u001b[0m\n",
      "\u001b[1;31mValueError\u001b[0m: setting an array element with a sequence."
     ]
    }
   ],
   "source": [
    "for n in range (N-1):\n",
    "    \n",
    "    u[0] = numpy.array([v0, h0, m_p0])\n",
    "     \n",
    "    u[n+1] = euler_step(u[n], f, dt)\n",
    "    \n",
    "    if u[n+1, 1] <= 0:\n",
    "        htest = u[n+1, 1]\n",
    "        break\n",
    "\n",
    "    if htest > hmax:\n",
    "\n",
    "        hmax = htest\n",
    "        v_hmax = velocity\n",
    "\n",
    "        print('Altitude:')\n",
    "        print(htest)\n",
    "\n",
    "    #print (\"n: %d.\" % n)\n",
    "    #print (\"alt: %d.\" % u[n+1, 1])\n",
    "    #print (\"prop: %d.\" % u[n+1, 2])"
   ]
  },
  {
   "cell_type": "code",
   "execution_count": null,
   "metadata": {
    "collapsed": false
   },
   "outputs": [],
   "source": []
  },
  {
   "cell_type": "code",
   "execution_count": null,
   "metadata": {
    "collapsed": true
   },
   "outputs": [],
   "source": []
  }
 ],
 "metadata": {
  "kernelspec": {
   "display_name": "Python 3",
   "language": "python",
   "name": "python3"
  },
  "language_info": {
   "codemirror_mode": {
    "name": "ipython",
    "version": 3
   },
   "file_extension": ".py",
   "mimetype": "text/x-python",
   "name": "python",
   "nbconvert_exporter": "python",
   "pygments_lexer": "ipython3",
   "version": "3.4.3"
  }
 },
 "nbformat": 4,
 "nbformat_minor": 0
}
