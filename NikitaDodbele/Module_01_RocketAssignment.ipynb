{
 "cells": [
  {
   "cell_type": "code",
   "execution_count": 90,
   "metadata": {
    "collapsed": true
   },
   "outputs": [],
   "source": [
    "import numpy\n",
    "from matplotlib import pyplot\n",
    "%matplotlib inline\n",
    "from matplotlib import rcParams\n",
    "rcParams['font.family'] = 'serif'\n",
    "rcParams['font.size'] = 16"
   ]
  },
  {
   "cell_type": "code",
   "execution_count": 91,
   "metadata": {
    "collapsed": false
   },
   "outputs": [],
   "source": [
    "# model parameters\n",
    "\n",
    "m_s = 50 #in kg (weight of rocket shell)\n",
    "g = 9.81 #in m/s^2\n",
    "rho = 1.901 #in kg/m^3 (average air density throughout flight, assumed constant)\n",
    "r = 0.5 #in m\n",
    "A = numpy.pi*(r**2) #maximum cross sectional area of the rocket\n",
    "v_e = 325 #in m/s (exhaust speed)\n",
    "C_D = 0.15 #Drag coefficient\n",
    "m_po = 100 #in kg at time t=0, initial weight of the rocket propellant\n",
    "\n",
    "#initial conditions\n",
    "m_p0 = 100.0\n",
    "v0 = 0.0\n",
    "h0 = 100.0\n",
    "\n",
    "velocityValues = numpy.linspace(0, 100000)"
   ]
  },
  {
   "cell_type": "code",
   "execution_count": 92,
   "metadata": {
    "collapsed": true
   },
   "outputs": [],
   "source": [
    "def f(u):\n",
    "    v = u[0]\n",
    "    h = u[1]\n",
    "    m_p = u[2]\n",
    "    \n",
    "    x = numpy.array([-g + (1/(m_s+m_p))*(m_p_rate*v_e)-(.5*rho*v*abs(v)*A*C_D), v, -m_p])\n",
    "        \n",
    "    #print (\"v: %d.\" % x[0])\n",
    "    #print (\"alt: %d.\" % x[1])\n",
    "    #print (\"prop: %d.\" % x[2])\n",
    "    \n",
    "    return x"
   ]
  },
  {
   "cell_type": "code",
   "execution_count": 93,
   "metadata": {
    "collapsed": true
   },
   "outputs": [],
   "source": [
    "def euler_step(u, f, dt):\n",
    "    return u + dt * f(u)"
   ]
  },
  {
   "cell_type": "code",
   "execution_count": 94,
   "metadata": {
    "collapsed": false,
    "scrolled": false
   },
   "outputs": [],
   "source": [
    "T = 100 #final time\n",
    "dt = 0.1 #time increment\n",
    "u = numpy.empty((N, 3))\n",
    "hmax = 0.\n",
    "\n",
    "N = int(T/dt) + 1 #number of time-steps\n",
    "u[0] = numpy.array([v0, h0, m_p0])\n",
    "\n",
    "for n in range (N-1):\n",
    "    u[n+1] = euler_step(u[n], f, dt)\n",
    "\n",
    "    if u[n+1, 1] <= 0 or u[n+1, 2] <= 0:\n",
    "            htest = u[n+1, 1]\n",
    "            mptest = u[n+1, 2]\n",
    "            break\n",
    "\n",
    "\n",
    "    #print (\"n: %d.\" % n)\n",
    "    #print (\"alt: %d.\" % u[n+1, 1])\n",
    "    #print (\"prop: %d.\" % u[n+1, 2])"
   ]
  },
  {
   "cell_type": "code",
   "execution_count": null,
   "metadata": {
    "collapsed": false
   },
   "outputs": [],
   "source": []
  },
  {
   "cell_type": "code",
   "execution_count": null,
   "metadata": {
    "collapsed": true
   },
   "outputs": [],
   "source": []
  }
 ],
 "metadata": {
  "kernelspec": {
   "display_name": "Python 3",
   "language": "python",
   "name": "python3"
  },
  "language_info": {
   "codemirror_mode": {
    "name": "ipython",
    "version": 3
   },
   "file_extension": ".py",
   "mimetype": "text/x-python",
   "name": "python",
   "nbconvert_exporter": "python",
   "pygments_lexer": "ipython3",
   "version": "3.4.3"
  }
 },
 "nbformat": 4,
 "nbformat_minor": 0
}
