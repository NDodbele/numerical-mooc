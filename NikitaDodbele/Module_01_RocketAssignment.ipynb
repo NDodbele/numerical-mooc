{
 "cells": [
  {
   "cell_type": "code",
   "execution_count": 1,
   "metadata": {
    "collapsed": true
   },
   "outputs": [],
   "source": [
    "import numpy\n",
    "from matplotlib import pyplot\n",
    "%matplotlib inline\n",
    "from matplotlib import rcParams\n",
    "rcParams['font.family'] = 'serif'\n",
    "rcParams['font.size'] = 16"
   ]
  },
  {
   "cell_type": "code",
   "execution_count": 8,
   "metadata": {
    "collapsed": false
   },
   "outputs": [],
   "source": [
    "# model parameters\n",
    "\n",
    "m_s = 50 #in kg (weight of rocket shell)\n",
    "g = 9.81 #in m/s^2\n",
    "rho = 1.091 #in kg/m^3 (average air density throughout flight, assumed constant)\n",
    "r = 0.5 #in m\n",
    "A = numpy.pi*(r**2) #maximum cross sectional area of the rocket\n",
    "v_e = 325. #in m/s (exhaust speed)\n",
    "C_D = 0.15 #Drag coefficient\n",
    "#initial conditions\n",
    "\n",
    "v0 = 0.0\n",
    "h0 = 0.0\n",
    "m_p0 = 100.0 #in kg at time t=0, initial weight of the rocket propellant"
   ]
  },
  {
   "cell_type": "code",
   "execution_count": 9,
   "metadata": {
    "collapsed": true
   },
   "outputs": [],
   "source": [
    "T = 40  #final time\n",
    "dt = 0.1  #time increment\n",
    "N = int(T/dt) + 1  #number of time-steps\n",
    "t = numpy.linspace(0, T, N)"
   ]
  },
  {
   "cell_type": "code",
   "execution_count": 10,
   "metadata": {
    "collapsed": true
   },
   "outputs": [],
   "source": [
    "#m_pdot\n",
    "m_pdot = numpy.zeros_like(t)\n",
    "\n",
    "for i in range(N-1):\n",
    "    time=i*dt\n",
    "    if time < 5.:\n",
    "        m_pdot[i] = 20.\n",
    "    else:\n",
    "        m_pdot[i] = 0."
   ]
  },
  {
   "cell_type": "code",
   "execution_count": 11,
   "metadata": {
    "collapsed": false
   },
   "outputs": [
    {
     "data": {
      "text/plain": [
       "[<matplotlib.lines.Line2D at 0x7f86d3bd30b8>]"
      ]
     },
     "execution_count": 11,
     "metadata": {},
     "output_type": "execute_result"
    },
    {
     "data": {
      "image/png": "[encoded data removed]",
      "text/plain": [
       "<matplotlib.figure.Figure at 0x7f86d3c74438>"
      ]
     },
     "metadata": {},
     "output_type": "display_data"
    }
   ],
   "source": [
    "pyplot.plot(m_pdot)"
   ]
  },
  {
   "cell_type": "code",
   "execution_count": 12,
   "metadata": {
    "collapsed": false
   },
   "outputs": [
    {
     "name": "stdout",
     "output_type": "stream",
     "text": [
      "[ 100.   98.   96.   94.   92.   90.   88.   86.   84.   82.   80.   78.\n",
      "   76.   74.   72.   70.   68.   66.   64.   62.   60.   58.   56.   54.\n",
      "   52.   50.   48.   46.   44.   42.   40.   38.   36.   34.   32.   30.\n",
      "   28.   26.   24.   22.   20.   18.   16.   14.   12.   10.    8.    6.\n",
      "    4.    2.    0.    0.    0.    0.    0.    0.    0.    0.    0.    0.\n",
      "    0.    0.    0.    0.    0.    0.    0.    0.    0.    0.    0.    0.\n",
      "    0.    0.    0.    0.    0.    0.    0.    0.    0.    0.    0.    0.\n",
      "    0.    0.    0.    0.    0.    0.    0.    0.    0.    0.    0.    0.\n",
      "    0.    0.    0.    0.    0.    0.    0.    0.    0.    0.    0.    0.\n",
      "    0.    0.    0.    0.    0.    0.    0.    0.    0.    0.    0.    0.\n",
      "    0.    0.    0.    0.    0.    0.    0.    0.    0.    0.    0.    0.\n",
      "    0.    0.    0.    0.    0.    0.    0.    0.    0.    0.    0.    0.\n",
      "    0.    0.    0.    0.    0.    0.    0.    0.    0.    0.    0.    0.\n",
      "    0.    0.    0.    0.    0.    0.    0.    0.    0.    0.    0.    0.\n",
      "    0.    0.    0.    0.    0.    0.    0.    0.    0.    0.    0.    0.\n",
      "    0.    0.    0.    0.    0.    0.    0.    0.    0.    0.    0.    0.\n",
      "    0.    0.    0.    0.    0.    0.    0.    0.    0.    0.    0.    0.\n",
      "    0.    0.    0.    0.    0.    0.    0.    0.    0.    0.    0.    0.\n",
      "    0.    0.    0.    0.    0.    0.    0.    0.    0.    0.    0.    0.\n",
      "    0.    0.    0.    0.    0.    0.    0.    0.    0.    0.    0.    0.\n",
      "    0.    0.    0.    0.    0.    0.    0.    0.    0.    0.    0.    0.\n",
      "    0.    0.    0.    0.    0.    0.    0.    0.    0.    0.    0.    0.\n",
      "    0.    0.    0.    0.    0.    0.    0.    0.    0.    0.    0.    0.\n",
      "    0.    0.    0.    0.    0.    0.    0.    0.    0.    0.    0.    0.\n",
      "    0.    0.    0.    0.    0.    0.    0.    0.    0.    0.    0.    0.\n",
      "    0.    0.    0.    0.    0.    0.    0.    0.    0.    0.    0.    0.\n",
      "    0.    0.    0.    0.    0.    0.    0.    0.    0.    0.    0.    0.\n",
      "    0.    0.    0.    0.    0.    0.    0.    0.    0.    0.    0.    0.\n",
      "    0.    0.    0.    0.    0.    0.    0.    0.    0.    0.    0.    0.\n",
      "    0.    0.    0.    0.    0.    0.    0.    0.    0.    0.    0.    0.\n",
      "    0.    0.    0.    0.    0.    0.    0.    0.    0.    0.    0.    0.\n",
      "    0.    0.    0.    0.    0.    0.    0.    0.    0.    0.    0.    0.\n",
      "    0.    0.    0.    0.    0.    0.    0.    0.    0.    0.    0.    0.\n",
      "    0.    0.    0.    0.    0.]\n"
     ]
    }
   ],
   "source": [
    "#set up integral for m_p:\n",
    "m_p = numpy.zeros_like(t)\n",
    "m_p[0] = m_p0\n",
    "\n",
    "for j in range(N-1):\n",
    "    \n",
    "    #if m_p[j] < 0.:\n",
    "    #    m_p[j] =0.\n",
    "        \n",
    "    m_p[j+1] = m_p[j] - m_pdot[j]*dt \n",
    "              \n",
    "print(m_p)\n",
    "#print(t)"
   ]
  },
  {
   "cell_type": "code",
   "execution_count": 13,
   "metadata": {
    "collapsed": false
   },
   "outputs": [
    {
     "data": {
      "image/png": "[encoded data removed]",
      "text/plain": [
       "<matplotlib.figure.Figure at 0x7f86d3c74518>"
      ]
     },
     "metadata": {},
     "output_type": "display_data"
    }
   ],
   "source": [
    "#plot m_p vs time\n",
    "\n",
    "pyplot.figure(figsize=(10,4))   #set plot size\n",
    "pyplot.ylim(0,120) #y-axis plot limits\n",
    "pyplot.xlim(0,10)\n",
    "pyplot.tick_params(axis='both', labelsize=14) #increase font size for ticks\n",
    "pyplot.xlabel('t', fontsize=14) #x label\n",
    "pyplot.ylabel('m_p', fontsize=14) #y label\n",
    "pyplot.plot(t,m_p, 'k-');"
   ]
  },
  {
   "cell_type": "code",
   "execution_count": 14,
   "metadata": {
    "collapsed": false,
    "scrolled": false
   },
   "outputs": [],
   "source": [
    "#initialize h and v arrays\n",
    "h = numpy.zeros_like(t)\n",
    "v = numpy.zeros_like(t)\n",
    "\n",
    "h[0] = h0\n",
    "v[0] = v0\n",
    "\n",
    "for n in range(N-1):\n",
    "    \n",
    "    if h[n] < 0:\n",
    "        break\n",
    "        \n",
    "    v[n+1] = (-g + (m_pdot[n]*v_e)/(m_s+m_p[n]) -\\\n",
    "              0.5*(rho*v[n]*abs(v[n])*A*C_D)/(m_s + m_p[n]))*dt + v[n]\n",
    "    \n",
    "    h[n+1] = h[n] + dt*v[n]\n",
    "\n",
    "    "
   ]
  },
  {
   "cell_type": "code",
   "execution_count": 15,
   "metadata": {
    "collapsed": false
   },
   "outputs": [
    {
     "name": "stdout",
     "output_type": "stream",
     "text": [
      "v:\n",
      "[  0.00000000e+00   3.35233333e+00   6.76273724e+00   1.02317789e+01\n",
      "   1.37599957e+01   1.73478916e+01   2.09959340e+01   2.47045500e+01\n",
      "   2.84741220e+01   3.23049842e+01   3.61974176e+01   4.01516455e+01\n",
      "   4.41678288e+01   4.82460602e+01   5.23863594e+01   5.65886668e+01\n",
      "   6.08528377e+01   6.51786356e+01   6.95657262e+01   7.40136697e+01\n",
      "   7.85219141e+01   8.30897874e+01   8.77164898e+01   9.24010858e+01\n",
      "   9.71424956e+01   1.01939487e+02   1.06790665e+02   1.11694464e+02\n",
      "   1.16649141e+02   1.21652760e+02   1.26703188e+02   1.31798084e+02\n",
      "   1.36934886e+02   1.42110808e+02   1.47322824e+02   1.52567661e+02\n",
      "   1.57841794e+02   1.63141428e+02   1.68462498e+02   1.73800658e+02\n",
      "   1.79151272e+02   1.84509411e+02   1.89869842e+02   1.95227029e+02\n",
      "   2.00575126e+02   2.05907975e+02   2.11219105e+02   2.16501732e+02\n",
      "   2.21748762e+02   2.26952796e+02   2.32106133e+02   2.24200782e+02\n",
      "   2.16759073e+02   2.09739137e+02   2.03104019e+02   1.96820980e+02\n",
      "   1.90860905e+02   1.85197814e+02   1.79808448e+02   1.74671922e+02\n",
      "   1.69769423e+02   1.65083964e+02   1.60600161e+02   1.56304052e+02\n",
      "   1.52182931e+02   1.48225212e+02   1.44420307e+02   1.40758520e+02\n",
      "   1.37230952e+02   1.33829424e+02   1.30546404e+02   1.27374942e+02\n",
      "   1.24308616e+02   1.21341483e+02   1.18468033e+02   1.15683150e+02\n",
      "   1.12982081e+02   1.10360396e+02   1.07813971e+02   1.05338952e+02\n",
      "   1.02931741e+02   1.00588969e+02   9.83074798e+01   9.60843155e+01\n",
      "   9.39166976e+01   9.18020150e+01   8.97378108e+01   8.77217715e+01\n",
      "   8.57517160e+01   8.38255860e+01   8.19414377e+01   8.00974332e+01\n",
      "   7.82918337e+01   7.65229922e+01   7.47893479e+01   7.30894199e+01\n",
      "   7.14218024e+01   6.97851592e+01   6.81782202e+01   6.65997762e+01\n",
      "   6.50486757e+01   6.35238211e+01   6.20241654e+01   6.05487093e+01\n",
      "   5.90964980e+01   5.76666189e+01   5.62581989e+01   5.48704021e+01\n",
      "   5.35024278e+01   5.21535082e+01   5.08229070e+01   4.95099171e+01\n",
      "   4.82138592e+01   4.69340805e+01   4.56699527e+01   4.44208711e+01\n",
      "   4.31862531e+01   4.19655371e+01   4.07581814e+01   3.95636629e+01\n",
      "   3.83814764e+01   3.72111334e+01   3.60521614e+01   3.49041030e+01\n",
      "   3.37665148e+01   3.26389673e+01   3.15210436e+01   3.04123389e+01\n",
      "   2.93124597e+01   2.82210238e+01   2.71376588e+01   2.60620023e+01\n",
      "   2.49937008e+01   2.39324098e+01   2.28777927e+01   2.18295207e+01\n",
      "   2.07872724e+01   1.97507330e+01   1.87195944e+01   1.76935544e+01\n",
      "   1.66723164e+01   1.56555893e+01   1.46430868e+01   1.36345273e+01\n",
      "   1.26296335e+01   1.16281319e+01   1.06297529e+01   9.63423000e+00\n",
      "   8.64130002e+00   7.65070239e+00   6.66217909e+00   5.67547431e+00\n",
      "   4.69033422e+00   3.70650665e+00   2.72374087e+00   1.74178733e+00\n",
      "   7.60397396e-01  -2.20676921e-01  -1.20167066e+00  -2.18248506e+00\n",
      "  -3.16287284e+00  -4.14258705e+00  -5.12138134e+00  -6.09901017e+00\n",
      "  -7.07522911e+00  -8.04979502e+00  -9.02246635e+00  -9.99300335e+00\n",
      "  -1.09611683e+01  -1.19267257e+01  -1.28894427e+01  -1.38490889e+01\n",
      "  -1.48054371e+01  -1.57582632e+01  -1.67073461e+01  -1.76524687e+01\n",
      "  -1.85934174e+01  -1.95299825e+01  -2.04619584e+01  -2.13891438e+01\n",
      "  -2.23113417e+01  -2.32283598e+01  -2.41400103e+01  -2.50461105e+01\n",
      "  -2.59464824e+01  -2.68409532e+01  -2.77293551e+01  -2.86115259e+01\n",
      "  -2.94873084e+01  -3.03565511e+01  -3.12191077e+01  -3.20748377e+01\n",
      "  -3.29236063e+01  -3.37652840e+01  -3.45997472e+01  -3.54268779e+01\n",
      "  -3.62465641e+01  -3.70586991e+01  -3.78631822e+01  -3.86599184e+01\n",
      "  -3.94488182e+01  -4.02297980e+01  -4.10027797e+01  -4.17676908e+01\n",
      "  -4.25244643e+01  -4.32730389e+01  -4.40133586e+01  -4.47453726e+01\n",
      "  -4.54690356e+01  -4.61843076e+01  -4.68911535e+01  -4.75895433e+01\n",
      "  -4.82794522e+01  -4.89608600e+01  -4.96337513e+01  -5.02981154e+01\n",
      "  -5.09539463e+01  -5.16012422e+01  -5.22400058e+01  -5.28702440e+01\n",
      "  -5.34919677e+01  -5.41051920e+01  -5.47099357e+01  -5.53062214e+01\n",
      "  -5.58940754e+01  -5.64735274e+01  -5.70446106e+01  -5.76073614e+01\n",
      "  -5.81618194e+01  -5.87080270e+01  -5.92460300e+01  -5.97758764e+01\n",
      "  -6.02976173e+01  -6.08113061e+01  -6.13169987e+01  -6.18147534e+01\n",
      "  -6.23046305e+01  -6.27866925e+01  -6.32610040e+01  -6.37276311e+01\n",
      "  -6.41866420e+01  -6.46381063e+01  -6.50820954e+01  -6.55186818e+01\n",
      "  -6.59479396e+01  -6.63699441e+01  -6.67847715e+01  -6.71924995e+01\n",
      "  -6.75932063e+01  -6.79869712e+01  -6.83738743e+01  -6.87539964e+01\n",
      "  -6.91274187e+01  -6.94942233e+01  -6.98544925e+01  -7.02083091e+01\n",
      "  -7.05557561e+01  -7.08969170e+01  -7.12318752e+01  -7.15607145e+01\n",
      "  -7.18835185e+01  -7.22003710e+01  -7.25113557e+01  -7.28165560e+01\n",
      "  -7.31160556e+01  -7.34099375e+01  -7.36982846e+01  -7.39811798e+01\n",
      "  -7.42587052e+01  -7.45309429e+01  -7.47979743e+01  -7.50598805e+01\n",
      "  -7.53167420e+01  -7.55686389e+01  -7.58156507e+01  -7.60578562e+01\n",
      "  -7.62953338e+01  -7.65281611e+01  -7.67564152e+01  -7.69801722e+01\n",
      "  -7.71995078e+01  -7.74144969e+01  -7.76252136e+01  -7.78317313e+01\n",
      "  -7.80341225e+01  -7.82324592e+01  -7.84268122e+01  -7.86172519e+01\n",
      "  -7.88038476e+01  -7.89866678e+01  -7.91657802e+01  -7.93412518e+01\n",
      "  -7.95131484e+01  -7.96815354e+01  -7.98464769e+01  -8.00080364e+01\n",
      "  -8.01662765e+01  -8.03212589e+01  -8.04730444e+01  -8.06216929e+01\n",
      "  -8.07672636e+01  -8.09098146e+01  -8.10494034e+01  -8.11860864e+01\n",
      "  -8.13199192e+01  -8.14509567e+01  -8.15792528e+01  -8.17048605e+01\n",
      "  -8.18278321e+01  -8.19482189e+01  -8.20660716e+01  -8.21814398e+01\n",
      "  -8.22943726e+01  -8.24049179e+01  -8.25131231e+01  -8.26190346e+01\n",
      "  -8.27226983e+01  -8.28241589e+01  -8.29234607e+01  -8.30206470e+01\n",
      "  -8.31157605e+01  -8.32088429e+01  -8.32999354e+01  -8.33890784e+01\n",
      "  -8.34763116e+01  -8.35616738e+01  -8.36452034e+01  -8.37269378e+01\n",
      "  -8.38069139e+01  -8.38851679e+01  -8.39617352e+01  -8.40366507e+01\n",
      "  -8.41099485e+01  -8.41816623e+01  -8.42518248e+01  -8.43204684e+01\n",
      "  -8.43876247e+01  -8.44533248e+01  -8.45175992e+01  -8.45804776e+01\n",
      "  -8.46419894e+01  -8.47021633e+01  -8.47610275e+01  -8.48186095e+01\n",
      "  -8.48749365e+01  -8.49300349e+01  -8.49839308e+01  -8.50366497e+01\n",
      "  -8.50882165e+01  -8.51386558e+01  -8.51879914e+01  -8.52362470e+01\n",
      "  -8.52834456e+01  -8.53296098e+01  -8.53747616e+01  -8.54189227e+01\n",
      "  -8.54621144e+01  -8.55043575e+01  -8.55456723e+01  -8.55860788e+01\n",
      "  -8.56255965e+01  -8.56642446e+01  -8.57020418e+01  -8.57390065e+01\n",
      "  -8.57751567e+01  -8.58105099e+01  -8.58450835e+01  -8.58788943e+01\n",
      "  -8.59119588e+01  -8.59442933e+01  -8.59759135e+01  -8.60068350e+01\n",
      "   0.00000000e+00   0.00000000e+00   0.00000000e+00   0.00000000e+00\n",
      "   0.00000000e+00   0.00000000e+00   0.00000000e+00   0.00000000e+00\n",
      "   0.00000000e+00   0.00000000e+00   0.00000000e+00   0.00000000e+00\n",
      "   0.00000000e+00   0.00000000e+00   0.00000000e+00   0.00000000e+00\n",
      "   0.00000000e+00   0.00000000e+00   0.00000000e+00   0.00000000e+00\n",
      "   0.00000000e+00   0.00000000e+00   0.00000000e+00   0.00000000e+00\n",
      "   0.00000000e+00   0.00000000e+00   0.00000000e+00   0.00000000e+00\n",
      "   0.00000000e+00]\n",
      "\n",
      "h:\n",
      "[  0.00000000e+00   0.00000000e+00   3.35233333e-01   1.01150706e+00\n",
      "   2.03468495e+00   3.41068452e+00   5.14547367e+00   7.24506708e+00\n",
      "   9.71552207e+00   1.25629343e+01   1.57934327e+01   1.94131745e+01\n",
      "   2.34283390e+01   2.78451219e+01   3.26697279e+01   3.79083639e+01\n",
      "   4.35672306e+01   4.96525143e+01   5.61703779e+01   6.31269505e+01\n",
      "   7.05283175e+01   7.83805089e+01   8.66894876e+01   9.54611366e+01\n",
      "   1.04701245e+02   1.14415495e+02   1.24609443e+02   1.35288510e+02\n",
      "   1.46457956e+02   1.58122870e+02   1.70288146e+02   1.82958465e+02\n",
      "   1.96138274e+02   2.09831762e+02   2.24042843e+02   2.38775125e+02\n",
      "   2.54031891e+02   2.69816071e+02   2.86130214e+02   3.02976463e+02\n",
      "   3.20356529e+02   3.38271657e+02   3.56722598e+02   3.75709582e+02\n",
      "   3.95232285e+02   4.15289797e+02   4.35880595e+02   4.57002505e+02\n",
      "   4.78652678e+02   5.00827555e+02   5.23522834e+02   5.46733448e+02\n",
      "   5.69153526e+02   5.90829433e+02   6.11803347e+02   6.32113749e+02\n",
      "   6.51795847e+02   6.70881937e+02   6.89401719e+02   7.07382563e+02\n",
      "   7.24849756e+02   7.41826698e+02   7.58335094e+02   7.74395110e+02\n",
      "   7.90025516e+02   8.05243809e+02   8.20066330e+02   8.34508361e+02\n",
      "   8.48584213e+02   8.62307308e+02   8.75690250e+02   8.88744891e+02\n",
      "   9.01482385e+02   9.13913246e+02   9.26047395e+02   9.37894198e+02\n",
      "   9.49462513e+02   9.60760721e+02   9.71796761e+02   9.82578158e+02\n",
      "   9.93112053e+02   1.00340523e+03   1.01346412e+03   1.02329487e+03\n",
      "   1.03290330e+03   1.04229497e+03   1.05147517e+03   1.06044896e+03\n",
      "   1.06922113e+03   1.07779630e+03   1.08617886e+03   1.09437301e+03\n",
      "   1.10238275e+03   1.11021193e+03   1.11786423e+03   1.12534317e+03\n",
      "   1.13265211e+03   1.13979429e+03   1.14677281e+03   1.15359063e+03\n",
      "   1.16025061e+03   1.16675547e+03   1.17310786e+03   1.17931027e+03\n",
      "   1.18536514e+03   1.19127479e+03   1.19704145e+03   1.20266727e+03\n",
      "   1.20815431e+03   1.21350456e+03   1.21871991e+03   1.22380220e+03\n",
      "   1.22875319e+03   1.23357458e+03   1.23826798e+03   1.24283498e+03\n",
      "   1.24727707e+03   1.25159569e+03   1.25579225e+03   1.25986806e+03\n",
      "   1.26382443e+03   1.26766258e+03   1.27138369e+03   1.27498891e+03\n",
      "   1.27847932e+03   1.28185597e+03   1.28511987e+03   1.28827197e+03\n",
      "   1.29131320e+03   1.29424445e+03   1.29706655e+03   1.29978032e+03\n",
      "   1.30238652e+03   1.30488589e+03   1.30727913e+03   1.30956691e+03\n",
      "   1.31174986e+03   1.31382859e+03   1.31580366e+03   1.31767562e+03\n",
      "   1.31944498e+03   1.32111221e+03   1.32267777e+03   1.32414208e+03\n",
      "   1.32550553e+03   1.32676849e+03   1.32793130e+03   1.32899428e+03\n",
      "   1.32995770e+03   1.33082183e+03   1.33158690e+03   1.33225312e+03\n",
      "   1.33282067e+03   1.33328970e+03   1.33366035e+03   1.33393273e+03\n",
      "   1.33410691e+03   1.33418295e+03   1.33416088e+03   1.33404071e+03\n",
      "   1.33382246e+03   1.33350617e+03   1.33309192e+03   1.33257978e+03\n",
      "   1.33196988e+03   1.33126235e+03   1.33045737e+03   1.32955513e+03\n",
      "   1.32855583e+03   1.32745971e+03   1.32626704e+03   1.32497809e+03\n",
      "   1.32359319e+03   1.32211264e+03   1.32053682e+03   1.31886608e+03\n",
      "   1.31710083e+03   1.31524149e+03   1.31328849e+03   1.31124230e+03\n",
      "   1.30910338e+03   1.30687225e+03   1.30454941e+03   1.30213541e+03\n",
      "   1.29963080e+03   1.29703615e+03   1.29435206e+03   1.29157912e+03\n",
      "   1.28871797e+03   1.28576924e+03   1.28273358e+03   1.27961167e+03\n",
      "   1.27640419e+03   1.27311183e+03   1.26973530e+03   1.26627533e+03\n",
      "   1.26273264e+03   1.25910798e+03   1.25540211e+03   1.25161579e+03\n",
      "   1.24774980e+03   1.24380492e+03   1.23978194e+03   1.23568166e+03\n",
      "   1.23150489e+03   1.22725245e+03   1.22292514e+03   1.21852381e+03\n",
      "   1.21404927e+03   1.20950237e+03   1.20488393e+03   1.20019482e+03\n",
      "   1.19543586e+03   1.19060792e+03   1.18571183e+03   1.18074846e+03\n",
      "   1.17571865e+03   1.17062325e+03   1.16546313e+03   1.16023913e+03\n",
      "   1.15495210e+03   1.14960291e+03   1.14419239e+03   1.13872139e+03\n",
      "   1.13319077e+03   1.12760136e+03   1.12195401e+03   1.11624955e+03\n",
      "   1.11048881e+03   1.10467263e+03   1.09880183e+03   1.09287723e+03\n",
      "   1.08689964e+03   1.08086988e+03   1.07478875e+03   1.06865705e+03\n",
      "   1.06247557e+03   1.05624511e+03   1.04996644e+03   1.04364034e+03\n",
      "   1.03726758e+03   1.03084891e+03   1.02438510e+03   1.01787689e+03\n",
      "   1.01132502e+03   1.00473023e+03   9.98093235e+02   9.91414757e+02\n",
      "   9.84695507e+02   9.77936187e+02   9.71137490e+02   9.64300102e+02\n",
      "   9.57424703e+02   9.50511961e+02   9.43562538e+02   9.36577089e+02\n",
      "   9.29556258e+02   9.22500683e+02   9.15410991e+02   9.08287803e+02\n",
      "   9.01131732e+02   8.93943380e+02   8.86723343e+02   8.79472207e+02\n",
      "   8.72190552e+02   8.64878946e+02   8.57537953e+02   8.50168124e+02\n",
      "   8.42770006e+02   8.35344136e+02   8.27891041e+02   8.20411244e+02\n",
      "   8.12905256e+02   8.05373582e+02   7.97816718e+02   7.90235153e+02\n",
      "   7.82629367e+02   7.74999834e+02   7.67347018e+02   7.59671376e+02\n",
      "   7.51973359e+02   7.44253408e+02   7.36511958e+02   7.28749437e+02\n",
      "   7.20966264e+02   7.13162852e+02   7.05339606e+02   6.97496924e+02\n",
      "   6.89635199e+02   6.81754815e+02   6.73856148e+02   6.65939570e+02\n",
      "   6.58005445e+02   6.50054130e+02   6.42085976e+02   6.34101328e+02\n",
      "   6.26100525e+02   6.18083897e+02   6.10051771e+02   6.02004467e+02\n",
      "   5.93942298e+02   5.85865571e+02   5.77774590e+02   5.69669649e+02\n",
      "   5.61551041e+02   5.53419049e+02   5.45273953e+02   5.37116028e+02\n",
      "   5.28945542e+02   5.20762759e+02   5.12567937e+02   5.04361330e+02\n",
      "   4.96143186e+02   4.87913748e+02   4.79673257e+02   4.71421944e+02\n",
      "   4.63160041e+02   4.54887771e+02   4.46605355e+02   4.38313009e+02\n",
      "   4.30010944e+02   4.21699368e+02   4.13378484e+02   4.05048490e+02\n",
      "   3.96709583e+02   3.88361951e+02   3.80005784e+02   3.71641264e+02\n",
      "   3.63268570e+02   3.54887879e+02   3.46499362e+02   3.38103188e+02\n",
      "   3.29699523e+02   3.21288528e+02   3.12870362e+02   3.04445180e+02\n",
      "   2.96013133e+02   2.87574370e+02   2.79129038e+02   2.70677278e+02\n",
      "   2.62219230e+02   2.53755031e+02   2.45284815e+02   2.36808712e+02\n",
      "   2.28326851e+02   2.19839358e+02   2.11346354e+02   2.02847961e+02\n",
      "   1.94344296e+02   1.85835474e+02   1.77321609e+02   1.68802810e+02\n",
      "   1.60279185e+02   1.51750840e+02   1.43217879e+02   1.34680403e+02\n",
      "   1.26138511e+02   1.17592299e+02   1.09041864e+02   1.00487297e+02\n",
      "   9.19286886e+01   8.33661290e+01   7.47997045e+01   6.62295003e+01\n",
      "   5.76555997e+01   4.90780840e+01   4.04970330e+01   3.19125247e+01\n",
      "   2.33246353e+01   1.47334394e+01   6.13901004e+00  -2.45858131e+00\n",
      "   0.00000000e+00   0.00000000e+00   0.00000000e+00   0.00000000e+00\n",
      "   0.00000000e+00   0.00000000e+00   0.00000000e+00   0.00000000e+00\n",
      "   0.00000000e+00   0.00000000e+00   0.00000000e+00   0.00000000e+00\n",
      "   0.00000000e+00   0.00000000e+00   0.00000000e+00   0.00000000e+00\n",
      "   0.00000000e+00   0.00000000e+00   0.00000000e+00   0.00000000e+00\n",
      "   0.00000000e+00   0.00000000e+00   0.00000000e+00   0.00000000e+00\n",
      "   0.00000000e+00   0.00000000e+00   0.00000000e+00   0.00000000e+00\n",
      "   0.00000000e+00]\n"
     ]
    }
   ],
   "source": [
    "print('v:')\n",
    "print(v)\n",
    "print()\n",
    "print('h:')\n",
    "print(h)\n",
    "#print(t)"
   ]
  },
  {
   "cell_type": "code",
   "execution_count": 16,
   "metadata": {
    "collapsed": false,
    "scrolled": true
   },
   "outputs": [
    {
     "name": "stdout",
     "output_type": "stream",
     "text": [
      "Max velocity:\n",
      "232.106133413\n",
      "\n",
      "Max altitude:\n",
      "1334.18294543\n"
     ]
    }
   ],
   "source": [
    "v_max = numpy.amax(v)\n",
    "h_max = numpy.amax(h)\n",
    "\n",
    "print('Max velocity:')\n",
    "print(v_max)\n",
    "print()\n",
    "print('Max altitude:')\n",
    "print(h_max)"
   ]
  },
  {
   "cell_type": "code",
   "execution_count": 29,
   "metadata": {
    "collapsed": false
   },
   "outputs": [
    {
     "data": {
      "text/plain": [
       "[<matplotlib.lines.Line2D at 0x7f70e8417b70>]"
      ]
     },
     "execution_count": 29,
     "metadata": {},
     "output_type": "execute_result"
    },
    {
     "data": {
      "image/png": "[encoded data removed]",
      "text/plain": [
       "<matplotlib.figure.Figure at 0x7f70e85115f8>"
      ]
     },
     "metadata": {},
     "output_type": "display_data"
    }
   ],
   "source": [
    "pyplot.plot(h)"
   ]
  },
  {
   "cell_type": "code",
   "execution_count": null,
   "metadata": {
    "collapsed": true
   },
   "outputs": [],
   "source": []
  }
 ],
 "metadata": {
  "kernelspec": {
   "display_name": "Python 3",
   "language": "python",
   "name": "python3"
  },
  "language_info": {
   "codemirror_mode": {
    "name": "ipython",
    "version": 3
   },
   "file_extension": ".py",
   "mimetype": "text/x-python",
   "name": "python",
   "nbconvert_exporter": "python",
   "pygments_lexer": "ipython3",
   "version": "3.4.3"
  }
 },
 "nbformat": 4,
 "nbformat_minor": 0
}
