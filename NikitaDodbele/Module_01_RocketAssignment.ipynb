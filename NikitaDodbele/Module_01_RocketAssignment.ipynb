{
 "cells": [
  {
   "cell_type": "code",
   "execution_count": 11,
   "metadata": {
    "collapsed": true
   },
   "outputs": [],
   "source": [
    "import numpy\n",
    "from matplotlib import pyplot\n",
    "%matplotlib inline\n",
    "from matplotlib import rcParams\n",
    "rcParams['font.family'] = 'serif'\n",
    "rcParams['font.size'] = 16"
   ]
  },
  {
   "cell_type": "code",
   "execution_count": 12,
   "metadata": {
    "collapsed": false
   },
   "outputs": [],
   "source": [
    "# model parameters\n",
    "\n",
    "m_s = 50 #in kg (weight of rocket shell)\n",
    "g = 9.81 #in m/s^2\n",
    "rho = 1.901 #in kg/m^3 (average air density throughout flight, assumed constant)\n",
    "r = 0.5 #in m\n",
    "A = numpy.pi*(r**2) #maximum cross sectional area of the rocket\n",
    "v_e = 325 #in m/s (exhaust speed)\n",
    "C_D = 0.15 #Drag coefficient\n",
    "m_po = 100 #in kg at time t=0, initial weight of the rocket propellant\n",
    "\n",
    "#initial conditions\n",
    "v0 = 0.0\n",
    "h0 = 0.0\n",
    "m_p0 = 100.0"
   ]
  },
  {
   "cell_type": "code",
   "execution_count": 13,
   "metadata": {
    "collapsed": true
   },
   "outputs": [],
   "source": [
    "T = 5  #final time\n",
    "dt = 0.1  #time increment\n",
    "N = int(T/dt) + 1  #number of time-steps\n",
    "t = numpy.linspace(0, T, N)\n",
    "u = numpy.empty((N, 3))"
   ]
  },
  {
   "cell_type": "code",
   "execution_count": 31,
   "metadata": {
    "collapsed": false
   },
   "outputs": [],
   "source": [
    "#initialize m_p, h, and v arrays\n",
    "\n",
    "m_p = numpy.zeros_like(t)\n",
    "#m_pdot = numpy.zeros_like(t)\n",
    "h = numpy.zeros_like(t)\n",
    "v = numpy.zeros_like(t)"
   ]
  },
  {
   "cell_type": "code",
   "execution_count": 33,
   "metadata": {
    "collapsed": false
   },
   "outputs": [
    {
     "name": "stdout",
     "output_type": "stream",
     "text": [
      "2.0\n",
      "[ 100.   98.   96.   94.   92.   90.   88.   86.   84.   82.   80.   78.\n",
      "   76.   74.   72.   70.   68.   66.   64.   62.   60.   58.   56.   54.\n",
      "   52.   50.   48.   46.   44.   42.   40.   38.   36.   34.   32.   30.\n",
      "   28.   26.   24.   22.   20.   18.   16.   14.   12.   10.    8.    6.\n",
      "    4.    2.    0.]\n",
      "[ 0.   0.1  0.2  0.3  0.4  0.5  0.6  0.7  0.8  0.9  1.   1.1  1.2  1.3  1.4\n",
      "  1.5  1.6  1.7  1.8  1.9  2.   2.1  2.2  2.3  2.4  2.5  2.6  2.7  2.8  2.9\n",
      "  3.   3.1  3.2  3.3  3.4  3.5  3.6  3.7  3.8  3.9  4.   4.1  4.2  4.3  4.4\n",
      "  4.5  4.6  4.7  4.8  4.9  5. ]\n"
     ]
    }
   ],
   "source": [
    "#set up integral for m_p:\n",
    "m_p[0] = m_p0\n",
    "\n",
    "for j in range(N-1):\n",
    "    if m_p[j] < 0.:   \n",
    "        m_p[j]=0.\n",
    "    else:\n",
    "        m_pdot = 20.*dt \n",
    "        m_p[j+1] = m_p[j]- m_pdot   \n",
    "       \n",
    "       \n",
    "print(m_pdot)\n",
    "print(m_p)\n",
    "print(t)"
   ]
  },
  {
   "cell_type": "code",
   "execution_count": 40,
   "metadata": {
    "collapsed": false
   },
   "outputs": [
    {
     "data": {
      "image/png": "[encoded data removed]",
      "text/plain": [
       "<matplotlib.figure.Figure at 0x7fd1d592e240>"
      ]
     },
     "metadata": {},
     "output_type": "display_data"
    }
   ],
   "source": [
    "#plot m_p vs time\n",
    "\n",
    "pyplot.figure(figsize=(10,4))   #set plot size\n",
    "pyplot.ylim(0,120) #y-axis plot limits\n",
    "pyplot.xlim(0,10)\n",
    "pyplot.tick_params(axis='both', labelsize=14) #increase font size for ticks\n",
    "pyplot.xlabel('t', fontsize=14) #x label\n",
    "pyplot.ylabel('m_p', fontsize=14) #y label\n",
    "pyplot.plot(t,m_p, 'k-');"
   ]
  },
  {
   "cell_type": "code",
   "execution_count": 35,
   "metadata": {
    "collapsed": false
   },
   "outputs": [],
   "source": [
    "#def euler_step(u, f, dt):\n",
    "    #return u + dt * f(u)"
   ]
  },
  {
   "cell_type": "code",
   "execution_count": 36,
   "metadata": {
    "collapsed": false
   },
   "outputs": [
    {
     "data": {
      "text/plain": [
       "'    \\ndef f(u):\\n    v = u[0]\\n    h = u[1]\\n#   m_p = u[2]\\n    \\n    x = numpy.array([-g + (1/(m_s+m_p))*(m_pdot*v_e)-((1/(m_s+m_p))*(.5*rho*v*abs(v)*A*C_D)), v])\\n        \\n   \\n    return x\\n'"
      ]
     },
     "execution_count": 36,
     "metadata": {},
     "output_type": "execute_result"
    }
   ],
   "source": [
    "\n",
    "'''    \n",
    "def f(u):\n",
    "    v = u[0]\n",
    "    h = u[1]\n",
    "#   m_p = u[2]\n",
    "    \n",
    "    x = numpy.array([-g + (1/(m_s+m_p))*(m_pdot*v_e)-((1/(m_s+m_p))*(.5*rho*v*abs(v)*A*C_D)), v])\n",
    "        \n",
    "   \n",
    "    return x\n",
    "'''"
   ]
  },
  {
   "cell_type": "code",
   "execution_count": 38,
   "metadata": {
    "collapsed": false,
    "scrolled": false
   },
   "outputs": [],
   "source": [
    "h[0] = h0\n",
    "v[0] = v0\n",
    "\n",
    "for n in range (N-1):\n",
    "    \n",
    "    '''\n",
    "    u[0] = numpy.array([v0, h0, m_p0])\n",
    "     \n",
    "    u[n+1] = euler_step(u[n], f, dt)\n",
    "    \n",
    "    '''\n",
    "   \n",
    "    v[n+1] = (-g + ((m_pdot*v_e)/(m_s+m_p[n])) - 0.5*((rho*v[n]*numpy.abs(v[n])*A*C_D)/(m_s + m_p[n])))*dt + v[n]\n",
    "    \n",
    "    h[n+1] = h[n] + dt*v[n]\n",
    "\n",
    "    if h[n+1] < 0:\n",
    "        #htest = h[n+1, 1]\n",
    "        break\n",
    "        \n",
    "    '''\n",
    "    if htest > hmax:\n",
    "\n",
    "        hmax = htest\n",
    "\n",
    "        print('Altitude:')\n",
    "        print(htest)\n",
    "    '''"
   ]
  },
  {
   "cell_type": "code",
   "execution_count": 39,
   "metadata": {
    "collapsed": false
   },
   "outputs": [
    {
     "name": "stdout",
     "output_type": "stream",
     "text": [
      "v:\n",
      "[ 0.         -0.54766667 -1.08945478  0.          0.          0.          0.\n",
      "  0.          0.          0.          0.          0.          0.          0.\n",
      "  0.          0.          0.          0.          0.          0.          0.\n",
      "  0.          0.          0.          0.          0.          0.          0.\n",
      "  0.          0.          0.          0.          0.          0.          0.\n",
      "  0.          0.          0.          0.          0.          0.          0.\n",
      "  0.          0.          0.          0.          0.          0.          0.\n",
      "  0.          0.        ]\n",
      "\n",
      "h:\n",
      "[ 0.          0.         -0.05476667  0.          0.          0.          0.\n",
      "  0.          0.          0.          0.          0.          0.          0.\n",
      "  0.          0.          0.          0.          0.          0.          0.\n",
      "  0.          0.          0.          0.          0.          0.          0.\n",
      "  0.          0.          0.          0.          0.          0.          0.\n",
      "  0.          0.          0.          0.          0.          0.          0.\n",
      "  0.          0.          0.          0.          0.          0.          0.\n",
      "  0.          0.        ]\n",
      "[ 0.   0.1  0.2  0.3  0.4  0.5  0.6  0.7  0.8  0.9  1.   1.1  1.2  1.3  1.4\n",
      "  1.5  1.6  1.7  1.8  1.9  2.   2.1  2.2  2.3  2.4  2.5  2.6  2.7  2.8  2.9\n",
      "  3.   3.1  3.2  3.3  3.4  3.5  3.6  3.7  3.8  3.9  4.   4.1  4.2  4.3  4.4\n",
      "  4.5  4.6  4.7  4.8  4.9  5. ]\n"
     ]
    }
   ],
   "source": [
    "print('v:')\n",
    "print(v)\n",
    "print()\n",
    "print('h:')\n",
    "print(h)\n",
    "print(t)"
   ]
  },
  {
   "cell_type": "code",
   "execution_count": null,
   "metadata": {
    "collapsed": true
   },
   "outputs": [],
   "source": []
  }
 ],
 "metadata": {
  "kernelspec": {
   "display_name": "Python 3",
   "language": "python",
   "name": "python3"
  },
  "language_info": {
   "codemirror_mode": {
    "name": "ipython",
    "version": 3
   },
   "file_extension": ".py",
   "mimetype": "text/x-python",
   "name": "python",
   "nbconvert_exporter": "python",
   "pygments_lexer": "ipython3",
   "version": "3.4.3"
  }
 },
 "nbformat": 4,
 "nbformat_minor": 0
}
