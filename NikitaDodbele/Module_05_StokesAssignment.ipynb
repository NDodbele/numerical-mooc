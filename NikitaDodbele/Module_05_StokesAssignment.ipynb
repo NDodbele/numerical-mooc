{
 "cells": [
  {
   "cell_type": "code",
   "execution_count": 25,
   "metadata": {
    "collapsed": true
   },
   "outputs": [],
   "source": [
    "from matplotlib import pyplot\n",
    "import numpy\n",
    "%matplotlib inline\n",
    "from matplotlib import rcParams\n",
    "rcParams['font.family'] = 'serif'\n",
    "rcParams['font.size'] = 16"
   ]
  },
  {
   "cell_type": "code",
   "execution_count": 26,
   "metadata": {
    "collapsed": false
   },
   "outputs": [],
   "source": [
    "#Parameters\n",
    "nx = 41\n",
    "ny = 41\n",
    "\n",
    "l = 1.\n",
    "h = 1.\n",
    "\n",
    "xmin = 0\n",
    "xmax = l\n",
    "ymin = 0\n",
    "ymax = h\n",
    "\n",
    "u = numpy.ones(nx)\n",
    "\n",
    "dx = l/(nx-1)\n",
    "dy = h/(ny-1)\n",
    "\n",
    "#Mesh\n",
    "x  = numpy.linspace(0,xmax,nx)\n",
    "y  = numpy.linspace(ymin,ymax,ny)\n",
    "X,Y = numpy.meshgrid(x,y)\n",
    "\n",
    "#Initial conditions\n",
    "psi = numpy.zeros((ny, nx)) #Create a XxY vector of zeros for psi\n",
    "w = numpy.zeros((ny, nx)) #Create a XxY vector of zeros for omega (w)\n",
    "\n",
    "l1_target = 1e-6"
   ]
  },
  {
   "cell_type": "code",
   "execution_count": 27,
   "metadata": {
    "collapsed": true
   },
   "outputs": [],
   "source": [
    "def L1norm(new, old):\n",
    "    norm = numpy.sum(numpy.abs(new-old))\n",
    "    return norm"
   ]
  },
  {
   "cell_type": "code",
   "execution_count": 124,
   "metadata": {
    "collapsed": false
   },
   "outputs": [],
   "source": [
    "def stokes(psi, w, u, l1_target):\n",
    "    \n",
    "    l1norm = 1\n",
    "    psi_n = numpy.empty_like(psi)\n",
    "    w_n = numpy.empty_like(w)\n",
    "    iterations = 0\n",
    "    \n",
    "    while l1norm > l1_target:\n",
    "        \n",
    "        psi_n = psi.copy()\n",
    "        w_n = w.copy()\n",
    "        \n",
    "        psi[1:-1, 1:-1] = 1/(2*(dx**2 + dy**2))*\\\n",
    "                            ((psi_n[1:-1, 2:] + psi_n[1:-1, :-2])*dy**2 \\\n",
    "                           + (psi_n[2:, 1:-1] + psi_n[:-2, 1:-1])*dx**2 \\\n",
    "                           + w[1:-1, 1:-1]*dx**2*dy**2)\n",
    "        \n",
    "        w[1:-1, 1:-1] = 0.25 * (w_n[1:-1, :-2] + w_n[1:-1, 2:]\\\n",
    "                                + w_n[:-2, 1:-1] + w_n[2:, 1:-1])\n",
    "              \n",
    "        #Dirichlet B.C. are automatically enforced\n",
    "        \n",
    "        #Neumann B.C. for omega\n",
    "        \n",
    "        w[-1, 1:-1] = -1/(2*dy**2)*(8*psi[-2, 1:-1] - psi[-3, 1:-1]) \\\n",
    "                            - 3*u[1:-1]/dy #Top condition given\n",
    "        w[1:-1, -1] = -1/(2*dx**2)*(8*psi[1:-1, -2] - psi[1:-1, -3])\n",
    "        w[0, 1:-1] = -1/(2*dy**2)*(8*psi[1, 1:-1] - psi[2, 1:-1])\n",
    "        w[1:-1, 0] = -1/(2*dx**2)*(8*psi[1:-1, 1] - psi[1:-1, 2])\n",
    "        \n",
    "        l1norm = L1norm(L1norm(w, w_n), L1norm(psi, psi_n))\n",
    "        iterations += 1\n",
    "          \n",
    "    return psi, w"
   ]
  },
  {
   "cell_type": "code",
   "execution_count": 125,
   "metadata": {
    "collapsed": false
   },
   "outputs": [],
   "source": [
    "psi, w = stokes(psi, w, u, l1_target)"
   ]
  },
  {
   "cell_type": "code",
   "execution_count": 132,
   "metadata": {
    "collapsed": false
   },
   "outputs": [
    {
     "name": "stdout",
     "output_type": "stream",
     "text": [
      "Solution array:\n"
     ]
    },
    {
     "data": {
      "text/plain": [
       "array([ 0.    , -0.0575, -0.0944, -0.0944, -0.0575,  0.    ])"
      ]
     },
     "execution_count": 132,
     "metadata": {},
     "output_type": "execute_result"
    }
   ],
   "source": [
    "print(\"Solution array:\")\n",
    "numpy.round(psi[32,::8], 4)"
   ]
  },
  {
   "cell_type": "code",
   "execution_count": 148,
   "metadata": {
    "collapsed": false
   },
   "outputs": [
    {
     "name": "stdout",
     "output_type": "stream",
     "text": [
      "Max value of psi:\n",
      "0.0998451721856\n"
     ]
    }
   ],
   "source": [
    "psi_max = numpy.amax(numpy.absolute(psi))\n",
    "print(\"Max value of psi:\")\n",
    "print(psi_max)"
   ]
  },
  {
   "cell_type": "code",
   "execution_count": 149,
   "metadata": {
    "collapsed": false
   },
   "outputs": [
    {
     "name": "stdout",
     "output_type": "stream",
     "text": [
      "Max value of omega:\n",
      "78.1926612284\n"
     ]
    }
   ],
   "source": [
    "w_max = numpy.amax(numpy.absolute(w))\n",
    "print(\"Max value of omega:\")\n",
    "print(w_max)"
   ]
  },
  {
   "cell_type": "code",
   "execution_count": null,
   "metadata": {
    "collapsed": true
   },
   "outputs": [],
   "source": []
  }
 ],
 "metadata": {
  "kernelspec": {
   "display_name": "Python 3",
   "language": "python",
   "name": "python3"
  },
  "language_info": {
   "codemirror_mode": {
    "name": "ipython",
    "version": 3
   },
   "file_extension": ".py",
   "mimetype": "text/x-python",
   "name": "python",
   "nbconvert_exporter": "python",
   "pygments_lexer": "ipython3",
   "version": "3.4.3"
  }
 },
 "nbformat": 4,
 "nbformat_minor": 0
}
