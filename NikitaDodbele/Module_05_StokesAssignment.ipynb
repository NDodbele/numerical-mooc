{
 "cells": [
  {
   "cell_type": "code",
   "execution_count": 1,
   "metadata": {
    "collapsed": true
   },
   "outputs": [],
   "source": [
    "from matplotlib import pyplot\n",
    "import numpy\n",
    "%matplotlib inline\n",
    "from matplotlib import rcParams\n",
    "rcParams['font.family'] = 'serif'\n",
    "rcParams['font.size'] = 16"
   ]
  },
  {
   "cell_type": "code",
   "execution_count": 6,
   "metadata": {
    "collapsed": false
   },
   "outputs": [],
   "source": [
    "#Parameters\n",
    "nx = 41\n",
    "ny = 41\n",
    "\n",
    "l = 1.\n",
    "h = 1.\n",
    "\n",
    "xmin = 0\n",
    "xmax = 1.\n",
    "ymin = -0.5\n",
    "ymax = 0.5\n",
    "\n",
    "u = numpy.ones(nx)\n",
    "\n",
    "dx = l/(nx-1)\n",
    "dy = h/(ny-1)\n",
    "\n",
    "#Mesh\n",
    "x  = numpy.linspace(0,xmax,nx)\n",
    "y  = numpy.linspace(ymin,ymax,ny)\n",
    "X,Y = numpy.meshgrid(x,y)\n",
    "\n",
    "#Initial conditions\n",
    "psi = numpy.zeros((ny, nx)) #Create a XxY vector of zeros for psi\n",
    "w = numpy.zeros((ny, nx)) #Create a XxY vector of zeros for omega (w)\n",
    "\n",
    "l1_target = 1e-6"
   ]
  },
  {
   "cell_type": "code",
   "execution_count": 3,
   "metadata": {
    "collapsed": true
   },
   "outputs": [],
   "source": [
    "def L1norm(new, old):\n",
    "    norm = numpy.sum(numpy.abs(new-old))\n",
    "    return norm"
   ]
  },
  {
   "cell_type": "code",
   "execution_count": 9,
   "metadata": {
    "collapsed": false
   },
   "outputs": [
    {
     "ename": "SyntaxError",
     "evalue": "invalid syntax (<ipython-input-9-3f145fad8982>, line 11)",
     "output_type": "error",
     "traceback": [
      "\u001b[1;36m  File \u001b[1;32m\"<ipython-input-9-3f145fad8982>\"\u001b[1;36m, line \u001b[1;32m11\u001b[0m\n\u001b[1;33m    w[1:-1, 1:-1] =\u001b[0m\n\u001b[1;37m                    ^\u001b[0m\n\u001b[1;31mSyntaxError\u001b[0m\u001b[1;31m:\u001b[0m invalid syntax\n"
     ]
    }
   ],
   "source": [
    "def stokes(w, psi, dx, dy, u, l1_target):\n",
    "    \n",
    "    l1norm = 1\n",
    "    psi_n = numpy.empty_like(psi)\n",
    "    w_n = numpy.empty_like(w)\n",
    "    iterations = 0\n",
    "    \n",
    "    while l1_norm > l1_target:\n",
    "        \n",
    "        psi_n = psi.copy()\n",
    "        w_n = w.copy()\n",
    "        \n",
    "        psi[1:-1, 1:-1]\n",
    "        \n",
    "        #Jacobi\n",
    "        w[1:-1, 1:-1] = 0.25* (w_n[1:-1, 2:] + w_n[1:-1, :-2] \\\n",
    "                               + w_n[2:, 1:-1] + w_n[:-2, 1:-1]\n",
    "    \n",
    "    return X, Y, x, y, psi, w, dx, dy, u"
   ]
  },
  {
   "cell_type": "code",
   "execution_count": 7,
   "metadata": {
    "collapsed": false
   },
   "outputs": [
    {
     "data": {
      "text/plain": [
       "array([ 0.,  0.,  0.,  0.,  0.,  0.])"
      ]
     },
     "execution_count": 7,
     "metadata": {},
     "output_type": "execute_result"
    }
   ],
   "source": [
    "numpy.round(psi[32,::8], 4)"
   ]
  },
  {
   "cell_type": "code",
   "execution_count": null,
   "metadata": {
    "collapsed": true
   },
   "outputs": [],
   "source": []
  }
 ],
 "metadata": {
  "kernelspec": {
   "display_name": "Python 3",
   "language": "python",
   "name": "python3"
  },
  "language_info": {
   "codemirror_mode": {
    "name": "ipython",
    "version": 3
   },
   "file_extension": ".py",
   "mimetype": "text/x-python",
   "name": "python",
   "nbconvert_exporter": "python",
   "pygments_lexer": "ipython3",
   "version": "3.4.3"
  }
 },
 "nbformat": 4,
 "nbformat_minor": 0
}
