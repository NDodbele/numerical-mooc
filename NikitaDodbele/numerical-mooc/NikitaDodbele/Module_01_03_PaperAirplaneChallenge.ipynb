{
 "cells": [
  {
   "cell_type": "markdown",
   "metadata": {},
   "source": [
    "Using the phugoid model, write new code to analyze the flight of a paper airplane"
   ]
  },
  {
   "cell_type": "code",
   "execution_count": 67,
   "metadata": {
    "collapsed": true
   },
   "outputs": [],
   "source": [
    "import numpy\n",
    "from matplotlib import pyplot\n",
    "%matplotlib inline\n",
    "from matplotlib import rcParams\n",
    "rcParams['font.family'] = 'serif'\n",
    "rcParams['font.size'] = 16"
   ]
  },
  {
   "cell_type": "code",
   "execution_count": 68,
   "metadata": {
    "collapsed": false
   },
   "outputs": [],
   "source": [
    "# model parameters:\n",
    "g = 9.8      # gravity in m s^{-2}\n",
    "v_t = 4.9   # trim velocity in m s^{-1}   \n",
    "C_D = 1/5  # drag coefficient --- or D/L if C_L=1\n",
    "C_L = 1   # for convenience, use C_L = 1\n",
    "\n",
    "### set initial conditions ###\n",
    "v0 = v_t     # start at the trim velocity (or add a delta)\n",
    "theta0 = 0 # initial angle of trajectory\n",
    "x0 = 0     # horizotal position is arbitrary\n",
    "y0 = 2  # initial altitude\n",
    "\n",
    "\n",
    "thetaValues = numpy.linspace(-30,30,50)*numpy.pi/180\n",
    "velocityValues = numpy.linspace(0,20,50)"
   ]
  },
  {
   "cell_type": "code",
   "execution_count": 69,
   "metadata": {
    "collapsed": true
   },
   "outputs": [],
   "source": [
    "def f(u):\n",
    "    v = u[0]\n",
    "    theta= u[1]\n",
    "    x = u[2]\n",
    "    y = u[3]\n",
    "    return numpy.array([-g*numpy.sin(theta)-C_D/C_L*g/v_t**2*v**2, -g*numpy.cos(theta)/v+g/v_t**2*v,v*numpy.cos(theta), v*numpy.sin(theta)])"
   ]
  },
  {
   "cell_type": "code",
   "execution_count": 70,
   "metadata": {
    "collapsed": true
   },
   "outputs": [],
   "source": [
    "def euler_step(u, f, dt):\n",
    "    return u + dt*f(u)"
   ]
  },
  {
   "cell_type": "code",
   "execution_count": 71,
   "metadata": {
    "collapsed": false
   },
   "outputs": [],
   "source": [
    "T = 10 #final time\n",
    "dt = 0.001 #time increment\n",
    "N = int(T/dt) + 1 #number of time-steps\n",
    "u = numpy.empty((N, 4))\n",
    "xmax = 0."
   ]
  },
  {
   "cell_type": "code",
   "execution_count": 72,
   "metadata": {
    "collapsed": false
   },
   "outputs": [
    {
     "name": "stderr",
     "output_type": "stream",
     "text": [
      "/home/gil/anaconda3/lib/python3.4/site-packages/IPython/kernel/__main__.py:6: RuntimeWarning: divide by zero encountered in double_scalars\n",
      "/home/gil/anaconda3/lib/python3.4/site-packages/IPython/kernel/__main__.py:6: RuntimeWarning: invalid value encountered in sin\n",
      "/home/gil/anaconda3/lib/python3.4/site-packages/IPython/kernel/__main__.py:6: RuntimeWarning: invalid value encountered in cos\n"
     ]
    }
   ],
   "source": [
    "for theta in thetaValues:\n",
    "\n",
    "    for velocity in velocityValues:\n",
    "        N = int(T/dt) + 1 #number of time-steps\n",
    "\n",
    "#initialize the array containing the solution for each time-step\n",
    "        u[0]= numpy.array([velocity, theta, x0, y0]) #fill 1st element with initial values\n",
    "    \n",
    "    #time loop - Euler method\n",
    "        for n in range(N-1):\n",
    "            \n",
    "            u[n+1] = euler_step(u[n], f, dt)\n",
    "            \n",
    "            if u[n+1, 3] <= 0:\n",
    "                xtest = u[n+1,2]\n",
    "                break\n",
    "                \n",
    "        if xtest > xmax:\n",
    "           \n",
    "        # print(xtest) \n",
    "\n",
    "            xmax = xtest\n",
    "            v_xmax = velocity\n",
    "            theta_xmax = theta\n"
   ]
  },
  {
   "cell_type": "code",
   "execution_count": 65,
   "metadata": {
    "collapsed": false
   },
   "outputs": [
    {
     "name": "stdout",
     "output_type": "stream",
     "text": [
      "The optimal launch angle is:\n",
      "-0.203028096661\n",
      "\n",
      "The optimal velocity is:\n",
      "15.9183673469\n",
      "\n",
      "The longest distance the paper airplane can travel is:\n",
      "18.9623956432\n"
     ]
    }
   ],
   "source": [
    "print('The optimal launch angle is:')\n",
    "print(theta_xmax)\n",
    "print()\n",
    "print('The optimal velocity is:')\n",
    "print(v_xmax)\n",
    "print()\n",
    "print('The longest distance the paper airplane can travel is:')\n",
    "print(xmax)"
   ]
  },
  {
   "cell_type": "code",
   "execution_count": 66,
   "metadata": {
    "collapsed": false
   },
   "outputs": [
    {
     "data": {
      "image/png": "[encoded data removed]",
      "text/plain": [
       "<matplotlib.figure.Figure at 0x7f01a5632eb8>"
      ]
     },
     "metadata": {},
     "output_type": "display_data"
    }
   ],
   "source": [
    "x = u[:,2]\n",
    "y = u[:,3]\n",
    "\n",
    "# visualization of the path\n",
    "pyplot.figure(figsize=(8,6))\n",
    "pyplot.grid(True)\n",
    "pyplot.xlabel(r'x', fontsize=18)\n",
    "pyplot.ylabel(r'y', fontsize=18)\n",
    "pyplot.title('Paper Airplane trajectory, flight time = %.2f' % T, fontsize=18)\n",
    "pyplot.plot(x,y, 'k-', lw=2);"
   ]
  },
  {
   "cell_type": "code",
   "execution_count": null,
   "metadata": {
    "collapsed": true
   },
   "outputs": [],
   "source": []
  }
 ],
 "metadata": {
  "kernelspec": {
   "display_name": "Python 3",
   "language": "python",
   "name": "python3"
  },
  "language_info": {
   "codemirror_mode": {
    "name": "ipython",
    "version": 3
   },
   "file_extension": ".py",
   "mimetype": "text/x-python",
   "name": "python",
   "nbconvert_exporter": "python",
   "pygments_lexer": "ipython3",
   "version": "3.4.3"
  }
 },
 "nbformat": 4,
 "nbformat_minor": 0
}
