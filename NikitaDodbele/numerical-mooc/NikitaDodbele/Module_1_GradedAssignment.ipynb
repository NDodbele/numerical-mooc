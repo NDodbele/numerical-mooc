{
 "cells": [
  {
   "cell_type": "code",
   "execution_count": 12,
   "metadata": {
    "collapsed": true
   },
   "outputs": [],
   "source": [
    "import numpy"
   ]
  },
  {
   "cell_type": "code",
   "execution_count": 13,
   "metadata": {
    "collapsed": false,
    "scrolled": true
   },
   "outputs": [
    {
     "data": {
      "text/plain": [
       "array([  4.        ,   4.45238095,   4.9047619 ,   5.35714286,\n",
       "         5.80952381,   6.26190476,   6.71428571,   7.16666667,\n",
       "         7.61904762,   8.07142857,   8.52380952,   8.97619048,\n",
       "         9.42857143,   9.88095238,  10.33333333,  10.78571429,\n",
       "        11.23809524,  11.69047619,  12.14285714,  12.5952381 ,\n",
       "        13.04761905,  13.5       ,  13.95238095,  14.4047619 ,\n",
       "        14.85714286,  15.30952381,  15.76190476,  16.21428571,\n",
       "        16.66666667,  17.11904762,  17.57142857,  18.02380952,\n",
       "        18.47619048,  18.92857143,  19.38095238,  19.83333333,\n",
       "        20.28571429,  20.73809524,  21.19047619,  21.64285714,\n",
       "        22.0952381 ,  22.54761905,  23.        ])"
      ]
     },
     "execution_count": 13,
     "metadata": {},
     "output_type": "execute_result"
    }
   ],
   "source": [
    "numpy.linspace(4,23,num=43)"
   ]
  },
  {
   "cell_type": "code",
   "execution_count": 14,
   "metadata": {
    "collapsed": true
   },
   "outputs": [],
   "source": [
    "ones_array = numpy.ones((5,17))\n",
    "zeros_array=numpy.zeros(ones_array.shape)"
   ]
  },
  {
   "cell_type": "code",
   "execution_count": 20,
   "metadata": {
    "collapsed": true
   },
   "outputs": [],
   "source": [
    "p =7.0\n",
    "r = numpy.array([11.2,4.7,6.6])"
   ]
  },
  {
   "cell_type": "code",
   "execution_count": 16,
   "metadata": {
    "collapsed": false
   },
   "outputs": [
    {
     "data": {
      "text/plain": [
       "array([ 0.20030151,  0.99009101,  0.66454238])"
      ]
     },
     "execution_count": 16,
     "metadata": {},
     "output_type": "execute_result"
    }
   ],
   "source": [
    "(numpy.sin(p/r))**3"
   ]
  },
  {
   "cell_type": "code",
   "execution_count": 23,
   "metadata": {
    "collapsed": false
   },
   "outputs": [
    {
     "name": "stdout",
     "output_type": "stream",
     "text": [
      "0.200301509303\n",
      "0.990091009642\n",
      "0.664542376418\n"
     ]
    }
   ],
   "source": [
    "for i in range(len(r)):\n",
    "    A = numpy.sin(p/r[i])**3\n",
    "    print(A)"
   ]
  },
  {
   "cell_type": "code",
   "execution_count": null,
   "metadata": {
    "collapsed": true
   },
   "outputs": [],
   "source": []
  }
 ],
 "metadata": {
  "kernelspec": {
   "display_name": "Python 3",
   "language": "python",
   "name": "python3"
  },
  "language_info": {
   "codemirror_mode": {
    "name": "ipython",
    "version": 3
   },
   "file_extension": ".py",
   "mimetype": "text/x-python",
   "name": "python",
   "nbconvert_exporter": "python",
   "pygments_lexer": "ipython3",
   "version": "3.4.3"
  }
 },
 "nbformat": 4,
 "nbformat_minor": 0
}
