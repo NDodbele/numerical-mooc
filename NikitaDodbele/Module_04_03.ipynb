{
 "cells": [
  {
   "cell_type": "code",
   "execution_count": 1,
   "metadata": {
    "collapsed": true
   },
   "outputs": [],
   "source": [
    "import numpy\n",
    "from matplotlib import pyplot\n",
    "%matplotlib inline\n",
    "from matplotlib import rcParams\n",
    "rcParams['font.family'] = 'serif'\n",
    "rcParams['font.size'] = 16"
   ]
  },
  {
   "cell_type": "code",
   "execution_count": 3,
   "metadata": {
    "collapsed": true
   },
   "outputs": [],
   "source": [
    "def ftcs(T, nt, alpha, dt, dx, dy):\n",
    "    \n",
    "    #force j_mid and i_mid to be integers so we can use them as indices\n",
    "    #for the array T\n",
    "    j_mid = int((numpy.shape(T)[0])/2)\n",
    "    i_mid = int((numpy.shape(T)[1])/2)\n",
    "    \n",
    "    for n in range(nt):\n",
    "        Tn = T.copy()\n",
    "        T[1:-1, 1:-1] = Tn[1:-1,1:-1] + alpha*\\\n",
    "            (dt/dy**2 * (Tn[2:,1:-1] - 2*Tn[1:-1, 1:-1] + Tn[:-2,1:-1]) +\\\n",
    "            dt/dx**2 * (Tn[1:-1,2:] - 2*Tn[1:-1, 1:-1] + Tn[1:-1,:-2]))\n",
    "            \n",
    "        #Enforce Neumann BC's\n",
    "        T[-1,:] = T[-2,:]\n",
    "        T[:,-1] = T[:,-2]\n",
    "        \n",
    "        #Check if we reached T = 70C\n",
    "        if T[j_mid, i_mid] >= 70:\n",
    "            print(\"Centerof plate reached 70C at time {0:.2f}s\" .format(dt*n))\n",
    "            break #exits loop at closest time iteration when plate reaches 70C\n",
    "            \n",
    "    if T[j_mid, i_mid] < 70:\n",
    "        print(\"Center has not reached 70C yet, it is only {0:.2f}C.\" .format(T[j_mid, i_mid]))\n",
    "        \n",
    "    return T"
   ]
  },
  {
   "cell_type": "code",
   "execution_count": null,
   "metadata": {
    "collapsed": true
   },
   "outputs": [],
   "source": [
    "L = 1.0e-2\n",
    "H = 1.0e-2\n",
    "\n",
    "nx = 21\n",
    "ny = 21\n",
    "nt = 500\n",
    "\n",
    "dx = L/(nx-1)\n",
    "dy = H/(ny-1)\n",
    "\n",
    "x = numpy.linspace(0, L, nx)\n",
    "y = numpy.linspace(0, H, ny)\n",
    "\n",
    "alpha = 1e-4\n",
    "\n",
    "Ti = numpy.ones((ny, nx))*20\n",
    "Ti[]"
   ]
  }
 ],
 "metadata": {
  "kernelspec": {
   "display_name": "Python 3",
   "language": "python",
   "name": "python3"
  },
  "language_info": {
   "codemirror_mode": {
    "name": "ipython",
    "version": 3
   },
   "file_extension": ".py",
   "mimetype": "text/x-python",
   "name": "python",
   "nbconvert_exporter": "python",
   "pygments_lexer": "ipython3",
   "version": "3.4.3"
  }
 },
 "nbformat": 4,
 "nbformat_minor": 0
}
