{
 "cells": [
  {
   "cell_type": "code",
   "execution_count": 76,
   "metadata": {
    "collapsed": true
   },
   "outputs": [],
   "source": [
    "import numpy\n",
    "from matplotlib import pyplot\n",
    "%matplotlib inline\n",
    "from matplotlib import rcParams\n",
    "rcParams['font.family'] = 'serif'\n",
    "rcParams['font.size'] = 16"
   ]
  },
  {
   "cell_type": "markdown",
   "metadata": {},
   "source": [
    "PART A"
   ]
  },
  {
   "cell_type": "code",
   "execution_count": 77,
   "metadata": {
    "collapsed": true
   },
   "outputs": [],
   "source": [
    "#Given conditions\n",
    "\n",
    "V_max = 80.#km/hr\n",
    "L = 11. #km\n",
    "rho_max = 250. #cars/km\n",
    "nx = 51\n",
    "dt = 0.001 #hours\n",
    "dx = L/(nx-1)\n",
    "nt = 100 #nt = 50 is 3 minutes, nt = 100 is 60 minutes"
   ]
  },
  {
   "cell_type": "code",
   "execution_count": 78,
   "metadata": {
    "collapsed": false
   },
   "outputs": [],
   "source": [
    "#Initial conditions for traffic density\n",
    "\n",
    "x = numpy.linspace(0, L, nx)\n",
    "rho = numpy.ones(nx)*10\n",
    "rho[10:20] = 50"
   ]
  },
  {
   "cell_type": "code",
   "execution_count": 79,
   "metadata": {
    "collapsed": false,
    "scrolled": true
   },
   "outputs": [],
   "source": [
    "for n in range(1, nt):\n",
    "    rho_n = rho.copy()\n",
    "    dF_dp = V_max*(1-(rho[1:]/rho_max))\n",
    "    rho[1:] = rho_n[1:] - dF_dp*dt/dx*(rho_n[1:]-rho_n[0:-1])"
   ]
  },
  {
   "cell_type": "code",
   "execution_count": 80,
   "metadata": {
    "collapsed": true
   },
   "outputs": [],
   "source": [
    "V = V_max*(1-(rho/rho_max))"
   ]
  },
  {
   "cell_type": "code",
   "execution_count": 81,
   "metadata": {
    "collapsed": false
   },
   "outputs": [],
   "source": [
    "#print(V*1000/3600)"
   ]
  },
  {
   "cell_type": "code",
   "execution_count": 82,
   "metadata": {
    "collapsed": false
   },
   "outputs": [
    {
     "data": {
      "text/plain": [
       "[<matplotlib.lines.Line2D at 0x7efca30e66a0>]"
      ]
     },
     "execution_count": 82,
     "metadata": {},
     "output_type": "execute_result"
    },
    {
     "data": {
      "image/png": "[encoded data removed]",
      "text/plain": [
       "<matplotlib.figure.Figure at 0x7efca31e6588>"
      ]
     },
     "metadata": {},
     "output_type": "display_data"
    }
   ],
   "source": [
    "pyplot.plot(x, V, color='#003366', ls = '--', lw=3)"
   ]
  },
  {
   "cell_type": "code",
   "execution_count": 83,
   "metadata": {
    "collapsed": false
   },
   "outputs": [],
   "source": [
    "V_min = numpy.min(V*1000/3600) #change units from km/hr to m/s\n",
    "V_average = numpy.average(V*1000/3600) #change units to m/s"
   ]
  },
  {
   "cell_type": "code",
   "execution_count": 84,
   "metadata": {
    "collapsed": false
   },
   "outputs": [
    {
     "name": "stdout",
     "output_type": "stream",
     "text": [
      "The minimum velocity at time t = 0 per second is:\n",
      "18.7059366914\n",
      "\n",
      "The average velocity at t =6.0:\n",
      "20.7876742892\n",
      "\n",
      "The average velocity at t =6.0:\n",
      "18.7059366914\n"
     ]
    }
   ],
   "source": [
    "#change nt from to 50 to evaluate at 3 minutes and 100 to evaluate at 6 minutes\n",
    "\n",
    "print(\"The minimum velocity at time t = 0 per second is:\")\n",
    "print(V_min)\n",
    "print()\n",
    "time = nt*dt*60\n",
    "print(\"The average velocity at t =\" + str(time)+ \":\")\n",
    "print(V_average)\n",
    "print()\n",
    "print(\"The average velocity at t =\" + str(time)+ \":\")\n",
    "print(V_min)"
   ]
  },
  {
   "cell_type": "markdown",
   "metadata": {
    "collapsed": true
   },
   "source": [
    "PART B"
   ]
  },
  {
   "cell_type": "code",
   "execution_count": 85,
   "metadata": {
    "collapsed": true
   },
   "outputs": [],
   "source": [
    "#Given conditions\n",
    "\n",
    "V_max = 136.#km/hr\n",
    "nt = 50 #nt = 50 is 3 minutes\n",
    "\n",
    "x = numpy.linspace(0, L, nx)\n",
    "rho = numpy.ones(nx)*20\n",
    "rho[10:20] = 50"
   ]
  },
  {
   "cell_type": "code",
   "execution_count": 86,
   "metadata": {
    "collapsed": true
   },
   "outputs": [],
   "source": [
    "for n in range(1, nt):\n",
    "    rho_n = rho.copy()\n",
    "    dF_dp = V_max*(1-(rho[1:]/rho_max))\n",
    "    rho[1:] = rho_n[1:] - dF_dp*dt/dx*(rho_n[1:]-rho_n[0:-1])"
   ]
  },
  {
   "cell_type": "code",
   "execution_count": 87,
   "metadata": {
    "collapsed": true
   },
   "outputs": [],
   "source": [
    "V = V_max*(1-(rho/rho_max))"
   ]
  },
  {
   "cell_type": "code",
   "execution_count": 88,
   "metadata": {
    "collapsed": true
   },
   "outputs": [],
   "source": [
    "V_min = numpy.min(V*1000/3600) #change units from km/hr to m/s\n",
    "V_average = numpy.average(V*1000/3600) #change units to m/s"
   ]
  },
  {
   "cell_type": "code",
   "execution_count": 89,
   "metadata": {
    "collapsed": false
   },
   "outputs": [
    {
     "name": "stdout",
     "output_type": "stream",
     "text": [
      "The minimum velocity at time t = 0 per second is:\n",
      "30.8436857145\n",
      "\n",
      "The average velocity at t =3.0:\n",
      "33.8378588621\n",
      "\n",
      "The average velocity at t =3.0:\n",
      "30.8436857145\n"
     ]
    }
   ],
   "source": [
    "#change nt from to 50 to evaluate at 3 minutes and 100 to evaluate at 6 minutes\n",
    "\n",
    "print(\"The minimum velocity at time t = 0 per second is:\")\n",
    "print(V_min)\n",
    "print()\n",
    "time = nt*dt*60\n",
    "print(\"The average velocity at t =\" + str(time)+ \":\")\n",
    "print(V_average)\n",
    "print()\n",
    "print(\"The average velocity at t =\" + str(time)+ \":\")\n",
    "print(V_min)"
   ]
  }
 ],
 "metadata": {
  "kernelspec": {
   "display_name": "Python 3",
   "language": "python",
   "name": "python3"
  },
  "language_info": {
   "codemirror_mode": {
    "name": "ipython",
    "version": 3
   },
   "file_extension": ".py",
   "mimetype": "text/x-python",
   "name": "python",
   "nbconvert_exporter": "python",
   "pygments_lexer": "ipython3",
   "version": "3.4.3"
  }
 },
 "nbformat": 4,
 "nbformat_minor": 0
}
