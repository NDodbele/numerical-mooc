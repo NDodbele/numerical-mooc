{
 "cells": [
  {
   "cell_type": "code",
   "execution_count": 18,
   "metadata": {
    "collapsed": true
   },
   "outputs": [],
   "source": [
    "import numpy\n",
    "from matplotlib import pyplot\n",
    "%matplotlib inline\n",
    "from matplotlib import rcParams\n",
    "rcParams['font.family'] = 'serif'\n",
    "rcParams['font.size'] = 16"
   ]
  },
  {
   "cell_type": "code",
   "execution_count": 19,
   "metadata": {
    "collapsed": true
   },
   "outputs": [],
   "source": [
    "#Given conditions\n",
    "\n",
    "V_max = 80. #km/hr\n",
    "L = 11. #km\n",
    "rho_max = 250. #cars/km\n",
    "nx = 51\n",
    "dt = 0.001 #hours\n",
    "dx = L/(nx-1)\n",
    "nt = 50"
   ]
  },
  {
   "cell_type": "code",
   "execution_count": 20,
   "metadata": {
    "collapsed": true
   },
   "outputs": [],
   "source": [
    "#Initial conditions for traffic density\n",
    "\n",
    "x = numpy.linspace(0, L, nx)\n",
    "rho0 = numpy.ones(nx)*10\n",
    "rho0[10:20] =50"
   ]
  },
  {
   "cell_type": "code",
   "execution_count": 21,
   "metadata": {
    "collapsed": false
   },
   "outputs": [
    {
     "data": {
      "text/plain": [
       "array([ 10.,  10.,  10.,  10.,  10.,  10.,  10.,  10.,  10.,  10.])"
      ]
     },
     "execution_count": 21,
     "metadata": {},
     "output_type": "execute_result"
    }
   ],
   "source": [
    "rho = numpy.ones(nx)*10\n",
    "rho[10:20]"
   ]
  },
  {
   "cell_type": "code",
   "execution_count": 22,
   "metadata": {
    "collapsed": false,
    "scrolled": true
   },
   "outputs": [],
   "source": [
    "for n in range(1, nt):\n",
    "    rho_n = rho.copy()\n",
    "    dF_dx = V_max - (2*V_max*rho_n[1:])/rho_max\n",
    "    rho[1:] = rho_n[1:] - dF_dx*dt/dx*(rho_n[1:]-rho_n[0:-1])"
   ]
  },
  {
   "cell_type": "code",
   "execution_count": 23,
   "metadata": {
    "collapsed": true
   },
   "outputs": [],
   "source": [
    "V = V_max*(1-rho/rho_max)"
   ]
  },
  {
   "cell_type": "code",
   "execution_count": 24,
   "metadata": {
    "collapsed": false
   },
   "outputs": [
    {
     "name": "stdout",
     "output_type": "stream",
     "text": [
      "[ 76.8  76.8  76.8  76.8  76.8  76.8  76.8  76.8  76.8  76.8  76.8  76.8\n",
      "  76.8  76.8  76.8  76.8  76.8  76.8  76.8  76.8  76.8  76.8  76.8  76.8\n",
      "  76.8  76.8  76.8  76.8  76.8  76.8  76.8  76.8  76.8  76.8  76.8  76.8\n",
      "  76.8  76.8  76.8  76.8  76.8  76.8  76.8  76.8  76.8  76.8  76.8  76.8\n",
      "  76.8  76.8  76.8]\n"
     ]
    }
   ],
   "source": [
    "print(V)"
   ]
  },
  {
   "cell_type": "code",
   "execution_count": 26,
   "metadata": {
    "collapsed": false
   },
   "outputs": [
    {
     "name": "stdout",
     "output_type": "stream",
     "text": [
      "76.8\n"
     ]
    }
   ],
   "source": [
    "V_min = numpy.min(V)\n",
    "print(V_min)"
   ]
  },
  {
   "cell_type": "code",
   "execution_count": null,
   "metadata": {
    "collapsed": true
   },
   "outputs": [],
   "source": []
  }
 ],
 "metadata": {
  "kernelspec": {
   "display_name": "Python 3",
   "language": "python",
   "name": "python3"
  },
  "language_info": {
   "codemirror_mode": {
    "name": "ipython",
    "version": 3
   },
   "file_extension": ".py",
   "mimetype": "text/x-python",
   "name": "python",
   "nbconvert_exporter": "python",
   "pygments_lexer": "ipython3",
   "version": "3.4.3"
  }
 },
 "nbformat": 4,
 "nbformat_minor": 0
}
