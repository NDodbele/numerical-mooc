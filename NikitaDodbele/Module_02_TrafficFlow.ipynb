{
 "cells": [
  {
   "cell_type": "code",
   "execution_count": 40,
   "metadata": {
    "collapsed": true
   },
   "outputs": [],
   "source": [
    "import numpy\n",
    "from matplotlib import pyplot\n",
    "%matplotlib inline\n",
    "from matplotlib import rcParams\n",
    "rcParams['font.family'] = 'serif'\n",
    "rcParams['font.size'] = 16"
   ]
  },
  {
   "cell_type": "code",
   "execution_count": 41,
   "metadata": {
    "collapsed": true
   },
   "outputs": [],
   "source": [
    "#Given conditions\n",
    "\n",
    "V_max = 136.#*1000/3600 #m/s\n",
    "L = 11. #km\n",
    "rho_max = 250. #cars/km\n",
    "nx = 51\n",
    "dt = 0.001 #hours\n",
    "dx = L/(nx-1)\n",
    "nt = 25"
   ]
  },
  {
   "cell_type": "code",
   "execution_count": 42,
   "metadata": {
    "collapsed": true
   },
   "outputs": [],
   "source": [
    "#Initial conditions for traffic density\n",
    "\n",
    "x = numpy.linspace(0, L, nx)\n",
    "rho0 = numpy.ones(nx)*20\n",
    "rho0[10:20] = 50"
   ]
  },
  {
   "cell_type": "code",
   "execution_count": 43,
   "metadata": {
    "collapsed": false
   },
   "outputs": [],
   "source": [
    "rho = numpy.ones(nx)*20\n",
    "rho[10:20] = 50"
   ]
  },
  {
   "cell_type": "code",
   "execution_count": 44,
   "metadata": {
    "collapsed": false,
    "scrolled": true
   },
   "outputs": [],
   "source": [
    "for n in range(1, nt):\n",
    "    rho_n = rho.copy()\n",
    "    dF_dp = V_max*(1-(rho[1:]/rho_max))\n",
    "    rho[1:] = rho_n[1:] - dF_dp*dt/dx*(rho_n[1:]-rho_n[0:-1])"
   ]
  },
  {
   "cell_type": "code",
   "execution_count": 45,
   "metadata": {
    "collapsed": true
   },
   "outputs": [],
   "source": [
    "V = V_max*(1-(rho/rho_max))\n",
    "#V = dF_dp"
   ]
  },
  {
   "cell_type": "code",
   "execution_count": 46,
   "metadata": {
    "collapsed": false
   },
   "outputs": [
    {
     "name": "stdout",
     "output_type": "stream",
     "text": [
      "[ 34.75555556  34.75555556  34.75555556  34.75555556  34.75555556\n",
      "  34.75555556  34.75555556  34.75555556  34.75555556  34.75555556\n",
      "  34.75555554  34.7555552   34.75554996  34.75549836  34.75513389\n",
      "  34.7531648   34.74470374  34.71504627  34.62898162  34.42143437\n",
      "  34.00926128  33.348423    32.51049368  31.67676564  31.02007798\n",
      "  30.60719095  30.41212628  30.38358134  30.49074555  30.72864522\n",
      "  31.0998696   31.59460039  32.18087968  32.80596346  33.40536686\n",
      "  33.91725493  34.29972079  34.5440485   34.67415924  34.73041264\n",
      "  34.749582    34.75453232  34.75544315  34.75554961  34.75555556\n",
      "  34.75555556  34.75555556  34.75555556  34.75555556  34.75555556\n",
      "  34.75555556]\n"
     ]
    }
   ],
   "source": [
    "print(V*1000/3600)"
   ]
  },
  {
   "cell_type": "code",
   "execution_count": 47,
   "metadata": {
    "collapsed": false
   },
   "outputs": [
    {
     "name": "stdout",
     "output_type": "stream",
     "text": [
      "30.3835813358\n"
     ]
    }
   ],
   "source": [
    "V_min = numpy.min(V*1000/3600)\n",
    "print(V_min)"
   ]
  },
  {
   "cell_type": "code",
   "execution_count": 48,
   "metadata": {
    "collapsed": false
   },
   "outputs": [
    {
     "data": {
      "text/plain": [
       "[<matplotlib.lines.Line2D at 0x7f1410e45be0>]"
      ]
     },
     "execution_count": 48,
     "metadata": {},
     "output_type": "execute_result"
    },
    {
     "data": {
      "image/png": "[encoded data removed]",
      "text/plain": [
       "<matplotlib.figure.Figure at 0x7f1410f2a7b8>"
      ]
     },
     "metadata": {},
     "output_type": "display_data"
    }
   ],
   "source": [
    "pyplot.plot(x, V, color='#003366', ls = '--', lw=3)"
   ]
  },
  {
   "cell_type": "code",
   "execution_count": 49,
   "metadata": {
    "collapsed": false
   },
   "outputs": [
    {
     "name": "stdout",
     "output_type": "stream",
     "text": [
      "33.830191418\n"
     ]
    }
   ],
   "source": [
    "V_average = numpy.average(V*1000/3600)\n",
    "print (V_average)"
   ]
  },
  {
   "cell_type": "code",
   "execution_count": null,
   "metadata": {
    "collapsed": true
   },
   "outputs": [],
   "source": []
  }
 ],
 "metadata": {
  "kernelspec": {
   "display_name": "Python 3",
   "language": "python",
   "name": "python3"
  },
  "language_info": {
   "codemirror_mode": {
    "name": "ipython",
    "version": 3
   },
   "file_extension": ".py",
   "mimetype": "text/x-python",
   "name": "python",
   "nbconvert_exporter": "python",
   "pygments_lexer": "ipython3",
   "version": "3.4.3"
  }
 },
 "nbformat": 4,
 "nbformat_minor": 0
}
