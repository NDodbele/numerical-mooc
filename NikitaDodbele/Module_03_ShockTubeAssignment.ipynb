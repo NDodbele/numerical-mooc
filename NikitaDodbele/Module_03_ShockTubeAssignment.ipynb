{
 "cells": [
  {
   "cell_type": "code",
   "execution_count": 1,
   "metadata": {
    "collapsed": true
   },
   "outputs": [],
   "source": [
    "%matplotlib inline\n",
    "import numpy \n",
    "from matplotlib import pyplot as plt\n",
    "from matplotlib import rcParams\n",
    "rcParams['font.family'] = 'serif'\n",
    "rcParams['font.size'] = 16"
   ]
  },
  {
   "cell_type": "code",
   "execution_count": 2,
   "metadata": {
    "collapsed": true
   },
   "outputs": [],
   "source": [
    "#Parameters\n",
    "\n",
    "nx = 81\n",
    "dx = 0.25\n",
    "dt = 0.0002\n",
    "gamma = 1.4 \n",
    "nt = int(0.01/dt)+1\n",
    "x=numpy.linspace(-10,10,nx)"
   ]
  },
  {
   "cell_type": "code",
   "execution_count": 3,
   "metadata": {
    "collapsed": false
   },
   "outputs": [],
   "source": [
    "#Define rho with the initial conditions\n",
    "\n",
    "def rho_initial(nx):\n",
    "    \n",
    "    rho = numpy.zeros(nx)\n",
    "    rho[0:(nx-1)/2] = 1 #kg/m^3\n",
    "    rho[(nx-1)/2:nx] = 0.125 #kg/m^3\n",
    "    \n",
    "    return rho\n",
    "\n",
    "rho_initial = rho_initial(nx)\n",
    "#print(rho)"
   ]
  },
  {
   "cell_type": "code",
   "execution_count": 4,
   "metadata": {
    "collapsed": false
   },
   "outputs": [],
   "source": [
    "#Define u with the initial conditions\n",
    "\n",
    "#def u_initial():\n",
    "    \n",
    "u_initial = numpy.zeros(nx)\n",
    "    \n",
    "#    return u   \n",
    "\n",
    "#u = u_initial()\n",
    "#print(u)"
   ]
  },
  {
   "cell_type": "code",
   "execution_count": 5,
   "metadata": {
    "collapsed": false
   },
   "outputs": [],
   "source": [
    "#Define p with the initial conditions\n",
    "\n",
    "def p_initial(nx):\n",
    "    \n",
    "    p = numpy.zeros(nx)\n",
    "    p[0:(nx-1)/2] = 100*1000 #N/m^2\n",
    "    p[(nx-1)/2:nx] = 10*1000 #N/m^2\n",
    "    \n",
    "    return p\n",
    "\n",
    "p_initial = p_initial(nx)\n",
    "#print(p)"
   ]
  },
  {
   "cell_type": "code",
   "execution_count": 6,
   "metadata": {
    "collapsed": false
   },
   "outputs": [],
   "source": [
    "def getE(p, rho, u):\n",
    "    \n",
    "    e = p/((gamma-1)*rho)\n",
    "    e_t = e + (1/2*u**2)\n",
    "    \n",
    "    return e_t"
   ]
  },
  {
   "cell_type": "code",
   "execution_count": 7,
   "metadata": {
    "collapsed": false
   },
   "outputs": [],
   "source": [
    "e_t_initial = getE(p_initial, rho_initial, u_initial)\n",
    "#print(e_t_initial)"
   ]
  },
  {
   "cell_type": "code",
   "execution_count": 8,
   "metadata": {
    "collapsed": false
   },
   "outputs": [
    {
     "data": {
      "text/plain": [
       "(81,)"
      ]
     },
     "execution_count": 8,
     "metadata": {},
     "output_type": "execute_result"
    }
   ],
   "source": [
    "rho_initial.shape"
   ]
  },
  {
   "cell_type": "code",
   "execution_count": 9,
   "metadata": {
    "collapsed": false
   },
   "outputs": [],
   "source": [
    "def getU_vector(rho, u, e_t):\n",
    "\n",
    "    u_vector = numpy.zeros((nx, 3))\n",
    "    u_vector[:, 0] = rho\n",
    "    u_vector[:, 1] = rho*u\n",
    "    u_vector[:, 2] = rho*e_t\n",
    "    \n",
    "    return u_vector"
   ]
  },
  {
   "cell_type": "code",
   "execution_count": 10,
   "metadata": {
    "collapsed": false
   },
   "outputs": [],
   "source": [
    "u_vector_initial = getU_vector(rho_initial, u_initial, e_t_initial)"
   ]
  },
  {
   "cell_type": "code",
   "execution_count": 11,
   "metadata": {
    "collapsed": false
   },
   "outputs": [],
   "source": [
    "#u_vector_initial[:,1]/rho_initial==u_initial"
   ]
  },
  {
   "cell_type": "code",
   "execution_count": 12,
   "metadata": {
    "collapsed": false
   },
   "outputs": [],
   "source": [
    "def computeF(u_vector):\n",
    "\n",
    "    f_vector = numpy.zeros((nx, 3))\n",
    "     \n",
    "    f_vector[:, 0] = u_vector[:, 1]\n",
    "    f_vector[:, 1] = u_vector[:, 1]**2/u_vector[:, 0] + (gamma-1)*(u_vector[:, 2] - 0.5*u_vector[:, 1]**2/u_vector[:, 0])\n",
    "    f_vector[:, 2] = (u_vector[:, 2] + (gamma-1)*(u_vector[:, 2] - 0.5*u_vector[:, 1]**2/u_vector[:, 0]))*(u_vector[:, 1]/u_vector[:, 0])\n",
    "    \n",
    "    return f_vector"
   ]
  },
  {
   "cell_type": "code",
   "execution_count": 13,
   "metadata": {
    "collapsed": false
   },
   "outputs": [],
   "source": [
    "def richtmyer (u, nt, dt, dx):\n",
    "    un = numpy.zeros((nt, nx, 3))\n",
    "    un[:,:,:] = u.copy()\n",
    "    ustar = u.copy()\n",
    "   \n",
    "    for t in range(1, nt):\n",
    "             \n",
    "        #predictor\n",
    "        f = computeF(u)\n",
    "        \n",
    "        ustar[:-1,:] = 0.5*(u[1:,:] + u[:-1,:]) - dt/(2*dx)*(f[1:,:] - f[:-1,:])\n",
    "        \n",
    "        #corrector\n",
    "        fstar = computeF(ustar)\n",
    "        \n",
    "        un[t,1:-1,:] = u[1:-1,:] - dt/dx*(fstar[1:-1,:] - fstar[:-2,:])\n",
    "        \n",
    "        u = un[t,:,:].copy()\n",
    "        \n",
    "    return un"
   ]
  },
  {
   "cell_type": "code",
   "execution_count": 14,
   "metadata": {
    "collapsed": false
   },
   "outputs": [
    {
     "name": "stdout",
     "output_type": "stream",
     "text": [
      "(51, 81, 3)\n"
     ]
    }
   ],
   "source": [
    "a = richtmyer(u_vector_initial, nt, dt, dx)\n",
    "print(numpy.shape(a))"
   ]
  },
  {
   "cell_type": "code",
   "execution_count": 28,
   "metadata": {
    "collapsed": false
   },
   "outputs": [
    {
     "data": {
      "text/plain": [
       "(array([50]),)"
      ]
     },
     "execution_count": 28,
     "metadata": {},
     "output_type": "execute_result"
    }
   ],
   "source": [
    "numpy.where(x==2.5)"
   ]
  },
  {
   "cell_type": "code",
   "execution_count": 28,
   "metadata": {
    "collapsed": false
   },
   "outputs": [
    {
     "name": "stdout",
     "output_type": "stream",
     "text": [
      "the velocity at x = 2.5 is:\n",
      "292.611471527\n"
     ]
    }
   ],
   "source": [
    "#find final velocity\n",
    "v_final=a[nt-1,:,1]/a[nt-1,:,0]\n",
    "\n",
    "print(\"the velocity at x = 2.5 is:\")\n",
    "print(v_final[50]) #nx=50"
   ]
  },
  {
   "cell_type": "code",
   "execution_count": 29,
   "metadata": {
    "collapsed": false
   },
   "outputs": [
    {
     "name": "stdout",
     "output_type": "stream",
     "text": [
      "the density at x = 2.5 is:\n",
      "0.374691402648\n"
     ]
    }
   ],
   "source": [
    "#find final density\n",
    "rho_final = a[nt-1,:,0]\n",
    "\n",
    "print(\"the density at x = 2.5 is:\")\n",
    "print(rho_final[50])"
   ]
  },
  {
   "cell_type": "code",
   "execution_count": 30,
   "metadata": {
    "collapsed": false
   },
   "outputs": [
    {
     "name": "stdout",
     "output_type": "stream",
     "text": [
      "the pressure at x = 2.5 is:\n",
      "30250.8901676\n"
     ]
    }
   ],
   "source": [
    "#find final pressure\n",
    "\n",
    "p_final = (gamma-1)*(a[nt-1, :, 2]-0.5*(a[nt-1, :, 1])**2/a[nt-1,:,0])\n",
    "\n",
    "print(\"the pressure at x = 2.5 is:\")\n",
    "print(p_final[50])"
   ]
  },
  {
   "cell_type": "code",
   "execution_count": null,
   "metadata": {
    "collapsed": true
   },
   "outputs": [],
   "source": []
  }
 ],
 "metadata": {
  "kernelspec": {
   "display_name": "Python 3",
   "language": "python",
   "name": "python3"
  },
  "language_info": {
   "codemirror_mode": {
    "name": "ipython",
    "version": 3
   },
   "file_extension": ".py",
   "mimetype": "text/x-python",
   "name": "python",
   "nbconvert_exporter": "python",
   "pygments_lexer": "ipython3",
   "version": "3.4.3"
  }
 },
 "nbformat": 4,
 "nbformat_minor": 0
}
