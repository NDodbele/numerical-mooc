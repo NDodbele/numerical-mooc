{
 "cells": [
  {
   "cell_type": "code",
   "execution_count": 82,
   "metadata": {
    "collapsed": true
   },
   "outputs": [],
   "source": [
    "%matplotlib inline\n",
    "import numpy \n",
    "from matplotlib import pyplot as plt\n",
    "from matplotlib import rcParams\n",
    "rcParams['font.family'] = 'serif'\n",
    "rcParams['font.size'] = 16"
   ]
  },
  {
   "cell_type": "code",
   "execution_count": 83,
   "metadata": {
    "collapsed": true
   },
   "outputs": [],
   "source": [
    "#Parameters\n",
    "\n",
    "nx = 81\n",
    "dx = 0.25\n",
    "dt = 0.0002\n",
    "gamma = 1.4 \n",
    "nt = int(0.01/dx)"
   ]
  },
  {
   "cell_type": "code",
   "execution_count": 84,
   "metadata": {
    "collapsed": false
   },
   "outputs": [],
   "source": [
    "#Define rho with the initial conditions\n",
    "\n",
    "def rho_initial():\n",
    "    \n",
    "    rho = numpy.zeros(nx)\n",
    "    rho[0:(nx-1)/2] = 1 #kg/m^3\n",
    "    rho[(nx-1)/2:nx] = 0.125 #kg/m^3\n",
    "    \n",
    "    return rho\n",
    "\n",
    "rho = rho_initial()\n",
    "#print(rho)"
   ]
  },
  {
   "cell_type": "code",
   "execution_count": 85,
   "metadata": {
    "collapsed": false
   },
   "outputs": [],
   "source": [
    "#Define u with the initial conditions\n",
    "\n",
    "def u_initial():\n",
    "    \n",
    "    u = numpy.zeros(nx)\n",
    "    u[0:(nx-1)/2] = 0 #m/s\n",
    "    u[(nx-1)/2:nx] = 0 #m/s\n",
    "    \n",
    "    return u   \n",
    "\n",
    "u = u_initial()\n",
    "#print(u)"
   ]
  },
  {
   "cell_type": "code",
   "execution_count": 86,
   "metadata": {
    "collapsed": false
   },
   "outputs": [],
   "source": [
    "#Define p with the initial conditions\n",
    "\n",
    "def p_initial():\n",
    "    \n",
    "    p = numpy.zeros(nx)\n",
    "    p[0:(nx-1)/2] = 100 #kN/m^2\n",
    "    p[(nx-1)/2:nx] = 10 #kN/m^2\n",
    "    \n",
    "    return p\n",
    "\n",
    "p = p_initial()\n",
    "#print(p)"
   ]
  },
  {
   "cell_type": "code",
   "execution_count": 87,
   "metadata": {
    "collapsed": false
   },
   "outputs": [],
   "source": [
    "e = p/((gamma-1)*rho)\n",
    "e_t = e + (1/2*u**2)"
   ]
  },
  {
   "cell_type": "code",
   "execution_count": 88,
   "metadata": {
    "collapsed": false
   },
   "outputs": [],
   "source": [
    "def computeF(u_vector):\n",
    "    \n",
    "    u1 = rho\n",
    "    u2 = rho*u\n",
    "    u3 = rho*e_t\n",
    "    \n",
    "    u_vector = numpy.array([u1, u2, u3])\n",
    "    \n",
    "    f1 = u_vector[1]\n",
    "    f2 = u_vector[1]**2/u_vector[0] + (gamma-1)*(u_vector[2] - 0.5*u_vector[1]**2/u_vector[0])\n",
    "    f3 = (u_vector[2] + (gamma-1)*(u_vector[2] - 0.5*u_vector[1]**2/u_vector[0]))*(u_vector[1]/u_vector[0])\n",
    "    \n",
    "    return numpy.array([f1, f2, f3])"
   ]
  },
  {
   "cell_type": "code",
   "execution_count": 89,
   "metadata": {
    "collapsed": false
   },
   "outputs": [],
   "source": [
    "def richtmyer (u, nt, dt, dx):\n",
    "    un = numpy.zeros((nt, len(rho)))\n",
    "    un[:] = u.copy()\n",
    "    ustar = u.copy()\n",
    "   \n",
    "    \"\"\"\n",
    "    u1 = rho\n",
    "    u2 = rho*u\n",
    "    u3 = rho*e_t\n",
    "    \n",
    "    u_vector = numpy.array([u1, u2, u3])\n",
    "\n",
    "    \"\"\"\n",
    "\n",
    "    for t in range(1, nt):\n",
    "             \n",
    "        #predictor\n",
    "        f = computeF(u)\n",
    "        \n",
    "        ustar[:,:-1] = 0.5*(u[1:,1:] + u[:,:]) - dt/(2*dx)(f[2:, 2:] - f[:-2, :-2])\n",
    "        \n",
    "        #corrector\n",
    "        fstar = computeF(ustar)\n",
    "        \n",
    "        un[t,:,:-1] = u[:-1, :] - dt/dx(fstar[1:,1:] - fstar[:-1, :-1])\n",
    "        \n",
    "        u = un[t,:,:].copy()\n",
    "        \n",
    "    return un"
   ]
  },
  {
   "cell_type": "code",
   "execution_count": 90,
   "metadata": {
    "collapsed": false
   },
   "outputs": [
    {
     "name": "stdout",
     "output_type": "stream",
     "text": [
      "[]\n"
     ]
    }
   ],
   "source": [
    "a = richtmyer(u, nt, dt, dx)\n",
    "print(a)"
   ]
  },
  {
   "cell_type": "code",
   "execution_count": 91,
   "metadata": {
    "collapsed": false
   },
   "outputs": [
    {
     "name": "stdout",
     "output_type": "stream",
     "text": [
      "1.0\n",
      "0.0\n",
      "100.0\n"
     ]
    }
   ],
   "source": [
    "print(rho[20])\n",
    "print(u[20])\n",
    "print(p[20])"
   ]
  },
  {
   "cell_type": "code",
   "execution_count": null,
   "metadata": {
    "collapsed": true
   },
   "outputs": [],
   "source": []
  }
 ],
 "metadata": {
  "kernelspec": {
   "display_name": "Python 3",
   "language": "python",
   "name": "python3"
  },
  "language_info": {
   "codemirror_mode": {
    "name": "ipython",
    "version": 3
   },
   "file_extension": ".py",
   "mimetype": "text/x-python",
   "name": "python",
   "nbconvert_exporter": "python",
   "pygments_lexer": "ipython3",
   "version": "3.4.3"
  }
 },
 "nbformat": 4,
 "nbformat_minor": 0
}
