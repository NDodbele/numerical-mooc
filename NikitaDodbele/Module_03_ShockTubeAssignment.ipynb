{
 "cells": [
  {
   "cell_type": "code",
   "execution_count": 57,
   "metadata": {
    "collapsed": true
   },
   "outputs": [],
   "source": [
    "%matplotlib inline\n",
    "import numpy \n",
    "from matplotlib import pyplot\n",
    "from matplotlib import rcParams\n",
    "rcParams['font.family'] = 'serif'\n",
    "rcParams['font.size'] = 16"
   ]
  },
  {
   "cell_type": "code",
   "execution_count": 58,
   "metadata": {
    "collapsed": true
   },
   "outputs": [],
   "source": [
    "#Parameters\n",
    "\n",
    "nx = 81\n",
    "dx = 0.25\n",
    "dt = 0.0002\n",
    "gamma = 1.4 \n",
    "nt = 0.01/dx"
   ]
  },
  {
   "cell_type": "code",
   "execution_count": 59,
   "metadata": {
    "collapsed": false
   },
   "outputs": [],
   "source": [
    "#Define rho with the initial conditions\n",
    "\n",
    "def rho_initial():\n",
    "    \n",
    "    rho = numpy.zeros(nx)\n",
    "    rho[0:(nx-1)/2] = 1 #kg/m^3\n",
    "    rho[(nx-1)/2:nx] = 0.125 #kg/m^3\n",
    "    \n",
    "    return rho\n",
    "\n",
    "#rho = rho_initial()\n",
    "#print(rho)"
   ]
  },
  {
   "cell_type": "code",
   "execution_count": 60,
   "metadata": {
    "collapsed": false
   },
   "outputs": [],
   "source": [
    "#Define u with the initial conditions\n",
    "\n",
    "def u_initial():\n",
    "    \n",
    "    u = numpy.zeros(nx)\n",
    "    u[0:(nx-1)/2] = 0 #m/s\n",
    "    u[(nx-1)/2:nx] = 0 #m/s\n",
    "    \n",
    "    return u   \n",
    "\n",
    "#u = u_initial()\n",
    "#print(u)"
   ]
  },
  {
   "cell_type": "code",
   "execution_count": 61,
   "metadata": {
    "collapsed": false
   },
   "outputs": [],
   "source": [
    "#Define p with the initial conditions\n",
    "\n",
    "def p_initial():\n",
    "    \n",
    "    p = numpy.zeros(nx)\n",
    "    p[0:(nx-1)/2] = 100 #kN/m^2\n",
    "    p[(nx-1)/2:nx] = 10 #kN/m^2\n",
    "    \n",
    "    return p\n",
    "\n",
    "#p = p_initial()\n",
    "#print(p)"
   ]
  },
  {
   "cell_type": "code",
   "execution_count": 62,
   "metadata": {
    "collapsed": true
   },
   "outputs": [],
   "source": [
    "def richtmyer (nx, dt, dx, nt):\n",
    "    u = numpy.zeros((nt, len(rho)))\n",
    "    u[:] = u.copy()\n",
    "    u_i = u.copy()\n",
    "    \n",
    "    e_t = e + (1/2*u**2)\n",
    "    e = p/((gamma-1)*rho)\n",
    "    \n",
    "    u1 = rho\n",
    "    u2 = rho*u\n",
    "    u3 = rho*e_t\n",
    "\n",
    "    for n in range(nt) (-10, 10):\n",
    "        u_i[:,:-1] = 0.5*(u[1:,1] + u[:,:]) - dt/(2*dx)(f[2:, 2:] - f[:-2, :-2])\n",
    "        u_plus[:,:-1] = u[:-1,:] - dt/dx(f[1:,1:] - f[:-1, :-1])\n",
    "        u_copy = u_copy.copy()\n",
    "        \n",
    "    return u"
   ]
  },
  {
   "cell_type": "code",
   "execution_count": 63,
   "metadata": {
    "collapsed": true
   },
   "outputs": [],
   "source": [
    "def computeF(u_plus):\n",
    "    \n",
    "    f1 = u2\n",
    "    f2 = u2**2/u1 + (gamma-1)*(u3 - 0.5*u2**2/u1)\n",
    "    f3 = (u3 + (gamma-1)*(u3 - 0.5*u2**2/u1))*(u2/u1)\n",
    "    \n",
    "    return numpy.array([f1, f2, f3])"
   ]
  },
  {
   "cell_type": "code",
   "execution_count": 64,
   "metadata": {
    "collapsed": false
   },
   "outputs": [],
   "source": [
    "def u_plus():\n",
    "    rho = u[0]\n",
    "    u = u[1]\n",
    "    p = u[2]\n",
    "    return numpy.array([rho, rho*u, rho*e_t])"
   ]
  },
  {
   "cell_type": "code",
   "execution_count": null,
   "metadata": {
    "collapsed": true
   },
   "outputs": [],
   "source": []
  }
 ],
 "metadata": {
  "kernelspec": {
   "display_name": "Python 3",
   "language": "python",
   "name": "python3"
  },
  "language_info": {
   "codemirror_mode": {
    "name": "ipython",
    "version": 3
   },
   "file_extension": ".py",
   "mimetype": "text/x-python",
   "name": "python",
   "nbconvert_exporter": "python",
   "pygments_lexer": "ipython3",
   "version": "3.4.3"
  }
 },
 "nbformat": 4,
 "nbformat_minor": 0
}
