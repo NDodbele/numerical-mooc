{
 "cells": [
  {
   "cell_type": "code",
   "execution_count": 10,
   "metadata": {
    "collapsed": true
   },
   "outputs": [],
   "source": [
    "%matplotlib inline\n",
    "import numpy \n",
    "from matplotlib import pyplot as plt\n",
    "from matplotlib import rcParams\n",
    "rcParams['font.family'] = 'serif'\n",
    "rcParams['font.size'] = 16"
   ]
  },
  {
   "cell_type": "code",
   "execution_count": 11,
   "metadata": {
    "collapsed": true
   },
   "outputs": [],
   "source": [
    "#Parameters\n",
    "\n",
    "nx = 81\n",
    "dx = 0.25\n",
    "dt = 0.0002\n",
    "gamma = 1.4 \n",
    "nt = int(0.01/dx)"
   ]
  },
  {
   "cell_type": "code",
   "execution_count": 12,
   "metadata": {
    "collapsed": false
   },
   "outputs": [],
   "source": [
    "#Define rho with the initial conditions\n",
    "\n",
    "def rho_initial():\n",
    "    \n",
    "    rho = numpy.zeros(nx)\n",
    "    rho[0:(nx-1)/2] = 1 #kg/m^3\n",
    "    rho[(nx-1)/2:nx] = 0.125 #kg/m^3\n",
    "    \n",
    "    return rho\n",
    "\n",
    "#rho = rho_initial()\n",
    "#print(rho)"
   ]
  },
  {
   "cell_type": "code",
   "execution_count": 13,
   "metadata": {
    "collapsed": false
   },
   "outputs": [],
   "source": [
    "#Define u with the initial conditions\n",
    "\n",
    "def u_initial():\n",
    "    \n",
    "    u = numpy.zeros(nx)\n",
    "    u[0:(nx-1)/2] = 0 #m/s\n",
    "    u[(nx-1)/2:nx] = 0 #m/s\n",
    "    \n",
    "    return u   \n",
    "\n",
    "#u = u_initial()\n",
    "#print(u)"
   ]
  },
  {
   "cell_type": "code",
   "execution_count": 14,
   "metadata": {
    "collapsed": false
   },
   "outputs": [],
   "source": [
    "#Define p with the initial conditions\n",
    "\n",
    "def p_initial():\n",
    "    \n",
    "    p = numpy.zeros(nx)\n",
    "    p[0:(nx-1)/2] = 100 #kN/m^2\n",
    "    p[(nx-1)/2:nx] = 10 #kN/m^2\n",
    "    \n",
    "    return p\n",
    "\n",
    "#p = p_initial()\n",
    "#print(p)"
   ]
  },
  {
   "cell_type": "code",
   "execution_count": 16,
   "metadata": {
    "collapsed": false
   },
   "outputs": [
    {
     "ename": "NameError",
     "evalue": "name 'p' is not defined",
     "output_type": "error",
     "traceback": [
      "\u001b[1;31m---------------------------------------------------------------------------\u001b[0m",
      "\u001b[1;31mNameError\u001b[0m                                 Traceback (most recent call last)",
      "\u001b[1;32m<ipython-input-16-326eb517af72>\u001b[0m in \u001b[0;36m<module>\u001b[1;34m()\u001b[0m\n\u001b[1;32m----> 1\u001b[1;33m \u001b[0me\u001b[0m \u001b[1;33m=\u001b[0m \u001b[0mp\u001b[0m\u001b[1;33m/\u001b[0m\u001b[1;33m(\u001b[0m\u001b[1;33m(\u001b[0m\u001b[0mgamma\u001b[0m\u001b[1;33m-\u001b[0m\u001b[1;36m1\u001b[0m\u001b[1;33m)\u001b[0m\u001b[1;33m*\u001b[0m\u001b[0mrho\u001b[0m\u001b[1;33m)\u001b[0m\u001b[1;33m\u001b[0m\u001b[0m\n\u001b[0m\u001b[0;32m      2\u001b[0m \u001b[0me_t\u001b[0m \u001b[1;33m=\u001b[0m \u001b[0me\u001b[0m \u001b[1;33m+\u001b[0m \u001b[1;33m(\u001b[0m\u001b[1;36m1\u001b[0m\u001b[1;33m/\u001b[0m\u001b[1;36m2\u001b[0m\u001b[1;33m*\u001b[0m\u001b[0mu\u001b[0m\u001b[1;33m**\u001b[0m\u001b[1;36m2\u001b[0m\u001b[1;33m)\u001b[0m\u001b[1;33m\u001b[0m\u001b[0m\n",
      "\u001b[1;31mNameError\u001b[0m: name 'p' is not defined"
     ]
    }
   ],
   "source": [
    "e = p/((gamma-1)*rho)\n",
    "e_t = e + (1/2*u**2)"
   ]
  },
  {
   "cell_type": "code",
   "execution_count": 17,
   "metadata": {
    "collapsed": true
   },
   "outputs": [],
   "source": [
    "def richtmyer (u, nt, dt, dx):\n",
    "    un = numpy.zeros((nt, len(rho)))\n",
    "    un[:] = u.copy()\n",
    "    ustar = u.copy()\n",
    "    \n",
    "  \n",
    "    \n",
    "    u1 = rho\n",
    "    u2 = rho*u\n",
    "    u3 = rho*e_t\n",
    "\n",
    "    for t in range(1, nt):\n",
    "             \n",
    "        #predictor\n",
    "        f = computeF(u)\n",
    "        \n",
    "        ustar[:,:-1] = 0.5*(u[1:,1:] + u[:,:]) - dt/(2*dx)(f[2:, 2:] - f[:-2, :-2])\n",
    "        \n",
    "        #corrector\n",
    "        fstar = computeF(ustar)\n",
    "        \n",
    "        un[t,:,:-1] = u[:-1, :] - dt/dx(fstar[1:,1:] - fstar[:-1, :-1])\n",
    "        \n",
    "        u = un[t,:,:].copy()\n",
    "        \n",
    "    return un"
   ]
  },
  {
   "cell_type": "code",
   "execution_count": 18,
   "metadata": {
    "collapsed": false
   },
   "outputs": [],
   "source": [
    "def computeF(ustar):\n",
    "    \n",
    "    f1 = u2\n",
    "    f2 = u2**2/u1 + (gamma-1)*(u3 - 0.5*u2**2/u1)\n",
    "    f3 = (u3 + (gamma-1)*(u3 - 0.5*u2**2/u1))*(u2/u1)\n",
    "    \n",
    "    return numpy.array([f1, f2, f3])"
   ]
  },
  {
   "cell_type": "code",
   "execution_count": 19,
   "metadata": {
    "collapsed": false
   },
   "outputs": [
    {
     "ename": "NameError",
     "evalue": "name 'u' is not defined",
     "output_type": "error",
     "traceback": [
      "\u001b[1;31m---------------------------------------------------------------------------\u001b[0m",
      "\u001b[1;31mNameError\u001b[0m                                 Traceback (most recent call last)",
      "\u001b[1;32m<ipython-input-19-8cf4abe5575f>\u001b[0m in \u001b[0;36m<module>\u001b[1;34m()\u001b[0m\n\u001b[1;32m----> 1\u001b[1;33m \u001b[0ma\u001b[0m \u001b[1;33m=\u001b[0m \u001b[0mrichtmyer\u001b[0m\u001b[1;33m(\u001b[0m\u001b[0mu\u001b[0m\u001b[1;33m,\u001b[0m \u001b[0mnt\u001b[0m\u001b[1;33m,\u001b[0m \u001b[0mdt\u001b[0m\u001b[1;33m,\u001b[0m \u001b[0mdx\u001b[0m\u001b[1;33m)\u001b[0m\u001b[1;33m\u001b[0m\u001b[0m\n\u001b[0m",
      "\u001b[1;31mNameError\u001b[0m: name 'u' is not defined"
     ]
    }
   ],
   "source": [
    "a = richtmyer(u, nt, dt, dx)"
   ]
  },
  {
   "cell_type": "code",
   "execution_count": 9,
   "metadata": {
    "collapsed": false
   },
   "outputs": [
    {
     "ename": "NameError",
     "evalue": "name 'rho' is not defined",
     "output_type": "error",
     "traceback": [
      "\u001b[1;31m---------------------------------------------------------------------------\u001b[0m",
      "\u001b[1;31mNameError\u001b[0m                                 Traceback (most recent call last)",
      "\u001b[1;32m<ipython-input-9-1da2f52e7fe5>\u001b[0m in \u001b[0;36m<module>\u001b[1;34m()\u001b[0m\n\u001b[1;32m----> 1\u001b[1;33m \u001b[0mprint\u001b[0m\u001b[1;33m(\u001b[0m\u001b[0mrho\u001b[0m\u001b[1;33m[\u001b[0m\u001b[1;36m50\u001b[0m\u001b[1;33m]\u001b[0m\u001b[1;33m)\u001b[0m\u001b[1;33m\u001b[0m\u001b[0m\n\u001b[0m\u001b[0;32m      2\u001b[0m \u001b[0mprint\u001b[0m\u001b[1;33m(\u001b[0m\u001b[0mu\u001b[0m\u001b[1;33m[\u001b[0m\u001b[1;36m20\u001b[0m\u001b[1;33m]\u001b[0m\u001b[1;33m)\u001b[0m\u001b[1;33m\u001b[0m\u001b[0m\n\u001b[0;32m      3\u001b[0m \u001b[0mprint\u001b[0m\u001b[1;33m(\u001b[0m\u001b[0mp\u001b[0m\u001b[1;33m[\u001b[0m\u001b[1;36m20\u001b[0m\u001b[1;33m]\u001b[0m\u001b[1;33m)\u001b[0m\u001b[1;33m\u001b[0m\u001b[0m\n",
      "\u001b[1;31mNameError\u001b[0m: name 'rho' is not defined"
     ]
    }
   ],
   "source": [
    "print(rho[50])\n",
    "print(u[20])\n",
    "print(p[20])"
   ]
  },
  {
   "cell_type": "code",
   "execution_count": null,
   "metadata": {
    "collapsed": true
   },
   "outputs": [],
   "source": []
  }
 ],
 "metadata": {
  "kernelspec": {
   "display_name": "Python 3",
   "language": "python",
   "name": "python3"
  },
  "language_info": {
   "codemirror_mode": {
    "name": "ipython",
    "version": 3
   },
   "file_extension": ".py",
   "mimetype": "text/x-python",
   "name": "python",
   "nbconvert_exporter": "python",
   "pygments_lexer": "ipython3",
   "version": "3.4.3"
  }
 },
 "nbformat": 4,
 "nbformat_minor": 0
}
