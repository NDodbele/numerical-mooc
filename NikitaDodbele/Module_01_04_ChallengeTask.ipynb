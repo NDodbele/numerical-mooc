{
 "cells": [
  {
   "cell_type": "markdown",
   "metadata": {},
   "source": [
    "Challenge detailed at bottom"
   ]
  },
  {
   "cell_type": "code",
   "execution_count": 2,
   "metadata": {
    "collapsed": true
   },
   "outputs": [],
   "source": [
    "from math import sin, cos, log\n",
    "import numpy\n",
    "from matplotlib import pyplot\n",
    "%matplotlib inline\n",
    "from matplotlib import rcParams\n",
    "rcParams['font.family']= 'serif'\n",
    "rcParams['font.size'] = 16\n",
    "import timeit"
   ]
  },
  {
   "cell_type": "code",
   "execution_count": 3,
   "metadata": {
    "collapsed": true
   },
   "outputs": [],
   "source": [
    "#model parameters:\n",
    "g = 9.8 #gravity in ms^{-2}\n",
    "v_t = 4.9 #trim velocity in m^s^{-1}\n",
    "C_D = 1/5.0 #drag coefficient === or D/L if C_L=1\n",
    "C_L = 1.0 #for coenvenience, use C_L = 1\n",
    "\n",
    "### set initial conditions ###\n",
    "v0 = 6.5 #start at the trim velocity (or add a delta)\n",
    "theta0 = -0.1 #initial angle of trajectory\n",
    "x0 = 0.0 #horizontal position is arbitrary\n",
    "y0 = 2.0 #intial altitude"
   ]
  },
  {
   "cell_type": "code",
   "execution_count": 4,
   "metadata": {
    "collapsed": false
   },
   "outputs": [
    {
     "name": "stdout",
     "output_type": "stream",
     "text": [
      "0.0002685799263417721\n"
     ]
    }
   ],
   "source": [
    "def f(u):\n",
    "    \n",
    "    v = u[0]\n",
    "    theta = u[1]\n",
    "    x = u[2]\n",
    "    y = u[3]\n",
    "    return numpy.array([-g*sin(theta)-C_D/C_L*g/v_t**2*v**2, -g*cos(theta)/v+g/v_t**2*v, v*cos(theta), v*sin(theta)])\n",
    "\n",
    "#define Euler function and set timer\n",
    "\n",
    "startEuler = timeit.default_timer()\n",
    "\n",
    "def euler_step(u, f, dt):\n",
    "    \n",
    "    return u + dt * f(u)\n",
    "\n",
    "stopEuler = timeit.default_timer()\n",
    "\n",
    "#print (stopEuler - startEuler) \n",
    "\n",
    "def get_diffgrid(u_current, u_fine, dt):\n",
    "    \n",
    "    N_current = len(u_current[:,0])\n",
    "    N_fine = len(u_fine[:,0])\n",
    "    \n",
    "    grid_size_ratio = numpy.ceil(N_fine/N_current)\n",
    "    \n",
    "    diffgrid = dt*numpy.sum(numpy.abs(u_current[:,2]-u_fine[::grid_size_ratio, 2]))\n",
    "    \n",
    "    return diffgrid"
   ]
  },
  {
   "cell_type": "code",
   "execution_count": 5,
   "metadata": {
    "collapsed": false
   },
   "outputs": [
    {
     "name": "stdout",
     "output_type": "stream",
     "text": [
      "0.0003508268855512142\n"
     ]
    }
   ],
   "source": [
    "#Define Runge-Kutta function and set timer\n",
    "\n",
    "startRK2 = timeit.default_timer()\n",
    "\n",
    "def rk2_step(u, f, dt):\n",
    "    \n",
    "    u_star = u + 0.5*dt*f(u)\n",
    "    return u + dt*f(u_star)\n",
    "\n",
    "stopRK2 = timeit.default_timer()\n",
    "\n",
    "#print (stopRK2 - startRK2)"
   ]
  },
  {
   "cell_type": "code",
   "execution_count": 8,
   "metadata": {
    "collapsed": false
   },
   "outputs": [],
   "source": [
    "#set time-increment and discretize the time\n",
    "T = 15.0 #final time\n",
    "dt = 0.01  #set time increment\n",
    "N = int(T/dt) + 1  #number of time-steps\n",
    "\n",
    "\n",
    "#set initial conditions\n",
    "u_euler = numpy.empty((N, 4))\n",
    "u_rk2 = numpy.empty((N,4))\n",
    "\n",
    "\n",
    "#initialize the array containing the solution for each time-step\n",
    "u_euler[0] = numpy.array([v0, theta0, x0, y0])\n",
    "u_rk2[0] = numpy.array([v0, theta0, x0, y0])\n",
    "\n",
    "#use a for loop to call the function rk2_step()\n",
    "for n in range(N-1):\n",
    "    \n",
    "    u_euler[n+1] = euler_step(u_euler[n],f,dt)\n",
    "    u_rk2[n+1] = rk2_step(u_rk2[n],f,dt)"
   ]
  },
  {
   "cell_type": "code",
   "execution_count": 9,
   "metadata": {
    "collapsed": true
   },
   "outputs": [],
   "source": [
    "x_euler = u_euler[:,2]\n",
    "y_euler = u_euler[:,3]\n",
    "x_rk2 = u_rk2[:,2]\n",
    "y_rk2 = u_rk2[:,3]"
   ]
  },
  {
   "cell_type": "code",
   "execution_count": 10,
   "metadata": {
    "collapsed": true
   },
   "outputs": [],
   "source": [
    "#get the index of element of y where altitude becomes negative\n",
    "idx_negative_euler = numpy.where(y_euler<0.0)[0]\n",
    "if len(idx_negative_euler)==0:\n",
    "    idx_ground_euler = N-1\n",
    "    print('Euler integration has not touched ground yet!')\n",
    "else:\n",
    "    idx_ground_euler = idx_negative_euler[0]\n",
    "\n",
    "idx_negative_rk2 = numpy.where(y_rk2<0.0)[0]\n",
    "if len(idx_negative_rk2)==0:\n",
    "    idx_ground_rk2 = N-1\n",
    "    print('Runge-Kutta integration has not touched ground yet!')\n",
    "else:\n",
    "    idx_ground_rk2 = idx_negative_rk2[0]"
   ]
  },
  {
   "cell_type": "code",
   "execution_count": 11,
   "metadata": {
    "collapsed": false
   },
   "outputs": [
    {
     "name": "stdout",
     "output_type": "stream",
     "text": [
      "Are the x-values close? False\n",
      "Are the y-values close? False\n"
     ]
    }
   ],
   "source": [
    "#check to see if paths match\n",
    "print('Are the x-values close? {}'.format(numpy.allclose(x_euler, x_rk2)))\n",
    "print('Are the y-values close? {}'.format(numpy.allclose(y_euler, y_rk2)))"
   ]
  },
  {
   "cell_type": "code",
   "execution_count": 13,
   "metadata": {
    "collapsed": false
   },
   "outputs": [
    {
     "data": {
      "image/png": "[encoded data removed]",
      "text/plain": [
       "<matplotlib.figure.Figure at 0x7f20f490a898>"
      ]
     },
     "metadata": {},
     "output_type": "display_data"
    }
   ],
   "source": [
    "#plot the glider path\n",
    "pyplot.figure(figsize=(10,6))\n",
    "pyplot.subplot(121)\n",
    "pyplot.grid(True)\n",
    "pyplot.xlabel('$x$')\n",
    "pyplot.ylabel('$y$')\n",
    "pyplot.plot(x_euler[:idx_ground_euler],y_euler[:idx_ground_euler],'k-', label='Euler')\n",
    "pyplot.plot(x_rk2[:idx_ground_rk2], y_rk2[:idx_ground_rk2],'r--', label='RK2')\n",
    "pyplot.title('distance traveled: {:.3f}'.format(x_rk2[idx_ground_rk2-1]))\n",
    "\n",
    "#Let's take a closer look!\n",
    "pyplot.subplot(122)\n",
    "pyplot.grid(True)\n",
    "pyplot.xlabel('$x$')\n",
    "pyplot.ylabel('$y$')\n",
    "pyplot.plot(x_euler, y_euler, 'k-', label='Euler')\n",
    "pyplot.plot(x_rk2, y_rk2, 'r--', label='RK2')\n",
    "pyplot.xlim(0,5)\n",
    "pyplot.ylim(1.8, 2.5);"
   ]
  },
  {
   "cell_type": "code",
   "execution_count": 14,
   "metadata": {
    "collapsed": true
   },
   "outputs": [],
   "source": [
    "# use a for-loop to compute the solution on different grids\n",
    "dt_values = numpy.array([0.1,0.05,0.01,0.005,0.001])\n",
    "\n",
    "u_values = numpy.empty_like(dt_values, dtype=numpy.ndarray)\n",
    "\n",
    "for i, dt in enumerate(dt_values):\n",
    "    \n",
    "    N = int(T/dt) + 1  #number of time-steps\n",
    "    \n",
    "    ###discretize the time t ###\n",
    "    t = numpy.linspace(0.0, T, N)\n",
    "    \n",
    "    #initialize the array containing the solution for each time-step\n",
    "    u = numpy.empty((N,4))\n",
    "    u[0]=numpy.array([v0, theta0, x0, y0])\n",
    "    \n",
    "    #time loop\n",
    "    for n in range(N-1):\n",
    "        u[n+1]=rk2_step(u[n],f, dt)\n",
    "        \n",
    "    #store the value of u to one grid\n",
    "    u_values[i] = u"
   ]
  },
  {
   "cell_type": "code",
   "execution_count": 15,
   "metadata": {
    "collapsed": true
   },
   "outputs": [],
   "source": [
    "#compute diffgrid\n",
    "diffgrid = numpy.empty_like(dt_values)\n",
    "for i, dt in enumerate(dt_values):\n",
    "    \n",
    "    diffgrid[i]=get_diffgrid(u_values[i],u_values[-1], dt)"
   ]
  },
  {
   "cell_type": "code",
   "execution_count": 16,
   "metadata": {
    "collapsed": false
   },
   "outputs": [
    {
     "data": {
      "image/png": "[encoded data removed]",
      "text/plain": [
       "<matplotlib.figure.Figure at 0x7f20f462e588>"
      ]
     },
     "metadata": {},
     "output_type": "display_data"
    }
   ],
   "source": [
    "# plot using the matplotlib function loglog()\n",
    "pyplot.figure(figsize=(6,6))\n",
    "pyplot.grid(True)\n",
    "pyplot.xlabel(r'$Delta t$', fontsize=18)\n",
    "pyplot.ylabel(r'$L_1$-norm of the grid differences', fontsize=18)\n",
    "pyplot.xlim(1e-4, 1)\n",
    "pyplot.ylim(1e-4, 1)\n",
    "pyplot.axis('equal')\n",
    "pyplot.loglog(dt_values[:-1], diffgrid[:-1], color='k', ls='--', lw = 2, marker ='o');"
   ]
  },
  {
   "cell_type": "code",
   "execution_count": 18,
   "metadata": {
    "collapsed": false
   },
   "outputs": [
    {
     "name": "stdout",
     "output_type": "stream",
     "text": [
      "The order of converngence is alpha = 1.983\n"
     ]
    }
   ],
   "source": [
    "#check convergence rate\n",
    "r = 2\n",
    "h = 0.001\n",
    "\n",
    "dt_values = numpy.array([h, r*h, r**2*h])\n",
    "\n",
    "u_values = numpy.empty_like(dt_values, dtype = numpy.ndarray)\n",
    "\n",
    "for i, dt in enumerate(dt_values):\n",
    "    N = int(T/dt)+1  #number of time-steps\n",
    "    \n",
    "    ###discretize the time t ###\n",
    "    t = numpy.linspace(0.0, T, N)\n",
    "    \n",
    "    #initialize the array containing the solution for each time-step\n",
    "    u = numpy.empty ((N,4))\n",
    "    u[0]= numpy.array([v0, theta0, x0, y0])\n",
    "    \n",
    "    #time loop\n",
    "    for n in range(N-1):\n",
    "        ###call rk2_step() ###\n",
    "        u[n+1]=rk2_step(u[n], f, dt)\n",
    "        \n",
    "        #store the value of u related to one grid\n",
    "        u_values[i] = u\n",
    "        \n",
    "#calculate the order of convergence\n",
    "alpha = (log(get_diffgrid(u_values[2], u_values[1], dt_values[2]))-log(get_diffgrid(u_values[1], u_values[0], dt_values[1])))/log(r)\n",
    "\n",
    "print('The order of converngence is alpha = {:.3f}'.format(alpha))"
   ]
  },
  {
   "cell_type": "code",
   "execution_count": 19,
   "metadata": {
    "collapsed": true
   },
   "outputs": [],
   "source": [
    "def leapfrog_step (unm1, u, f, dt):\n",
    "    \n",
    "    return unm1 + 2.0*dt*f(u)"
   ]
  },
  {
   "cell_type": "code",
   "execution_count": 20,
   "metadata": {
    "collapsed": true
   },
   "outputs": [],
   "source": [
    "#model parameters:\n",
    "g = 9.8 #gravity in ms^{-2}\n",
    "v_t = 4.9 #trim velocity in ms^{-1}\n",
    "C_D = 1/5.0 #drag coefficient -- or D/L if C_L=1\n",
    "C_L = 1.0 #for convenience, use C_L =1\n",
    "\n",
    "###set initial conditions ###\n",
    "v0 = 6.5 #start at the trim velocity (or add a delta)\n",
    "theta0 = -0.1 #initial angle of trajectory\n",
    "x0 = 0.0\n",
    "y0 = 2.0\n",
    "\n",
    "#set time-increment and discretize the time\n",
    "T = 15.0  #final time\n",
    "dt = 0.01  #set time-increment\n",
    "N = int(T/dt) +1 #number of time steps\n",
    "\n",
    "#set initial conditions\n",
    "u_leapfrog = numpy.empty((N,4))\n",
    "\n",
    "#initialize the array containing the solution for each time-step\n",
    "u_leapfrog[0] = numpy.array([v0, theta0, x0, y0])\n",
    "\n",
    "#first step using RK2\n",
    "u_leapfrog[1] = rk2_step(u_leapfrog[0], f, dt)"
   ]
  },
  {
   "cell_type": "code",
   "execution_count": 21,
   "metadata": {
    "collapsed": true
   },
   "outputs": [],
   "source": [
    "#use a for loop to call the function leapfrop_step()\n",
    "for n in range(1, N-1):\n",
    "    \n",
    "    u_leapfrog[n+1] = leapfrog_step(u_leapfrog[n-1], u_leapfrog[n], f, dt)"
   ]
  },
  {
   "cell_type": "code",
   "execution_count": 22,
   "metadata": {
    "collapsed": true
   },
   "outputs": [],
   "source": [
    "#get the glider position in time\n",
    "x_leapfrog = u_leapfrog[:,2]\n",
    "y_leapfrog = u_leapfrog[:,3]\n",
    "\n",
    "#get the index of element of y where altitude becomes negative\n",
    "idx_negative_leapfrog = numpy.where(y_leapfrog<0.0)[0]\n",
    "\n",
    "if len(idx_negative_leapfrog)==0:\n",
    "    idx_ground_leapfrog = N-1\n",
    "    print('The glider has not reached the ground yet!')\n",
    "else:\n",
    "    idx_ground_leapfrog = idx_negative_leapfrog[0]"
   ]
  },
  {
   "cell_type": "code",
   "execution_count": 27,
   "metadata": {
    "collapsed": false
   },
   "outputs": [
    {
     "data": {
      "text/plain": [
       "(1.8, 2.5)"
      ]
     },
     "execution_count": 27,
     "metadata": {},
     "output_type": "execute_result"
    },
    {
     "data": {
      "image/png": "[encoded data removed]",
      "text/plain": [
       "<matplotlib.figure.Figure at 0x7f20f45d1940>"
      ]
     },
     "metadata": {},
     "output_type": "display_data"
    }
   ],
   "source": [
    "# plot the glider path\n",
    "pyplot.figure(figsize=(11,8))\n",
    "pyplot.subplot(121)\n",
    "pyplot.grid(True)\n",
    "pyplot.xlabel('$x$')\n",
    "pyplot.ylabel('$y$')\n",
    "pyplot.plot(x_leapfrog[:idx_ground_leapfrog], y_leapfrog[:idx_ground_leapfrog], color='k', ls='-', lw=2)\n",
    "pyplot.title('distance traveled: {:.3f}'.format(x_leapfrog[idx_ground_leapfrog-1]), fontsize=18);\n",
    "\n",
    "#Let's take a closer look!\n",
    "pyplot.subplot(122)\n",
    "pyplot.grid(True)\n",
    "pyplot.xlabel('$x$')\n",
    "pyplot.ylabel('$y$')\n",
    "pyplot.plot(x_leapfrog[:idx_ground_leapfrog], y_leapfrog[:idx_ground_leapfrog], color='k', ls=':', lw =2)\n",
    "pyplot.plot(x_rk2, y_rk2, 'r--', label='RK2')\n",
    "pyplot.xlim(0,5)\n",
    "pyplot.ylim(1.8, 2.5)\n"
   ]
  },
  {
   "cell_type": "code",
   "execution_count": 32,
   "metadata": {
    "collapsed": false
   },
   "outputs": [
    {
     "name": "stdout",
     "output_type": "stream",
     "text": [
      "The order of convergence is alpha = 2.186\n"
     ]
    }
   ],
   "source": [
    "# check the convergence rate\n",
    "r = 2\n",
    "h = 0.001\n",
    "\n",
    "dt_values = numpy.array([h,r*h,r**2*h])\n",
    "\n",
    "u_values = numpy.empty_like(dt_values, dtype=numpy.ndarray)\n",
    "\n",
    "for i, dt in enumerate(dt_values):\n",
    "    \n",
    "    N = int(T/dt) + 1 #number of time-steps\n",
    "    \n",
    "    ### discretize the time t ###\n",
    "    t = numpy.linspace(0.0, T, N)\n",
    "    \n",
    "    #initialize the array containing the solution for each time-step\n",
    "    u = numpy.empty((N, 4))\n",
    "    u[0] = numpy.array([v0, theta0, x0, y0])\n",
    "    \n",
    "    #time loop\n",
    "    u[1] = rk2_step(u[0], f, dt)\n",
    "    for n in range(1, N-1):\n",
    "        u[n+1]= leapfrog_step(u[n-1],u[n], f, dt)\n",
    "        \n",
    "    #store the value of u related to one grid\n",
    "    u_values[i] = u\n",
    "    \n",
    "#calculate the order of convergence \n",
    "\n",
    "alpha = (log(get_diffgrid(u_values[2], u_values[1], dt_values[2])) \n",
    "         - log(get_diffgrid(u_values[1], u_values[0], dt_values[1]))) / log(r)\n",
    "         \n",
    "print('The order of convergence is alpha = {:.3f}'.format(alpha))"
   ]
  },
  {
   "cell_type": "markdown",
   "metadata": {
    "collapsed": true
   },
   "source": [
    "CHALLENGE!"
   ]
  },
  {
   "cell_type": "code",
   "execution_count": 11,
   "metadata": {
    "collapsed": false
   },
   "outputs": [
    {
     "name": "stdout",
     "output_type": "stream",
     "text": [
      "Time the euler step function takes:\n",
      "0.0002685799263417721\n",
      "\n",
      "Time the Runge-Kutta function takes:\n",
      "0.0003508268855512142\n",
      "\n",
      "The Runge-Kutta function takes longer than the Euler function by:\n",
      "8.224695920944214e-05\n"
     ]
    }
   ],
   "source": [
    "print ('Time the euler step function takes:')\n",
    "print (stopEuler - startEuler) \n",
    "print()\n",
    "print('Time the Runge-Kutta function takes:')\n",
    "print (stopRK2 - startRK2)\n",
    "print()\n",
    "\n",
    "if ((stopEuler-startEuler) > (stopRK2-startRK2)):\n",
    "    print('The Euler function takes longer than the Runge-Kutta function by:')\n",
    "    print((stopEuler - startEuler)-(stopRK2 - startRK2))\n",
    "    \n",
    "else:\n",
    "    print('The Runge-Kutta function takes longer than the Euler function by:')\n",
    "    print((stopRK2 - startRK2)-(stopEuler - startEuler))"
   ]
  },
  {
   "cell_type": "code",
   "execution_count": null,
   "metadata": {
    "collapsed": true
   },
   "outputs": [],
   "source": []
  }
 ],
 "metadata": {
  "kernelspec": {
   "display_name": "Python 3",
   "language": "python",
   "name": "python3"
  },
  "language_info": {
   "codemirror_mode": {
    "name": "ipython",
    "version": 3
   },
   "file_extension": ".py",
   "mimetype": "text/x-python",
   "name": "python",
   "nbconvert_exporter": "python",
   "pygments_lexer": "ipython3",
   "version": "3.4.3"
  }
 },
 "nbformat": 4,
 "nbformat_minor": 0
}
