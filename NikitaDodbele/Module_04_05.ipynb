{
 "cells": [
  {
   "cell_type": "code",
   "execution_count": 1,
   "metadata": {
    "collapsed": true
   },
   "outputs": [],
   "source": [
    "import numpy\n",
    "from scipy.linalg import solve"
   ]
  },
  {
   "cell_type": "code",
   "execution_count": 2,
   "metadata": {
    "collapsed": true
   },
   "outputs": [],
   "source": [
    "def generateMatrix(N, sigma):\n",
    "    \"\"\"Computes the matrix for the diffusion equation with Crank-Nicolson\n",
    "    Dirichlet condition at i=0, Neumann at i = -1\n",
    "    \n",
    "    Parameters:\n",
    "    ----------\n",
    "    N: int\n",
    "        Number of discretization points\n",
    "    sigma: float\n",
    "        alpha*dt/dx^2\n",
    "        \n",
    "    Returns: \n",
    "    ----------\n",
    "    A: 2D numpy array of float\n",
    "        Matrix for diffusion equation\n",
    "    \"\"\"\n",
    "    \n",
    "    #Setup the diagonal\n",
    "    d = 2*numpy.diag(numpy.ones(N-2)*(1+1./sigma))\n",
    "    \n",
    "    #Consider Neumann BC\n",
    "    d[-1, -1] = 1+2./sigma\n",
    "    \n",
    "    #Setup upper diagonal\n",
    "    ud = numpy.diag(numpy.ones(N-3)*-1, 1)\n",
    "    \n",
    "    #Setup lower diagonal\n",
    "    ld = numpy.diag(numpy.ones(N-3)*-1, -1)\n",
    "    \n",
    "    A = d + ud + ld\n",
    "    \n",
    "    return A"
   ]
  },
  {
   "cell_type": "code",
   "execution_count": null,
   "metadata": {
    "collapsed": true
   },
   "outputs": [],
   "source": []
  }
 ],
 "metadata": {
  "kernelspec": {
   "display_name": "Python 3",
   "language": "python",
   "name": "python3"
  },
  "language_info": {
   "codemirror_mode": {
    "name": "ipython",
    "version": 3
   },
   "file_extension": ".py",
   "mimetype": "text/x-python",
   "name": "python",
   "nbconvert_exporter": "python",
   "pygments_lexer": "ipython3",
   "version": "3.4.3"
  }
 },
 "nbformat": 4,
 "nbformat_minor": 0
}
