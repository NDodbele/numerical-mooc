{
 "cells": [
  {
   "cell_type": "markdown",
   "metadata": {},
   "source": [
    "Using the phugoid model, write new code to analyze the flight of a paper airplane"
   ]
  },
  {
   "cell_type": "code",
   "execution_count": 71,
   "metadata": {
    "collapsed": true
   },
   "outputs": [],
   "source": [
    "from math import sin, cos, log, ceil\n",
    "import numpy\n",
    "from matplotlib import pyplot\n",
    "%matplotlib inline\n",
    "from matplotlib import rcParams\n",
    "rcParams['font.family'] = 'serif'\n",
    "rcParams['font.size'] = 16"
   ]
  },
  {
   "cell_type": "code",
   "execution_count": 72,
   "metadata": {
    "collapsed": false
   },
   "outputs": [],
   "source": [
    "# model parameters:\n",
    "g = 9.8      # gravity in m s^{-2}\n",
    "v_t = 4.9   # trim velocity in m s^{-1}   \n",
    "C_D = 1/5  # drag coefficient --- or D/L if C_L=1\n",
    "C_L = 1   # for convenience, use C_L = 1\n",
    "\n",
    "### set initial conditions ###\n",
    "v0 = v_t     # start at the trim velocity (or add a delta)\n",
    "theta0 = 0 # initial angle of trajectory\n",
    "x0 = 0     # horizotal position is arbitrary\n",
    "y0 = 2  # initial altitude\n",
    "\n",
    "\n",
    "thetaValues = numpy.array([0,5,10,15,20,25,30,35,40,45])\n",
    "velocityValues = numpy.array([0,1,2,3,4,5,6,7,8,9,10])"
   ]
  },
  {
   "cell_type": "code",
   "execution_count": 73,
   "metadata": {
    "collapsed": true
   },
   "outputs": [],
   "source": [
    "def f(u):\n",
    "    v = u[0]\n",
    "    theta= u[1]\n",
    "    x = u[2]\n",
    "    y = u[3]\n",
    "    return numpy.array([-g*sin(theta)-C_D/C_L*g/v_t**2*v**2, -g*cos(theta)/v+g/v_t**2*v,v*cos(theta), v*sin(theta)])"
   ]
  },
  {
   "cell_type": "code",
   "execution_count": 74,
   "metadata": {
    "collapsed": true
   },
   "outputs": [],
   "source": [
    "def euler_step(u, f, dt):\n",
    "    return u + dt*f(u)"
   ]
  },
  {
   "cell_type": "code",
   "execution_count": 75,
   "metadata": {
    "collapsed": false
   },
   "outputs": [],
   "source": [
    "T = 100 #final time\n",
    "dt = 0.1 #time increment\n",
    "N = int(T/dt) + 1 #number of time-steps\n",
    "t = numpy.linspace(0, T, N) #time discretization\n",
    "\n",
    "#initialize the array containing the solution for each time-step\n",
    "u = numpy.empty((N, 4))\n",
    "u[0]= numpy.array([v0, theta0, x0, y0]) #fill 1st element with initial values\n",
    "\n",
    "#time loop - Euler method\n",
    "for n in range(N-1):\n",
    "    if u[n, 3] < 0:\n",
    "        valueN = n\n",
    "        break\n",
    "    u[n+1] = euler_step(u[n], f, dt)"
   ]
  },
  {
   "cell_type": "code",
   "execution_count": 76,
   "metadata": {
    "collapsed": true
   },
   "outputs": [],
   "source": [
    "#create a new array that goes from 0 to N\n",
    "array_1 = u[0:valueN,:]\n",
    "\n",
    "#get the paper airplane's position with respect to time\n",
    "x = array_1[:,2]\n",
    "y = array_1[:,3]"
   ]
  },
  {
   "cell_type": "code",
   "execution_count": null,
   "metadata": {
    "collapsed": true
   },
   "outputs": [],
   "source": [
    "for i, theta in enumerate(thetaValues):\n",
    "    for j, velocity in enumerate(velocityValues):\n",
    "        "
   ]
  },
  {
   "cell_type": "code",
   "execution_count": 77,
   "metadata": {
    "collapsed": false
   },
   "outputs": [
    {
     "data": {
      "image/png": "[encoded data removed]",
      "text/plain": [
       "<matplotlib.figure.Figure at 0x7f34886e8f28>"
      ]
     },
     "metadata": {},
     "output_type": "display_data"
    }
   ],
   "source": [
    "# visualization of the path\n",
    "pyplot.figure(figsize=(8,6))\n",
    "pyplot.grid(True)\n",
    "pyplot.xlabel(r'x', fontsize=18)\n",
    "pyplot.ylabel(r'y', fontsize=18)\n",
    "pyplot.title('Paper Airplane trajectory, flight time = %.2f' % T, fontsize=18)\n",
    "pyplot.plot(x,y, 'k-', lw=2);"
   ]
  },
  {
   "cell_type": "code",
   "execution_count": null,
   "metadata": {
    "collapsed": true
   },
   "outputs": [],
   "source": []
  }
 ],
 "metadata": {
  "kernelspec": {
   "display_name": "Python 3",
   "language": "python",
   "name": "python3"
  },
  "language_info": {
   "codemirror_mode": {
    "name": "ipython",
    "version": 3
   },
   "file_extension": ".py",
   "mimetype": "text/x-python",
   "name": "python",
   "nbconvert_exporter": "python",
   "pygments_lexer": "ipython3",
   "version": "3.4.3"
  }
 },
 "nbformat": 4,
 "nbformat_minor": 0
}
