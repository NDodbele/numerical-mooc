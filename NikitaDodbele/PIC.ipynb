{
 "cells": [
  {
   "cell_type": "code",
   "execution_count": 6,
   "metadata": {
    "collapsed": false
   },
   "outputs": [],
   "source": [
    "%matplotlib inline\n",
    "import numpy\n",
    "import sympy\n",
    "import pylab\n",
    "import  random\n",
    "#from nubapro import autojit\n",
    "from timeit import default_timer as timer\n",
    "sympy.init_printing()\n",
    "\n",
    "import matplotlib.pyplot as plt\n",
    "from mpl_toolkits.mplot3d.axes3d import Axes3D\n",
    "from matplotlib import animation\n",
    "from JSAnimation.IPython_display import display_animation"
   ]
  },
  {
   "cell_type": "markdown",
   "metadata": {},
   "source": [
    "__Problem 1: Calculate trajectory of electron over 100 time steps__"
   ]
  },
  {
   "cell_type": "code",
   "execution_count": 25,
   "metadata": {
    "collapsed": false
   },
   "outputs": [],
   "source": [
    "nt = 100 #number of time steps\n",
    "ts = 10e-11 #s\n",
    "\n",
    "v_x = 10.0e5 #m/s\n",
    "v_y = 2.0e5 #m/s\n",
    "v_z = 1.5e5 #m/s\n",
    "\n",
    "E_x = 1000. #V/m\n",
    "E_y = 0\n",
    "E_z = 0\n",
    "\n",
    "B = 0.1 #T\n",
    "e = 1.609e-19 #C\n",
    "m_e = 9.1094e-31 #kg"
   ]
  },
  {
   "cell_type": "code",
   "execution_count": 26,
   "metadata": {
    "collapsed": false
   },
   "outputs": [
    {
     "name": "stdout",
     "output_type": "stream",
     "text": [
      "[[  1.00000000e+03   0.00000000e+00   0.00000000e+00]\n",
      " [  1.00000000e+06   2.00000000e+05   1.50000000e+05]\n",
      " [  0.00000000e+00   0.00000000e+00   1.00000000e-01]]\n"
     ]
    }
   ],
   "source": [
    "#initialize matrix\n",
    "A = numpy.array([[E_x, E_y, E_z],[v_x, v_y, v_z], [0, 0, B]])\n",
    "print(A)"
   ]
  },
  {
   "cell_type": "code",
   "execution_count": 27,
   "metadata": {
    "collapsed": false
   },
   "outputs": [
    {
     "data": {
      "image/png": "[encoded data removed]",
      "text/latex": [
       "$$20000000.0$$"
      ],
      "text/plain": [
       "20000000.0"
      ]
     },
     "execution_count": 27,
     "metadata": {},
     "output_type": "execute_result"
    }
   ],
   "source": [
    "numpy.linalg.det(A)"
   ]
  },
  {
   "cell_type": "code",
   "execution_count": 61,
   "metadata": {
    "collapsed": false
   },
   "outputs": [
    {
     "name": "stdout",
     "output_type": "stream",
     "text": [
      "1e-08\n"
     ]
    }
   ],
   "source": [
    "#time steps\n",
    "n = numpy.linspace(0, ts*nt, 100)\n",
    "#print(n)\n",
    "\n",
    "lastnum = n[-1]\n",
    "print(lastnum)"
   ]
  },
  {
   "cell_type": "code",
   "execution_count": 64,
   "metadata": {
    "collapsed": false
   },
   "outputs": [
    {
     "name": "stdout",
     "output_type": "stream",
     "text": [
      "X-location:\n",
      "5.66149990138e-24\n",
      "\n",
      "Y-location:\n",
      "-1.13230449125e-24\n",
      "\n",
      "Z-location:\n",
      "-5.66149990139e-24\n"
     ]
    }
   ],
   "source": [
    "for locationsX in n:\n",
    "    \n",
    "    StepX = n/(E_x + ((v_y**n + v_y**(n+1))/2)*B*e/m_e)\n",
    "\n",
    "StepX_last = lastnum/(E_x + ((v_y**lastnum + v_y**(lastnum+1))/2)*B*e/m_e)\n",
    "\n",
    "print('X-location:')\n",
    "print(StepX_last)\n",
    "\n",
    "##########\n",
    "\n",
    "for locationsY in n:\n",
    "    \n",
    "    StepY = n/(E_y + ((v_x**n + v_x**(n+1))/2)*B*e/m_e)\n",
    "\n",
    "StepY_last = lastnum/(E_y - ((v_x**lastnum + v_x**(lastnum+1))/2)*B*e/m_e)\n",
    "\n",
    "print()\n",
    "print('Y-location:')\n",
    "print(StepY_last)\n",
    "\n",
    "##########\n",
    "\n",
    "for locationsZ in n:\n",
    "    \n",
    "    StepZ = n/(E_z + ((v_y**n + v_y**(n+1))/2)*B*e/m_e)\n",
    "\n",
    "StepZ_last = lastnum/(E_z - ((v_y**lastnum + v_y**(lastnum+1))/2)*B*e/m_e)\n",
    "\n",
    "print()\n",
    "print('Z-location:')\n",
    "print(StepZ_last)"
   ]
  },
  {
   "cell_type": "markdown",
   "metadata": {},
   "source": [
    "__Problem 2: Calculate Trajectory of ion over 100 time steps__"
   ]
  },
  {
   "cell_type": "code",
   "execution_count": 65,
   "metadata": {
    "collapsed": true
   },
   "outputs": [],
   "source": [
    "nt = 100 #number of time steps\n",
    "ts = 10e-5 #s\n",
    "\n",
    "v_x = 1000. #m/s\n",
    "v_y = 1000. #m/s\n",
    "v_z = 1000. #m/s\n",
    "\n",
    "E_x = 1000. #V/m\n",
    "E_y = 0\n",
    "E_z = 0\n",
    "\n",
    "B = 0.1 #T\n",
    "e = 1.609e-19 #C\n",
    "m_ion = 1.6605e-27 #kg (He)"
   ]
  },
  {
   "cell_type": "code",
   "execution_count": 66,
   "metadata": {
    "collapsed": false
   },
   "outputs": [
    {
     "name": "stdout",
     "output_type": "stream",
     "text": [
      "[[  1.00000000e+03   0.00000000e+00   0.00000000e+00]\n",
      " [  1.00000000e+03   1.00000000e+03   1.00000000e+03]\n",
      " [  0.00000000e+00   0.00000000e+00   1.00000000e-01]]\n"
     ]
    }
   ],
   "source": [
    "A = numpy.array([[E_x, E_y, E_z],[v_x, v_y, v_z], [0, 0, B]])\n",
    "print(A)"
   ]
  },
  {
   "cell_type": "code",
   "execution_count": 67,
   "metadata": {
    "collapsed": false
   },
   "outputs": [
    {
     "data": {
      "image/png": "[encoded data removed]",
      "text/latex": [
       "$$100000.0$$"
      ],
      "text/plain": [
       "100000.0"
      ]
     },
     "execution_count": 67,
     "metadata": {},
     "output_type": "execute_result"
    }
   ],
   "source": [
    "numpy.linalg.det(A)"
   ]
  },
  {
   "cell_type": "code",
   "execution_count": 68,
   "metadata": {
    "collapsed": false
   },
   "outputs": [
    {
     "name": "stdout",
     "output_type": "stream",
     "text": [
      "0.01\n"
     ]
    }
   ],
   "source": [
    "#time steps\n",
    "n = numpy.linspace(0, ts*nt, 100)\n",
    "#print(n)\n",
    "\n",
    "lastnum = n[-1]\n",
    "print(lastnum)"
   ]
  },
  {
   "cell_type": "code",
   "execution_count": 73,
   "metadata": {
    "collapsed": false
   },
   "outputs": [
    {
     "name": "stdout",
     "output_type": "stream",
     "text": [
      "X-location:\n",
      "1.05567356531e-15\n",
      "\n",
      "Y-location:\n",
      "-1.05567356543e-15\n",
      "\n",
      "Z-location:\n",
      "-1.05567356543e-15\n",
      "\n"
     ]
    }
   ],
   "source": [
    "for locationsX in n:\n",
    "    \n",
    "    StepX = n/(E_x + ((v_y**n + v_y**(n+1))/2)*B*e/m_e)\n",
    "\n",
    "StepX_last = lastnum/(E_x + ((v_y**lastnum + v_y**(lastnum+1))/2)*B*e/m_e)\n",
    "\n",
    "print('X-location:')\n",
    "print(StepX_last)\n",
    "\n",
    "##########\n",
    "\n",
    "for locationsY in n:\n",
    "    \n",
    "    StepY = n/(E_y + ((v_x**n + v_x**(n+1))/2)*B*e/m_e)\n",
    "\n",
    "StepY_last = lastnum/(E_y - ((v_x**lastnum + v_x**(lastnum+1))/2)*B*e/m_e)\n",
    "\n",
    "print()\n",
    "print('Y-location:')\n",
    "print(StepY_last)\n",
    "\n",
    "##########\n",
    "\n",
    "for locationsZ in n:\n",
    "    \n",
    "    StepZ = n/(E_z + ((v_y**n + v_y**(n+1))/2)*B*e/m_e)\n",
    "\n",
    "StepZ_last = lastnum/(E_z - ((v_y**lastnum + v_y**(lastnum+1))/2)*B*e/m_e)\n",
    "\n",
    "print()\n",
    "print('Z-location:')\n",
    "print(StepZ_last)\n",
    "print()"
   ]
  },
  {
   "cell_type": "markdown",
   "metadata": {},
   "source": [
    "__Problem 3: Visualize trajectories of 10 electrons and 10 ions in x, y, z. Use random number generator for initial velocities of particles__"
   ]
  },
  {
   "cell_type": "code",
   "execution_count": 77,
   "metadata": {
    "collapsed": true
   },
   "outputs": [],
   "source": [
    "nt = 100 #number of time steps\n",
    "ts = 10e-5 #s\n",
    "\n",
    "v_x = random.randrange(1e5,5e5)*random.choice([-1,1]) #m/s\n",
    "v_y = random.randrange(1e5,5e5)*random.choice([-1,1]) #m/s\n",
    "v_z = random.randrange(1e5,5e5)*random.choice([-1,1]) #m/s\n",
    "\n",
    "E_x = 1000. #V/m\n",
    "E_y = 0\n",
    "E_z = 0\n",
    "\n",
    "B = 0.1 #T\n",
    "e = 1.609e-19 #C\n",
    "m_ion = 1.6605e-27 #kg (He)"
   ]
  },
  {
   "cell_type": "code",
   "execution_count": 78,
   "metadata": {
    "collapsed": false
   },
   "outputs": [
    {
     "name": "stdout",
     "output_type": "stream",
     "text": [
      "[[  1.00000000e+03   0.00000000e+00   0.00000000e+00]\n",
      " [  4.45758000e+05   4.71675000e+05  -3.94749000e+05]\n",
      " [  0.00000000e+00   0.00000000e+00   1.00000000e-01]]\n"
     ]
    }
   ],
   "source": [
    "A = numpy.array([[E_x, E_y, E_z],[v_x, v_y, v_z], [0, 0, B]])\n",
    "print(A)"
   ]
  },
  {
   "cell_type": "code",
   "execution_count": 79,
   "metadata": {
    "collapsed": false
   },
   "outputs": [
    {
     "data": {
      "image/png": "[encoded data removed]",
      "text/latex": [
       "$$47167500.0$$"
      ],
      "text/plain": [
       "47167500.0"
      ]
     },
     "execution_count": 79,
     "metadata": {},
     "output_type": "execute_result"
    }
   ],
   "source": [
    "numpy.linalg.det(A)"
   ]
  },
  {
   "cell_type": "code",
   "execution_count": null,
   "metadata": {
    "collapsed": true
   },
   "outputs": [],
   "source": []
  }
 ],
 "metadata": {
  "kernelspec": {
   "display_name": "Python 3",
   "language": "python",
   "name": "python3"
  },
  "language_info": {
   "codemirror_mode": {
    "name": "ipython",
    "version": 3
   },
   "file_extension": ".py",
   "mimetype": "text/x-python",
   "name": "python",
   "nbconvert_exporter": "python",
   "pygments_lexer": "ipython3",
   "version": "3.4.3"
  }
 },
 "nbformat": 4,
 "nbformat_minor": 0
}
