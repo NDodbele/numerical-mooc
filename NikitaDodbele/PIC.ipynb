{
 "cells": [
  {
   "cell_type": "code",
   "execution_count": 1,
   "metadata": {
    "collapsed": false
   },
   "outputs": [],
   "source": [
    "%matplotlib inline\n",
    "import numpy\n",
    "import sympy\n",
    "import pylab\n",
    "from matplotlib import pyplot\n",
    "import  random\n",
    "import matplotlib.pyplot as plt"
   ]
  },
  {
   "cell_type": "markdown",
   "metadata": {},
   "source": [
    "__Problem 1: Calculate trajectory of electron over 100 time steps__"
   ]
  },
  {
   "cell_type": "code",
   "execution_count": 2,
   "metadata": {
    "collapsed": false
   },
   "outputs": [],
   "source": [
    "#Given/Known variables:\n",
    "\n",
    "nt = 100 #number of time steps\n",
    "ts = 10e-11 #s\n",
    "\n",
    "v_x = 10.0e5 #m/s\n",
    "v_y = 2.0e5 #m/s\n",
    "v_z = 1.5e5 #m/s\n",
    "\n",
    "E_x = 1000. #V/m\n",
    "E_y = 0\n",
    "E_z = 0\n",
    "\n",
    "B = 0.1 #T\n",
    "e = 1.609e-19 #C\n",
    "m_e = 9.1094e-31 #kg"
   ]
  },
  {
   "cell_type": "code",
   "execution_count": 3,
   "metadata": {
    "collapsed": false
   },
   "outputs": [
    {
     "name": "stdout",
     "output_type": "stream",
     "text": [
      "[[  1.00000000e+03   0.00000000e+00   0.00000000e+00]\n",
      " [  1.00000000e+06   2.00000000e+05   1.50000000e+05]\n",
      " [  0.00000000e+00   0.00000000e+00   1.00000000e-01]]\n"
     ]
    }
   ],
   "source": [
    "#initialize matrix with given values:\n",
    "\n",
    "\"\"\"\n",
    "    [[E_x  E_y  E_z]\n",
    "A =  [v_x  v_y  v_z]\n",
    "     [0     0    B ]]\n",
    "\"\"\"\n",
    "\n",
    "A = numpy.array([[E_x, E_y, E_z],[v_x, v_y, v_z], [0, 0, B]])\n",
    "print(A)"
   ]
  },
  {
   "cell_type": "code",
   "execution_count": 4,
   "metadata": {
    "collapsed": false
   },
   "outputs": [
    {
     "data": {
      "text/plain": [
       "19999999.999999978"
      ]
     },
     "execution_count": 4,
     "metadata": {},
     "output_type": "execute_result"
    }
   ],
   "source": [
    "#Calculate the determinant of the VxB matrix: \n",
    "\n",
    "numpy.linalg.det(A)"
   ]
  },
  {
   "cell_type": "code",
   "execution_count": 5,
   "metadata": {
    "collapsed": false
   },
   "outputs": [
    {
     "name": "stdout",
     "output_type": "stream",
     "text": [
      "Array of 100 time steps of size 10e-11:\n",
      "\n",
      "[  0.00000000e+00   1.01010101e-10   2.02020202e-10   3.03030303e-10\n",
      "   4.04040404e-10   5.05050505e-10   6.06060606e-10   7.07070707e-10\n",
      "   8.08080808e-10   9.09090909e-10   1.01010101e-09   1.11111111e-09\n",
      "   1.21212121e-09   1.31313131e-09   1.41414141e-09   1.51515152e-09\n",
      "   1.61616162e-09   1.71717172e-09   1.81818182e-09   1.91919192e-09\n",
      "   2.02020202e-09   2.12121212e-09   2.22222222e-09   2.32323232e-09\n",
      "   2.42424242e-09   2.52525253e-09   2.62626263e-09   2.72727273e-09\n",
      "   2.82828283e-09   2.92929293e-09   3.03030303e-09   3.13131313e-09\n",
      "   3.23232323e-09   3.33333333e-09   3.43434343e-09   3.53535354e-09\n",
      "   3.63636364e-09   3.73737374e-09   3.83838384e-09   3.93939394e-09\n",
      "   4.04040404e-09   4.14141414e-09   4.24242424e-09   4.34343434e-09\n",
      "   4.44444444e-09   4.54545455e-09   4.64646465e-09   4.74747475e-09\n",
      "   4.84848485e-09   4.94949495e-09   5.05050505e-09   5.15151515e-09\n",
      "   5.25252525e-09   5.35353535e-09   5.45454545e-09   5.55555556e-09\n",
      "   5.65656566e-09   5.75757576e-09   5.85858586e-09   5.95959596e-09\n",
      "   6.06060606e-09   6.16161616e-09   6.26262626e-09   6.36363636e-09\n",
      "   6.46464646e-09   6.56565657e-09   6.66666667e-09   6.76767677e-09\n",
      "   6.86868687e-09   6.96969697e-09   7.07070707e-09   7.17171717e-09\n",
      "   7.27272727e-09   7.37373737e-09   7.47474747e-09   7.57575758e-09\n",
      "   7.67676768e-09   7.77777778e-09   7.87878788e-09   7.97979798e-09\n",
      "   8.08080808e-09   8.18181818e-09   8.28282828e-09   8.38383838e-09\n",
      "   8.48484848e-09   8.58585859e-09   8.68686869e-09   8.78787879e-09\n",
      "   8.88888889e-09   8.98989899e-09   9.09090909e-09   9.19191919e-09\n",
      "   9.29292929e-09   9.39393939e-09   9.49494949e-09   9.59595960e-09\n",
      "   9.69696970e-09   9.79797980e-09   9.89898990e-09   1.00000000e-08]\n",
      "\n",
      "The time at the final time step (where the electron is at its' final position):\n",
      "1e-08\n"
     ]
    }
   ],
   "source": [
    "#Create an array called n of 100 time steps of 10e-11:\n",
    "\n",
    "n = numpy.linspace(0, ts*nt, 100)\n",
    "print(\"Array of 100 time steps of size 10e-11:\")\n",
    "print()\n",
    "print(n)\n",
    "\n",
    "#Find the last number of the array, this tells us the value of n at the final position\n",
    "\n",
    "lastnum = n[-1]\n",
    "print()\n",
    "print(\"The time at the final time step (where the electron is at its' final position):\")\n",
    "print(lastnum)"
   ]
  },
  {
   "cell_type": "code",
   "execution_count": 6,
   "metadata": {
    "collapsed": false
   },
   "outputs": [
    {
     "name": "stdout",
     "output_type": "stream",
     "text": [
      "Location of electron in the x direction at every time step:\n",
      "\n",
      "[  0.00000000e+00   5.71868746e-26   1.14373749e-25   1.71560623e-25\n",
      "   2.28747498e-25   2.85934372e-25   3.43121245e-25   4.00308119e-25\n",
      "   4.57494993e-25   5.14681866e-25   5.71868740e-25   6.29055613e-25\n",
      "   6.86242486e-25   7.43429359e-25   8.00616232e-25   8.57803104e-25\n",
      "   9.14989977e-25   9.72176849e-25   1.02936372e-24   1.08655059e-24\n",
      "   1.14373747e-24   1.20092434e-24   1.25811121e-24   1.31529808e-24\n",
      "   1.37248495e-24   1.42967182e-24   1.48685869e-24   1.54404556e-24\n",
      "   1.60123244e-24   1.65841931e-24   1.71560618e-24   1.77279305e-24\n",
      "   1.82997992e-24   1.88716679e-24   1.94435366e-24   2.00154053e-24\n",
      "   2.05872740e-24   2.11591427e-24   2.17310114e-24   2.23028800e-24\n",
      "   2.28747487e-24   2.34466174e-24   2.40184861e-24   2.45903548e-24\n",
      "   2.51622235e-24   2.57340922e-24   2.63059609e-24   2.68778295e-24\n",
      "   2.74496982e-24   2.80215669e-24   2.85934356e-24   2.91653042e-24\n",
      "   2.97371729e-24   3.03090416e-24   3.08809103e-24   3.14527789e-24\n",
      "   3.20246476e-24   3.25965163e-24   3.31683849e-24   3.37402536e-24\n",
      "   3.43121223e-24   3.48839909e-24   3.54558596e-24   3.60277282e-24\n",
      "   3.65995969e-24   3.71714656e-24   3.77433342e-24   3.83152029e-24\n",
      "   3.88870715e-24   3.94589402e-24   4.00308088e-24   4.06026775e-24\n",
      "   4.11745461e-24   4.17464148e-24   4.23182834e-24   4.28901520e-24\n",
      "   4.34620207e-24   4.40338893e-24   4.46057580e-24   4.51776266e-24\n",
      "   4.57494952e-24   4.63213639e-24   4.68932325e-24   4.74651011e-24\n",
      "   4.80369697e-24   4.86088384e-24   4.91807070e-24   4.97525756e-24\n",
      "   5.03244443e-24   5.08963129e-24   5.14681815e-24   5.20400501e-24\n",
      "   5.26119187e-24   5.31837873e-24   5.37556560e-24   5.43275246e-24\n",
      "   5.48993932e-24   5.54712618e-24   5.60431304e-24   5.66149990e-24]\n",
      "\n",
      "Location of electron in the y direction at every time step:\n",
      "\n",
      "[ -0.00000000e+00  -1.14374207e-26  -2.28748413e-26  -3.43122619e-26\n",
      "  -4.57496825e-26  -5.71871030e-26  -6.86245235e-26  -8.00619440e-26\n",
      "  -9.14993644e-26  -1.02936785e-25  -1.14374205e-25  -1.25811626e-25\n",
      "  -1.37249046e-25  -1.48686466e-25  -1.60123886e-25  -1.71561307e-25\n",
      "  -1.82998727e-25  -1.94436147e-25  -2.05873567e-25  -2.17310987e-25\n",
      "  -2.28748407e-25  -2.40185827e-25  -2.51623247e-25  -2.63060667e-25\n",
      "  -2.74498087e-25  -2.85935507e-25  -2.97372927e-25  -3.08810347e-25\n",
      "  -3.20247767e-25  -3.31685186e-25  -3.43122606e-25  -3.54560026e-25\n",
      "  -3.65997446e-25  -3.77434865e-25  -3.88872285e-25  -4.00309704e-25\n",
      "  -4.11747124e-25  -4.23184543e-25  -4.34621963e-25  -4.46059382e-25\n",
      "  -4.57496802e-25  -4.68934221e-25  -4.80371641e-25  -4.91809060e-25\n",
      "  -5.03246479e-25  -5.14683898e-25  -5.26121318e-25  -5.37558737e-25\n",
      "  -5.48996156e-25  -5.60433575e-25  -5.71870994e-25  -5.83308413e-25\n",
      "  -5.94745832e-25  -6.06183251e-25  -6.17620670e-25  -6.29058089e-25\n",
      "  -6.40495508e-25  -6.51932927e-25  -6.63370346e-25  -6.74807765e-25\n",
      "  -6.86245184e-25  -6.97682602e-25  -7.09120021e-25  -7.20557440e-25\n",
      "  -7.31994858e-25  -7.43432277e-25  -7.54869696e-25  -7.66307114e-25\n",
      "  -7.77744533e-25  -7.89181951e-25  -8.00619370e-25  -8.12056788e-25\n",
      "  -8.23494206e-25  -8.34931625e-25  -8.46369043e-25  -8.57806461e-25\n",
      "  -8.69243880e-25  -8.80681298e-25  -8.92118716e-25  -9.03556134e-25\n",
      "  -9.14993553e-25  -9.26430971e-25  -9.37868389e-25  -9.49305807e-25\n",
      "  -9.60743225e-25  -9.72180643e-25  -9.83618061e-25  -9.95055479e-25\n",
      "  -1.00649290e-24  -1.01793031e-24  -1.02936773e-24  -1.04080515e-24\n",
      "  -1.05224257e-24  -1.06367999e-24  -1.07511740e-24  -1.08655482e-24\n",
      "  -1.09799224e-24  -1.10942966e-24  -1.12086707e-24  -1.13230449e-24]\n"
     ]
    }
   ],
   "source": [
    "#Use the integral of the time step (dV/dt) to determine the x and y positions of the electron:\n",
    "\n",
    "StepX = n/(E_x + ((v_y**n + v_y**(n+1))/2)*B*e/m_e)\n",
    "print(\"Location of electron in the x direction at every time step:\")\n",
    "print()\n",
    "print(StepX)\n",
    "print()\n",
    "\n",
    "StepY = n/(E_y - ((v_x**n + v_x**(n+1))/2)*B*e/m_e)\n",
    "print(\"Location of electron in the y direction at every time step:\")\n",
    "print()\n",
    "print(StepY)"
   ]
  },
  {
   "cell_type": "code",
   "execution_count": 7,
   "metadata": {
    "collapsed": false
   },
   "outputs": [
    {
     "name": "stdout",
     "output_type": "stream",
     "text": [
      "The x location of the electron after 100 time steps is:\n",
      "5.66149990138e-24\n",
      "\n",
      "The y location of the electron after 100 time steps is:\n",
      "-1.13230449125e-24\n",
      "\n",
      "Therefore, the trajectory of the electron after 100 time steps is:\n",
      "( 5.66149990138e-24 , -1.13230449125e-24 )\n"
     ]
    }
   ],
   "source": [
    "print(\"The x location of the electron after 100 time steps is:\")\n",
    "print(StepX[-1])\n",
    "print()\n",
    "print(\"The y location of the electron after 100 time steps is:\")\n",
    "print(StepY[-1])\n",
    "print()\n",
    "print(\"Therefore, the trajectory of the electron after 100 time steps is:\")\n",
    "print(\"(\",StepX[-1],\",\", StepY[-1], \")\")"
   ]
  },
  {
   "cell_type": "code",
   "execution_count": 8,
   "metadata": {
    "collapsed": false
   },
   "outputs": [
    {
     "name": "stdout",
     "output_type": "stream",
     "text": [
      "The electron trajectory is depicted on the plot below:\n"
     ]
    },
    {
     "data": {
      "text/plain": [
       "<matplotlib.text.Text at 0x7fe8952ae278>"
      ]
     },
     "execution_count": 8,
     "metadata": {},
     "output_type": "execute_result"
    },
    {
     "data": {
      "image/png": "[encoded data removed]",
      "text/plain": [
       "<matplotlib.figure.Figure at 0x7fe8952e6b38>"
      ]
     },
     "metadata": {},
     "output_type": "display_data"
    }
   ],
   "source": [
    "print(\"The electron trajectory is depicted on the plot below:\")\n",
    "pyplot.plot(StepX, StepY, color='#003366', ls = '-', lw=3)\n",
    "pyplot.grid(True)\n",
    "pyplot.xlabel(r'x-position of electron', fontsize=12)\n",
    "pyplot.ylabel(r'y-position of electron', fontsize=12)\n",
    "pyplot.title('Electron trajectory after 100 time steps', fontsize=14)"
   ]
  },
  {
   "cell_type": "markdown",
   "metadata": {},
   "source": [
    "__Problem 2: Calculate Trajectory of ion over 100 time steps__"
   ]
  },
  {
   "cell_type": "code",
   "execution_count": 9,
   "metadata": {
    "collapsed": true
   },
   "outputs": [],
   "source": [
    "#Given/Known variables:\n",
    "\n",
    "nt = 100 #number of time steps\n",
    "ts = 10e-5 #s\n",
    "\n",
    "v_x = 1000. #m/s\n",
    "v_y = 1000. #m/s\n",
    "v_z = 1000. #m/s\n",
    "\n",
    "E_x = 1000. #V/m\n",
    "E_y = 0\n",
    "E_z = 0\n",
    "\n",
    "B = 0.1 #T\n",
    "e = 1.609e-19 #C\n",
    "m_ion = 1.6605e-27 #kg (He)"
   ]
  },
  {
   "cell_type": "code",
   "execution_count": 10,
   "metadata": {
    "collapsed": false
   },
   "outputs": [
    {
     "name": "stdout",
     "output_type": "stream",
     "text": [
      "VxB matrix:\n",
      "[[  1.00000000e+03   0.00000000e+00   0.00000000e+00]\n",
      " [  1.00000000e+03   1.00000000e+03   1.00000000e+03]\n",
      " [  0.00000000e+00   0.00000000e+00   1.00000000e-01]]\n"
     ]
    }
   ],
   "source": [
    "#initialize matrix with given values:\n",
    "\n",
    "\"\"\"\n",
    "    [[E_x  E_y  E_z]\n",
    "A =  [v_x  v_y  v_z]\n",
    "     [0     0    B ]]\n",
    "\"\"\"\n",
    "\n",
    "A = numpy.array([[E_x, E_y, E_z],[v_x, v_y, v_z], [0, 0, B]])\n",
    "print(\"VxB matrix:\")\n",
    "print(A)"
   ]
  },
  {
   "cell_type": "code",
   "execution_count": 11,
   "metadata": {
    "collapsed": false
   },
   "outputs": [
    {
     "data": {
      "text/plain": [
       "100000.00000000001"
      ]
     },
     "execution_count": 11,
     "metadata": {},
     "output_type": "execute_result"
    }
   ],
   "source": [
    "#Calculate the determinant of the VxB matrix: \n",
    "\n",
    "numpy.linalg.det(A)"
   ]
  },
  {
   "cell_type": "code",
   "execution_count": 12,
   "metadata": {
    "collapsed": false
   },
   "outputs": [
    {
     "name": "stdout",
     "output_type": "stream",
     "text": [
      "The time at the final time step (where the He ion is at its' final position):\n",
      "0.01\n"
     ]
    }
   ],
   "source": [
    "#time steps\n",
    "n = numpy.linspace(0, ts*nt, 100)\n",
    "#print(n) --> time steps are the same as for the electron problem\n",
    "\n",
    "lastnum = n[-1]\n",
    "print(\"The time at the final time step (where the He ion is at its' final position):\")\n",
    "print(lastnum)"
   ]
  },
  {
   "cell_type": "code",
   "execution_count": 13,
   "metadata": {
    "collapsed": false
   },
   "outputs": [
    {
     "name": "stdout",
     "output_type": "stream",
     "text": [
      "Location of He ion in the x direction at every time step:\n",
      "\n",
      "[  0.00000000e+00   2.08132758e-14   4.15975167e-14   6.23527531e-14\n",
      "   8.30790153e-14   1.03776334e-13   1.24444738e-13   1.45084260e-13\n",
      "   1.65694928e-13   1.86276774e-13   2.06829826e-13   2.27354117e-13\n",
      "   2.47849675e-13   2.68316530e-13   2.88754713e-13   3.09164255e-13\n",
      "   3.29545184e-13   3.49897530e-13   3.70221325e-13   3.90516597e-13\n",
      "   4.10783377e-13   4.31021694e-13   4.51231579e-13   4.71413060e-13\n",
      "   4.91566169e-13   5.11690934e-13   5.31787386e-13   5.51855554e-13\n",
      "   5.71895467e-13   5.91907156e-13   6.11890650e-13   6.31845979e-13\n",
      "   6.51773172e-13   6.71672259e-13   6.91543269e-13   7.11386232e-13\n",
      "   7.31201177e-13   7.50988134e-13   7.70747132e-13   7.90478200e-13\n",
      "   8.10181368e-13   8.29856666e-13   8.49504121e-13   8.69123765e-13\n",
      "   8.88715625e-13   9.08279731e-13   9.27816113e-13   9.47324799e-13\n",
      "   9.66805819e-13   9.86259201e-13   1.00568498e-12   1.02508317e-12\n",
      "   1.04445382e-12   1.06379694e-12   1.08311257e-12   1.10240074e-12\n",
      "   1.12166147e-12   1.14089480e-12   1.16010075e-12   1.17927936e-12\n",
      "   1.19843064e-12   1.21755464e-12   1.23665137e-12   1.25572088e-12\n",
      "   1.27476317e-12   1.29377829e-12   1.31276627e-12   1.33172713e-12\n",
      "   1.35066089e-12   1.36956760e-12   1.38844728e-12   1.40729995e-12\n",
      "   1.42612564e-12   1.44492439e-12   1.46369622e-12   1.48244116e-12\n",
      "   1.50115924e-12   1.51985048e-12   1.53851493e-12   1.55715259e-12\n",
      "   1.57576350e-12   1.59434770e-12   1.61290520e-12   1.63143604e-12\n",
      "   1.64994024e-12   1.66841784e-12   1.68686886e-12   1.70529332e-12\n",
      "   1.72369126e-12   1.74206271e-12   1.76040769e-12   1.77872623e-12\n",
      "   1.79701836e-12   1.81528411e-12   1.83352350e-12   1.85173656e-12\n",
      "   1.86992333e-12   1.88808382e-12   1.90621807e-12   1.92432610e-12]\n",
      "\n",
      "Location of He ion in the y direction at every time step:\n",
      "\n",
      "[ -0.00000000e+00  -2.08132801e-14  -4.15975253e-14  -6.23527659e-14\n",
      "  -8.30790324e-14  -1.03776355e-13  -1.24444764e-13  -1.45084290e-13\n",
      "  -1.65694962e-13  -1.86276812e-13  -2.06829869e-13  -2.27354163e-13\n",
      "  -2.47849725e-13  -2.68316585e-13  -2.88754772e-13  -3.09164318e-13\n",
      "  -3.29545251e-13  -3.49897602e-13  -3.70221400e-13  -3.90516677e-13\n",
      "  -4.10783460e-13  -4.31021782e-13  -4.51231670e-13  -4.71413156e-13\n",
      "  -4.91566269e-13  -5.11691038e-13  -5.31787494e-13  -5.51855665e-13\n",
      "  -5.71895583e-13  -5.91907276e-13  -6.11890774e-13  -6.31846107e-13\n",
      "  -6.51773304e-13  -6.71672394e-13  -6.91543408e-13  -7.11386375e-13\n",
      "  -7.31201324e-13  -7.50988285e-13  -7.70747287e-13  -7.90478359e-13\n",
      "  -8.10181531e-13  -8.29856832e-13  -8.49504291e-13  -8.69123939e-13\n",
      "  -8.88715803e-13  -9.08279913e-13  -9.27816298e-13  -9.47324988e-13\n",
      "  -9.66806012e-13  -9.86259398e-13  -1.00568518e-12  -1.02508337e-12\n",
      "  -1.04445402e-12  -1.06379715e-12  -1.08311279e-12  -1.10240096e-12\n",
      "  -1.12166170e-12  -1.14089503e-12  -1.16010098e-12  -1.17927959e-12\n",
      "  -1.19843088e-12  -1.21755488e-12  -1.23665162e-12  -1.25572112e-12\n",
      "  -1.27476342e-12  -1.29377855e-12  -1.31276653e-12  -1.33172739e-12\n",
      "  -1.35066116e-12  -1.36956787e-12  -1.38844755e-12  -1.40730022e-12\n",
      "  -1.42612592e-12  -1.44492467e-12  -1.46369651e-12  -1.48244145e-12\n",
      "  -1.50115953e-12  -1.51985078e-12  -1.53851523e-12  -1.55715289e-12\n",
      "  -1.57576381e-12  -1.59434801e-12  -1.61290552e-12  -1.63143636e-12\n",
      "  -1.64994056e-12  -1.66841816e-12  -1.68686918e-12  -1.70529365e-12\n",
      "  -1.72369160e-12  -1.74206305e-12  -1.76040803e-12  -1.77872658e-12\n",
      "  -1.79701871e-12  -1.81528446e-12  -1.83352385e-12  -1.85173692e-12\n",
      "  -1.86992369e-12  -1.88808418e-12  -1.90621844e-12  -1.92432647e-12]\n"
     ]
    }
   ],
   "source": [
    "#Use the integral of the time step (dV/dt) to determine the x and y positions of the He ion:\n",
    "\n",
    "StepX = n/(E_x + ((v_y**n + v_y**(n+1))/2)*B*e/m_ion)\n",
    "print(\"Location of He ion in the x direction at every time step:\")\n",
    "print()\n",
    "print(StepX)\n",
    "print()\n",
    "\n",
    "StepY = n/(E_y - ((v_x**n + v_x**(n+1))/2)*B*e/m_ion)\n",
    "print(\"Location of He ion in the y direction at every time step:\")\n",
    "print()\n",
    "print(StepY)"
   ]
  },
  {
   "cell_type": "code",
   "execution_count": 14,
   "metadata": {
    "collapsed": false
   },
   "outputs": [
    {
     "name": "stdout",
     "output_type": "stream",
     "text": [
      "The x location of the He ion after 100 time steps is:\n",
      "1.92432610058e-12\n",
      "\n",
      "The y location of the He ion after 100 time steps is:\n",
      "-1.92432647089e-12\n",
      "\n",
      "Therefore, the trajectory of the He ion after 100 time steps is:\n",
      "( 1.92432610058e-12 , -1.92432647089e-12 )\n"
     ]
    }
   ],
   "source": [
    "print(\"The x location of the He ion after 100 time steps is:\")\n",
    "print(StepX[-1])\n",
    "print()\n",
    "print(\"The y location of the He ion after 100 time steps is:\")\n",
    "print(StepY[-1])\n",
    "print()\n",
    "print(\"Therefore, the trajectory of the He ion after 100 time steps is:\")\n",
    "print(\"(\",StepX[-1],\",\", StepY[-1], \")\")"
   ]
  },
  {
   "cell_type": "code",
   "execution_count": 15,
   "metadata": {
    "collapsed": false
   },
   "outputs": [
    {
     "name": "stdout",
     "output_type": "stream",
     "text": [
      "The He ion trajectory is depicted on the plot below:\n"
     ]
    },
    {
     "data": {
      "text/plain": [
       "<matplotlib.text.Text at 0x7fe8951f5860>"
      ]
     },
     "execution_count": 15,
     "metadata": {},
     "output_type": "execute_result"
    },
    {
     "data": {
      "image/png": "[encoded data removed]",
      "text/plain": [
       "<matplotlib.figure.Figure at 0x7fe8952910b8>"
      ]
     },
     "metadata": {},
     "output_type": "display_data"
    }
   ],
   "source": [
    "print(\"The He ion trajectory is depicted on the plot below:\")\n",
    "pyplot.plot(StepX, StepY, color='#003366', ls = '-', lw=3)\n",
    "pyplot.grid(True)\n",
    "pyplot.xlabel(r'x-position of the He ion', fontsize=12)\n",
    "pyplot.ylabel(r'y-position of He ion', fontsize=12)\n",
    "pyplot.title('He ion trajectory after 100 time steps', fontsize=14)"
   ]
  },
  {
   "cell_type": "markdown",
   "metadata": {},
   "source": [
    "__Problem 3: Visualize trajectories of 10 electrons and 10 ions in x, y, z. Use random number generator for initial velocities of particles__"
   ]
  },
  {
   "cell_type": "code",
   "execution_count": 16,
   "metadata": {
    "collapsed": false
   },
   "outputs": [],
   "source": [
    "#Given/Known variables:\n",
    "\n",
    "nt = 100 #number of time steps\n",
    "ts = 10e-5 #s\n",
    "\n",
    "E_x = 1000. #V/m\n",
    "E_y = 0\n",
    "E_z = 0\n",
    "\n",
    "B = 0.1 #T\n",
    "e = 1.609e-19 #C\n",
    "m_ion = 1.6605e-27 #kg (He)\n",
    "m_e = 9.1094e-31 #kg\n",
    "\n",
    "particles = [1, 2, 3, 4, 5, 6, 7, 8, 9, 10] #we are testing 10 different particles"
   ]
  },
  {
   "cell_type": "code",
   "execution_count": 17,
   "metadata": {
    "collapsed": false
   },
   "outputs": [
    {
     "name": "stdout",
     "output_type": "stream",
     "text": [
      "The electron trajectories is depicted on the plot below:\n",
      "Each line represents a different particle\n",
      "\n"
     ]
    },
    {
     "data": {
      "image/png": "[encoded data removed]",
      "text/plain": [
       "<matplotlib.figure.Figure at 0x7fe8952e6400>"
      ]
     },
     "metadata": {},
     "output_type": "display_data"
    }
   ],
   "source": [
    "#Use the integral of the time step (dV/dt) to determine the x and y positions of the electron:\n",
    "#A for loop is used to find the position of 10 different particles\n",
    "#Initial velocity set to a random number\n",
    "#Output gives us 10 different arrays of positions of the electron\n",
    "#Each array represents an electron at 100 different time steps\n",
    "\n",
    "print(\"The electron trajectories is depicted on the plot below:\")\n",
    "print(\"Each line represents a different particle\")\n",
    "print()\n",
    "\n",
    "for particle in particles:\n",
    "    \n",
    "    v_x = random.randrange(1e5,5e5) #m/s\n",
    "    v_y = random.randrange(1e5,5e5) #m/s\n",
    "    v_z = random.randrange(1e5,5e5) #m/s\n",
    "    \n",
    "    StepXe = n/(E_x + ((v_y**n + v_y**(n+1))/2)*B*e/m_e)\n",
    "    StepYe = n/(E_y - ((v_x**n + v_x**(n+1))/2)*B*e/m_e)\n",
    "    \n",
    "    #print(particle)\n",
    "    #print(v_x)\n",
    "    #print(v_y)\n",
    "    #print(StepXe)\n",
    "    #print(StepYe)\n",
    "    \n",
    "    pyplot.plot(StepXe, StepYe, color='r', ls = '-', lw=3)\n",
    "    pyplot.grid(True)\n",
    "    pyplot.xlabel(r'x-position of the electron', fontsize=12)\n",
    "    pyplot.ylabel(r'y-position of the electron', fontsize=12)\n",
    "    pyplot.title('Electron trajectory after 100 time steps for 10 particles', fontsize=14)"
   ]
  },
  {
   "cell_type": "code",
   "execution_count": 18,
   "metadata": {
    "collapsed": false
   },
   "outputs": [
    {
     "name": "stdout",
     "output_type": "stream",
     "text": [
      "The He ion trajectories is depicted on the plot below:\n",
      "Each line represents a different particle\n",
      "\n"
     ]
    },
    {
     "data": {
      "image/png": "[encoded data removed]",
      "text/plain": [
       "<matplotlib.figure.Figure at 0x7fe88e7e4ac8>"
      ]
     },
     "metadata": {},
     "output_type": "display_data"
    }
   ],
   "source": [
    "#Use the integral of the time step (dV/dt) to determine the x and y positions of the He ion:\n",
    "#A for loop is used to find the position of 10 different particles\n",
    "#Initial velocity set to a random number\n",
    "#Output gives us 10 different arrays of positions of the He ion\n",
    "#Each array represents an ion at 100 different time steps\n",
    "\n",
    "print(\"The He ion trajectories is depicted on the plot below:\")\n",
    "print(\"Each line represents a different particle\")\n",
    "print()\n",
    "\n",
    "for particle in particles:\n",
    "    \n",
    "    v_x = random.randrange(1e5,5e5) #m/s\n",
    "    v_y = random.randrange(1e5,5e5) #m/s\n",
    "    v_z = random.randrange(1e5,5e5) #m/s\n",
    "    \n",
    "    StepXi = n/(E_x + ((v_y**n + v_y**(n+1))/2)*B*e/m_ion)\n",
    "    StepYi = n/(E_y - ((v_x**n + v_x**(n+1))/2)*B*e/m_ion)\n",
    "    \n",
    "    pyplot.plot(StepXi, StepYi, color='b', ls = '-', lw=3)\n",
    "    pyplot.grid(True)\n",
    "    pyplot.grid(True)\n",
    "    pyplot.xlabel(r'x-position of the He ion', fontsize=12)\n",
    "    pyplot.ylabel(r'y-position of He ion', fontsize=12)\n",
    "    pyplot.title('He ion trajectory after 100 time steps for 10 particles', fontsize=14)\n",
    "    "
   ]
  },
  {
   "cell_type": "code",
   "execution_count": null,
   "metadata": {
    "collapsed": true
   },
   "outputs": [],
   "source": []
  }
 ],
 "metadata": {
  "kernelspec": {
   "display_name": "Python 3",
   "language": "python",
   "name": "python3"
  },
  "language_info": {
   "codemirror_mode": {
    "name": "ipython",
    "version": 3
   },
   "file_extension": ".py",
   "mimetype": "text/x-python",
   "name": "python",
   "nbconvert_exporter": "python",
   "pygments_lexer": "ipython3",
   "version": "3.4.3"
  }
 },
 "nbformat": 4,
 "nbformat_minor": 0
}
