{
 "cells": [
  {
   "cell_type": "code",
   "execution_count": 25,
   "metadata": {
    "collapsed": false
   },
   "outputs": [],
   "source": [
    "%matplotlib inline\n",
    "import numpy\n",
    "import sympy\n",
    "import pylab\n",
    "from matplotlib import pyplot\n",
    "import  random\n",
    "import matplotlib.pyplot as plt"
   ]
  },
  {
   "cell_type": "markdown",
   "metadata": {},
   "source": [
    "__Problem 1: Calculate trajectory of electron over 100 time steps__"
   ]
  },
  {
   "cell_type": "code",
   "execution_count": 39,
   "metadata": {
    "collapsed": false
   },
   "outputs": [],
   "source": [
    "#Given/Known variables:\n",
    "\n",
    "nt = 100 #number of time steps\n",
    "ts = 10e-11 #s\n",
    "\n",
    "v_x = 10.0e5 #m/s\n",
    "v_y = 2.0e5 #m/s\n",
    "v_z = 1.5e5 #m/s\n",
    "\n",
    "E_x = 1000. #V/m\n",
    "E_y = 0\n",
    "E_z = 0\n",
    "\n",
    "B = 0.1 #T\n",
    "e = 1.609e-19 #C\n",
    "m_e = 9.1094e-31 #kg"
   ]
  },
  {
   "cell_type": "code",
   "execution_count": 40,
   "metadata": {
    "collapsed": false
   },
   "outputs": [
    {
     "name": "stdout",
     "output_type": "stream",
     "text": [
      "[[  1.00000000e+03   0.00000000e+00   0.00000000e+00]\n",
      " [  1.00000000e+06   2.00000000e+05   1.50000000e+05]\n",
      " [  0.00000000e+00   0.00000000e+00   1.00000000e-01]]\n"
     ]
    }
   ],
   "source": [
    "#initialize matrix with given values:\n",
    "\n",
    "\"\"\"\n",
    "    [[E_x  E_y  E_z]\n",
    "A =  [v_x  v_y  v_z]\n",
    "     [0     0    B ]]\n",
    "\"\"\"\n",
    "\n",
    "A = numpy.array([[E_x, E_y, E_z],[v_x, v_y, v_z], [0, 0, B]])\n",
    "print(A)"
   ]
  },
  {
   "cell_type": "code",
   "execution_count": 41,
   "metadata": {
    "collapsed": false
   },
   "outputs": [
    {
     "data": {
      "image/png": "[encoded data removed]",
      "text/latex": [
       "$$20000000.0$$"
      ],
      "text/plain": [
       "20000000.0"
      ]
     },
     "execution_count": 41,
     "metadata": {},
     "output_type": "execute_result"
    }
   ],
   "source": [
    "#Calculate the determinant of the VxB matrix: \n",
    "\n",
    "numpy.linalg.det(A)"
   ]
  },
  {
   "cell_type": "code",
   "execution_count": 176,
   "metadata": {
    "collapsed": false
   },
   "outputs": [
    {
     "name": "stdout",
     "output_type": "stream",
     "text": [
      "Array of 100 time steps of size 10e-11:\n",
      "\n",
      "[ 0.          0.00010101  0.00020202  0.00030303  0.00040404  0.00050505\n",
      "  0.00060606  0.00070707  0.00080808  0.00090909  0.0010101   0.00111111\n",
      "  0.00121212  0.00131313  0.00141414  0.00151515  0.00161616  0.00171717\n",
      "  0.00181818  0.00191919  0.0020202   0.00212121  0.00222222  0.00232323\n",
      "  0.00242424  0.00252525  0.00262626  0.00272727  0.00282828  0.00292929\n",
      "  0.0030303   0.00313131  0.00323232  0.00333333  0.00343434  0.00353535\n",
      "  0.00363636  0.00373737  0.00383838  0.00393939  0.0040404   0.00414141\n",
      "  0.00424242  0.00434343  0.00444444  0.00454545  0.00464646  0.00474747\n",
      "  0.00484848  0.00494949  0.00505051  0.00515152  0.00525253  0.00535354\n",
      "  0.00545455  0.00555556  0.00565657  0.00575758  0.00585859  0.0059596\n",
      "  0.00606061  0.00616162  0.00626263  0.00636364  0.00646465  0.00656566\n",
      "  0.00666667  0.00676768  0.00686869  0.0069697   0.00707071  0.00717172\n",
      "  0.00727273  0.00737374  0.00747475  0.00757576  0.00767677  0.00777778\n",
      "  0.00787879  0.0079798   0.00808081  0.00818182  0.00828283  0.00838384\n",
      "  0.00848485  0.00858586  0.00868687  0.00878788  0.00888889  0.0089899\n",
      "  0.00909091  0.00919192  0.00929293  0.00939394  0.00949495  0.00959596\n",
      "  0.00969697  0.00979798  0.00989899  0.01      ]\n",
      "\n",
      "The time at the final time step (where the electron is at its' final position):\n",
      "0.01\n"
     ]
    }
   ],
   "source": [
    "#Create an array called n of 100 time steps of 10e-11:\n",
    "\n",
    "n = numpy.linspace(0, ts*nt, 100)\n",
    "print(\"Array of 100 time steps of size 10e-11:\")\n",
    "print()\n",
    "print(n)\n",
    "\n",
    "#Find the last number of the array, this tells us the value of n at the final position\n",
    "\n",
    "lastnum = n[-1]\n",
    "print()\n",
    "print(\"The time at the final time step (where the electron is at its' final position):\")\n",
    "print(lastnum)"
   ]
  },
  {
   "cell_type": "code",
   "execution_count": 162,
   "metadata": {
    "collapsed": false
   },
   "outputs": [
    {
     "name": "stdout",
     "output_type": "stream",
     "text": [
      "Location of electron in the x direction at every time step:\n",
      "\n",
      "[  0.00000000e+00   2.41824694e-20   4.83011517e-20   7.23561730e-20\n",
      "   9.63476592e-20   1.20275736e-19   1.44140529e-19   1.67942164e-19\n",
      "   1.91680766e-19   2.15356459e-19   2.38969368e-19   2.62519618e-19\n",
      "   2.86007332e-19   3.09432636e-19   3.32795651e-19   3.56096503e-19\n",
      "   3.79335315e-19   4.02512209e-19   4.25627308e-19   4.48680736e-19\n",
      "   4.71672614e-19   4.94603065e-19   5.17472211e-19   5.40280173e-19\n",
      "   5.63027074e-19   5.85713035e-19   6.08338177e-19   6.30902620e-19\n",
      "   6.53406486e-19   6.75849895e-19   6.98232968e-19   7.20555824e-19\n",
      "   7.42818584e-19   7.65021367e-19   7.87164292e-19   8.09247480e-19\n",
      "   8.31271048e-19   8.53235116e-19   8.75139803e-19   8.96985227e-19\n",
      "   9.18771506e-19   9.40498758e-19   9.62167100e-19   9.83776652e-19\n",
      "   1.00532753e-18   1.02681985e-18   1.04825373e-18   1.06962929e-18\n",
      "   1.09094664e-18   1.11220590e-18   1.13340718e-18   1.15455061e-18\n",
      "   1.17563630e-18   1.19666436e-18   1.21763490e-18   1.23854805e-18\n",
      "   1.25940392e-18   1.28020263e-18   1.30094428e-18   1.32162899e-18\n",
      "   1.34225688e-18   1.36282806e-18   1.38334264e-18   1.40380074e-18\n",
      "   1.42420247e-18   1.44454794e-18   1.46483727e-18   1.48507057e-18\n",
      "   1.50524795e-18   1.52536953e-18   1.54543541e-18   1.56544571e-18\n",
      "   1.58540053e-18   1.60530001e-18   1.62514423e-18   1.64493332e-18\n",
      "   1.66466738e-18   1.68434652e-18   1.70397087e-18   1.72354051e-18\n",
      "   1.74305558e-18   1.76251617e-18   1.78192240e-18   1.80127437e-18\n",
      "   1.82057220e-18   1.83981599e-18   1.85900586e-18   1.87814190e-18\n",
      "   1.89722424e-18   1.91625298e-18   1.93522822e-18   1.95415008e-18\n",
      "   1.97301866e-18   1.99183407e-18   2.01059642e-18   2.02930581e-18\n",
      "   2.04796236e-18   2.06656616e-18   2.08511734e-18   2.10361598e-18]\n",
      "\n",
      "Location of electron in the y direction at every time step:\n",
      "\n",
      "[ -0.00000000e+00  -4.77388052e-20  -9.53582377e-20  -1.42858521e-19\n",
      "  -1.90239880e-19  -2.37502536e-19  -2.84646713e-19  -3.31672633e-19\n",
      "  -3.78580518e-19  -4.25370590e-19  -4.72043069e-19  -5.18598177e-19\n",
      "  -5.65036135e-19  -6.11357162e-19  -6.57561479e-19  -7.03649304e-19\n",
      "  -7.49620857e-19  -7.95476356e-19  -8.41216021e-19  -8.86840068e-19\n",
      "  -9.32348715e-19  -9.77742181e-19  -1.02302068e-18  -1.06818443e-18\n",
      "  -1.11323365e-18  -1.15816855e-18  -1.20298935e-18  -1.24769626e-18\n",
      "  -1.29228950e-18  -1.33676929e-18  -1.38113583e-18  -1.42538934e-18\n",
      "  -1.46953003e-18  -1.51355812e-18  -1.55747382e-18  -1.60127734e-18\n",
      "  -1.64496890e-18  -1.68854870e-18  -1.73201695e-18  -1.77537387e-18\n",
      "  -1.81861967e-18  -1.86175455e-18  -1.90477874e-18  -1.94769242e-18\n",
      "  -1.99049583e-18  -2.03318915e-18  -2.07577261e-18  -2.11824641e-18\n",
      "  -2.16061076e-18  -2.20286586e-18  -2.24501193e-18  -2.28704916e-18\n",
      "  -2.32897777e-18  -2.37079796e-18  -2.41250993e-18  -2.45411390e-18\n",
      "  -2.49561007e-18  -2.53699863e-18  -2.57827980e-18  -2.61945378e-18\n",
      "  -2.66052077e-18  -2.70148098e-18  -2.74233461e-18  -2.78308186e-18\n",
      "  -2.82372293e-18  -2.86425802e-18  -2.90468735e-18  -2.94501110e-18\n",
      "  -2.98522948e-18  -3.02534268e-18  -3.06535092e-18  -3.10525439e-18\n",
      "  -3.14505328e-18  -3.18474780e-18  -3.22433815e-18  -3.26382452e-18\n",
      "  -3.30320712e-18  -3.34248613e-18  -3.38166176e-18  -3.42073421e-18\n",
      "  -3.45970367e-18  -3.49857034e-18  -3.53733441e-18  -3.57599608e-18\n",
      "  -3.61455555e-18  -3.65301301e-18  -3.69136865e-18  -3.72962268e-18\n",
      "  -3.76777528e-18  -3.80582664e-18  -3.84377697e-18  -3.88162645e-18\n",
      "  -3.91937528e-18  -3.95702365e-18  -3.99457176e-18  -4.03201978e-18\n",
      "  -4.06936792e-18  -4.10661637e-18  -4.14376532e-18  -4.18081495e-18]\n"
     ]
    }
   ],
   "source": [
    "#Use the integral of the time step (dV/dt) to determine the x and y positions of the electron:\n",
    "\n",
    "StepX = n/(E_x + ((v_y**n + v_y**(n+1))/2)*B*e/m_e)\n",
    "print(\"Location of electron in the x direction at every time step:\")\n",
    "print()\n",
    "print(StepX)\n",
    "print()\n",
    "\n",
    "StepY = n/(E_y - ((v_x**n + v_x**(n+1))/2)*B*e/m_e)\n",
    "print(\"Location of electron in the y direction at every time step:\")\n",
    "print()\n",
    "print(StepY)"
   ]
  },
  {
   "cell_type": "code",
   "execution_count": 167,
   "metadata": {
    "collapsed": false
   },
   "outputs": [
    {
     "name": "stdout",
     "output_type": "stream",
     "text": [
      "The x location of the electron after 100 time steps is:\n",
      "2.10361597837e-18\n",
      "\n",
      "The y location of the electron after 100 time steps is:\n",
      "-4.18081495416e-18\n",
      "\n",
      "Therefore, the trajectory of the electron after 100 time steps is:\n",
      "( 2.10361597837e-18 , -4.18081495416e-18 )\n"
     ]
    }
   ],
   "source": [
    "print(\"The x location of the electron after 100 time steps is:\")\n",
    "print(StepX[-1])\n",
    "print()\n",
    "print(\"The y location of the electron after 100 time steps is:\")\n",
    "print(StepY[-1])\n",
    "print()\n",
    "print(\"Therefore, the trajectory of the electron after 100 time steps is:\")\n",
    "print(\"(\",StepX[-1],\",\", StepY[-1], \")\")"
   ]
  },
  {
   "cell_type": "code",
   "execution_count": 174,
   "metadata": {
    "collapsed": false
   },
   "outputs": [
    {
     "name": "stdout",
     "output_type": "stream",
     "text": [
      "The electron trajectory is depicted on the plot below:\n"
     ]
    },
    {
     "data": {
      "text/plain": [
       "<matplotlib.text.Text at 0x7fd1e950beb8>"
      ]
     },
     "execution_count": 174,
     "metadata": {},
     "output_type": "execute_result"
    },
    {
     "data": {
      "image/png": "[encoded data removed]",
      "text/plain": [
       "<matplotlib.figure.Figure at 0x7fd1e95a5dd8>"
      ]
     },
     "metadata": {},
     "output_type": "display_data"
    }
   ],
   "source": [
    "print(\"The electron trajectory is depicted on the plot below:\")\n",
    "pyplot.plot(StepX, StepY, color='#003366', ls = '-', lw=3)\n",
    "pyplot.grid(True)\n",
    "pyplot.xlabel(r'x-position of electron', fontsize=12)\n",
    "pyplot.ylabel(r'y-position of electron', fontsize=12)\n",
    "pyplot.title('Electron trajectory after 100 time steps', fontsize=14)"
   ]
  },
  {
   "cell_type": "markdown",
   "metadata": {},
   "source": [
    "__Problem 2: Calculate Trajectory of ion over 100 time steps__"
   ]
  },
  {
   "cell_type": "code",
   "execution_count": 181,
   "metadata": {
    "collapsed": true
   },
   "outputs": [],
   "source": [
    "#Given/Known variables:\n",
    "\n",
    "nt = 100 #number of time steps\n",
    "ts = 10e-5 #s\n",
    "\n",
    "v_x = 1000. #m/s\n",
    "v_y = 1000. #m/s\n",
    "v_z = 1000. #m/s\n",
    "\n",
    "E_x = 1000. #V/m\n",
    "E_y = 0\n",
    "E_z = 0\n",
    "\n",
    "B = 0.1 #T\n",
    "e = 1.609e-19 #C\n",
    "m_ion = 1.6605e-27 #kg (He)"
   ]
  },
  {
   "cell_type": "code",
   "execution_count": 182,
   "metadata": {
    "collapsed": false
   },
   "outputs": [
    {
     "name": "stdout",
     "output_type": "stream",
     "text": [
      "VxB matrix:\n",
      "[[  1.00000000e+03   0.00000000e+00   0.00000000e+00]\n",
      " [  1.00000000e+03   1.00000000e+03   1.00000000e+03]\n",
      " [  0.00000000e+00   0.00000000e+00   1.00000000e-01]]\n"
     ]
    }
   ],
   "source": [
    "#initialize matrix with given values:\n",
    "\n",
    "\"\"\"\n",
    "    [[E_x  E_y  E_z]\n",
    "A =  [v_x  v_y  v_z]\n",
    "     [0     0    B ]]\n",
    "\"\"\"\n",
    "\n",
    "A = numpy.array([[E_x, E_y, E_z],[v_x, v_y, v_z], [0, 0, B]])\n",
    "print(\"VxB matrix:\")\n",
    "print(A)"
   ]
  },
  {
   "cell_type": "code",
   "execution_count": 183,
   "metadata": {
    "collapsed": false
   },
   "outputs": [
    {
     "data": {
      "image/png": "[encoded data removed]",
      "text/latex": [
       "$$100000.0$$"
      ],
      "text/plain": [
       "100000.0"
      ]
     },
     "execution_count": 183,
     "metadata": {},
     "output_type": "execute_result"
    }
   ],
   "source": [
    "#Calculate the determinant of the VxB matrix: \n",
    "\n",
    "numpy.linalg.det(A)"
   ]
  },
  {
   "cell_type": "code",
   "execution_count": 186,
   "metadata": {
    "collapsed": false
   },
   "outputs": [
    {
     "name": "stdout",
     "output_type": "stream",
     "text": [
      "The time at the final time step (where the He ion is at its' final position):\n",
      "0.01\n"
     ]
    }
   ],
   "source": [
    "#time steps\n",
    "n = numpy.linspace(0, ts*nt, 100)\n",
    "#print(n) --> time steps are the same as for the electron problem\n",
    "\n",
    "lastnum = n[-1]\n",
    "print(\"The time at the final time step (where the He ion is at its' final position):\")\n",
    "print(lastnum)"
   ]
  },
  {
   "cell_type": "code",
   "execution_count": 188,
   "metadata": {
    "collapsed": false
   },
   "outputs": [
    {
     "name": "stdout",
     "output_type": "stream",
     "text": [
      "Location of He ion in the x direction at every time step:\n",
      "\n",
      "[  0.00000000e+00   2.08132758e-14   4.15975167e-14   6.23527531e-14\n",
      "   8.30790153e-14   1.03776334e-13   1.24444738e-13   1.45084260e-13\n",
      "   1.65694928e-13   1.86276774e-13   2.06829826e-13   2.27354117e-13\n",
      "   2.47849675e-13   2.68316530e-13   2.88754713e-13   3.09164255e-13\n",
      "   3.29545184e-13   3.49897530e-13   3.70221325e-13   3.90516597e-13\n",
      "   4.10783377e-13   4.31021694e-13   4.51231579e-13   4.71413060e-13\n",
      "   4.91566169e-13   5.11690934e-13   5.31787386e-13   5.51855554e-13\n",
      "   5.71895467e-13   5.91907156e-13   6.11890650e-13   6.31845979e-13\n",
      "   6.51773172e-13   6.71672259e-13   6.91543269e-13   7.11386232e-13\n",
      "   7.31201177e-13   7.50988134e-13   7.70747132e-13   7.90478200e-13\n",
      "   8.10181368e-13   8.29856666e-13   8.49504121e-13   8.69123765e-13\n",
      "   8.88715625e-13   9.08279731e-13   9.27816113e-13   9.47324799e-13\n",
      "   9.66805819e-13   9.86259201e-13   1.00568498e-12   1.02508317e-12\n",
      "   1.04445382e-12   1.06379694e-12   1.08311257e-12   1.10240074e-12\n",
      "   1.12166147e-12   1.14089480e-12   1.16010075e-12   1.17927936e-12\n",
      "   1.19843064e-12   1.21755464e-12   1.23665137e-12   1.25572088e-12\n",
      "   1.27476317e-12   1.29377829e-12   1.31276627e-12   1.33172713e-12\n",
      "   1.35066089e-12   1.36956760e-12   1.38844728e-12   1.40729995e-12\n",
      "   1.42612564e-12   1.44492439e-12   1.46369622e-12   1.48244116e-12\n",
      "   1.50115924e-12   1.51985048e-12   1.53851493e-12   1.55715259e-12\n",
      "   1.57576350e-12   1.59434770e-12   1.61290520e-12   1.63143604e-12\n",
      "   1.64994024e-12   1.66841784e-12   1.68686886e-12   1.70529332e-12\n",
      "   1.72369126e-12   1.74206271e-12   1.76040769e-12   1.77872623e-12\n",
      "   1.79701836e-12   1.81528411e-12   1.83352350e-12   1.85173656e-12\n",
      "   1.86992333e-12   1.88808382e-12   1.90621807e-12   1.92432610e-12]\n",
      "\n",
      "Location of He ion in the y direction at every time step:\n",
      "\n",
      "[ -0.00000000e+00  -2.08132801e-14  -4.15975253e-14  -6.23527659e-14\n",
      "  -8.30790324e-14  -1.03776355e-13  -1.24444764e-13  -1.45084290e-13\n",
      "  -1.65694962e-13  -1.86276812e-13  -2.06829869e-13  -2.27354163e-13\n",
      "  -2.47849725e-13  -2.68316585e-13  -2.88754772e-13  -3.09164318e-13\n",
      "  -3.29545251e-13  -3.49897602e-13  -3.70221400e-13  -3.90516677e-13\n",
      "  -4.10783460e-13  -4.31021782e-13  -4.51231670e-13  -4.71413156e-13\n",
      "  -4.91566269e-13  -5.11691038e-13  -5.31787494e-13  -5.51855665e-13\n",
      "  -5.71895583e-13  -5.91907276e-13  -6.11890774e-13  -6.31846107e-13\n",
      "  -6.51773304e-13  -6.71672394e-13  -6.91543408e-13  -7.11386375e-13\n",
      "  -7.31201324e-13  -7.50988285e-13  -7.70747287e-13  -7.90478359e-13\n",
      "  -8.10181531e-13  -8.29856832e-13  -8.49504291e-13  -8.69123939e-13\n",
      "  -8.88715803e-13  -9.08279913e-13  -9.27816298e-13  -9.47324988e-13\n",
      "  -9.66806012e-13  -9.86259398e-13  -1.00568518e-12  -1.02508337e-12\n",
      "  -1.04445402e-12  -1.06379715e-12  -1.08311279e-12  -1.10240096e-12\n",
      "  -1.12166170e-12  -1.14089503e-12  -1.16010098e-12  -1.17927959e-12\n",
      "  -1.19843088e-12  -1.21755488e-12  -1.23665162e-12  -1.25572112e-12\n",
      "  -1.27476342e-12  -1.29377855e-12  -1.31276653e-12  -1.33172739e-12\n",
      "  -1.35066116e-12  -1.36956787e-12  -1.38844755e-12  -1.40730022e-12\n",
      "  -1.42612592e-12  -1.44492467e-12  -1.46369651e-12  -1.48244145e-12\n",
      "  -1.50115953e-12  -1.51985078e-12  -1.53851523e-12  -1.55715289e-12\n",
      "  -1.57576381e-12  -1.59434801e-12  -1.61290552e-12  -1.63143636e-12\n",
      "  -1.64994056e-12  -1.66841816e-12  -1.68686918e-12  -1.70529365e-12\n",
      "  -1.72369160e-12  -1.74206305e-12  -1.76040803e-12  -1.77872658e-12\n",
      "  -1.79701871e-12  -1.81528446e-12  -1.83352385e-12  -1.85173692e-12\n",
      "  -1.86992369e-12  -1.88808418e-12  -1.90621844e-12  -1.92432647e-12]\n"
     ]
    }
   ],
   "source": [
    "#Use the integral of the time step (dV/dt) to determine the x and y positions of the He ion:\n",
    "\n",
    "StepX = n/(E_x + ((v_y**n + v_y**(n+1))/2)*B*e/m_ion)\n",
    "print(\"Location of He ion in the x direction at every time step:\")\n",
    "print()\n",
    "print(StepX)\n",
    "print()\n",
    "\n",
    "StepY = n/(E_y - ((v_x**n + v_x**(n+1))/2)*B*e/m_ion)\n",
    "print(\"Location of He ion in the y direction at every time step:\")\n",
    "print()\n",
    "print(StepY)"
   ]
  },
  {
   "cell_type": "code",
   "execution_count": 189,
   "metadata": {
    "collapsed": false
   },
   "outputs": [
    {
     "name": "stdout",
     "output_type": "stream",
     "text": [
      "The x location of the He ion after 100 time steps is:\n",
      "1.92432610058e-12\n",
      "\n",
      "The y location of the He ion after 100 time steps is:\n",
      "-1.92432647089e-12\n",
      "\n",
      "Therefore, the trajectory of the He ion after 100 time steps is:\n",
      "( 1.92432610058e-12 , -1.92432647089e-12 )\n"
     ]
    }
   ],
   "source": [
    "print(\"The x location of the He ion after 100 time steps is:\")\n",
    "print(StepX[-1])\n",
    "print()\n",
    "print(\"The y location of the He ion after 100 time steps is:\")\n",
    "print(StepY[-1])\n",
    "print()\n",
    "print(\"Therefore, the trajectory of the He ion after 100 time steps is:\")\n",
    "print(\"(\",StepX[-1],\",\", StepY[-1], \")\")"
   ]
  },
  {
   "cell_type": "code",
   "execution_count": 191,
   "metadata": {
    "collapsed": false
   },
   "outputs": [
    {
     "name": "stdout",
     "output_type": "stream",
     "text": [
      "The He ion trajectory is depicted on the plot below:\n"
     ]
    },
    {
     "data": {
      "text/plain": [
       "<matplotlib.text.Text at 0x7fd1e98a4320>"
      ]
     },
     "execution_count": 191,
     "metadata": {},
     "output_type": "execute_result"
    },
    {
     "data": {
      "image/png": "[encoded data removed]",
      "text/plain": [
       "<matplotlib.figure.Figure at 0x7fd1e94ed240>"
      ]
     },
     "metadata": {},
     "output_type": "display_data"
    }
   ],
   "source": [
    "print(\"The He ion trajectory is depicted on the plot below:\")\n",
    "pyplot.plot(StepX, StepY, color='#003366', ls = '-', lw=3)\n",
    "pyplot.grid(True)\n",
    "pyplot.xlabel(r'x-position of the He ion', fontsize=12)\n",
    "pyplot.ylabel(r'y-position of He ion', fontsize=12)\n",
    "pyplot.title('He ion trajectory after 100 time steps', fontsize=14)"
   ]
  },
  {
   "cell_type": "markdown",
   "metadata": {},
   "source": [
    "__Problem 3: Visualize trajectories of 10 electrons and 10 ions in x, y, z. Use random number generator for initial velocities of particles__"
   ]
  },
  {
   "cell_type": "code",
   "execution_count": 192,
   "metadata": {
    "collapsed": false
   },
   "outputs": [],
   "source": [
    "#Given/Known variables:\n",
    "\n",
    "nt = 100 #number of time steps\n",
    "ts = 10e-5 #s\n",
    "\n",
    "E_x = 1000. #V/m\n",
    "E_y = 0\n",
    "E_z = 0\n",
    "\n",
    "B = 0.1 #T\n",
    "e = 1.609e-19 #C\n",
    "m_ion = 1.6605e-27 #kg (He)\n",
    "m_e = 9.1094e-31 #kg\n",
    "\n",
    "particles = [1, 2, 3, 4, 5, 6, 7, 8, 9, 10] #we are testing 10 different particles"
   ]
  },
  {
   "cell_type": "code",
   "execution_count": 200,
   "metadata": {
    "collapsed": false
   },
   "outputs": [
    {
     "data": {
      "image/png": "[encoded data removed]",
      "text/plain": [
       "<matplotlib.figure.Figure at 0x7fd1e8ee1e80>"
      ]
     },
     "metadata": {},
     "output_type": "display_data"
    }
   ],
   "source": [
    "#Use the integral of the time step (dV/dt) to determine the x and y positions of the electron:\n",
    "#A for loop is used to find the position of 10 different particles\n",
    "#Initial velocity set to a random number\n",
    "#Output gives us 10 different arrays of positions of the electron\n",
    "#Each array represents an electron at 100 different time steps\n",
    "\n",
    "print(\"The electron trajectories is depicted on the plot below:\")\n",
    "print(\"Each line represents a different particle\")\n",
    "print()\n",
    "\n",
    "for particle in particles:\n",
    "    \n",
    "    v_x = random.randrange(1e5,5e5) #m/s\n",
    "    v_y = random.randrange(1e5,5e5) #m/s\n",
    "    v_z = random.randrange(1e5,5e5) #m/s\n",
    "    \n",
    "    StepXe = n/(E_x + ((v_y**n + v_y**(n+1))/2)*B*e/m_e)\n",
    "    StepYe = n/(E_y - ((v_x**n + v_x**(n+1))/2)*B*e/m_e)\n",
    "    \n",
    "    #print(particle)\n",
    "    #print(v_x)\n",
    "    #print(v_y)\n",
    "    #print(StepXe)\n",
    "    #print(StepYe)\n",
    "    \n",
    "    pyplot.plot(StepXe, StepYe, color='r', ls = '-', lw=3)\n",
    "    pyplot.grid(True)\n",
    "    pyplot.xlabel(r'x-position of the electron', fontsize=12)\n",
    "    pyplot.ylabel(r'y-position of the electron', fontsize=12)\n",
    "    pyplot.title('Electron trajectory after 100 time steps for 10 particles', fontsize=14)"
   ]
  },
  {
   "cell_type": "code",
   "execution_count": 201,
   "metadata": {
    "collapsed": false
   },
   "outputs": [
    {
     "name": "stdout",
     "output_type": "stream",
     "text": [
      "The He ion trajectories is depicted on the plot below:\n",
      "Each line represents a different particle\n",
      "\n"
     ]
    },
    {
     "data": {
      "image/png": "[encoded data removed]",
      "text/plain": [
       "<matplotlib.figure.Figure at 0x7fd1e93b37f0>"
      ]
     },
     "metadata": {},
     "output_type": "display_data"
    }
   ],
   "source": [
    "#Use the integral of the time step (dV/dt) to determine the x and y positions of the He ion:\n",
    "#A for loop is used to find the position of 10 different particles\n",
    "#Initial velocity set to a random number\n",
    "#Output gives us 10 different arrays of positions of the He ion\n",
    "#Each array represents an ion at 100 different time steps\n",
    "\n",
    "print(\"The He ion trajectories is depicted on the plot below:\")\n",
    "print(\"Each line represents a different particle\")\n",
    "print()\n",
    "\n",
    "for particle in particles:\n",
    "    \n",
    "    v_x = random.randrange(1e5,5e5) #m/s\n",
    "    v_y = random.randrange(1e5,5e5) #m/s\n",
    "    v_z = random.randrange(1e5,5e5) #m/s\n",
    "    \n",
    "    StepXi = n/(E_x + ((v_y**n + v_y**(n+1))/2)*B*e/m_ion)\n",
    "    StepYi = n/(E_y - ((v_x**n + v_x**(n+1))/2)*B*e/m_ion)\n",
    "    \n",
    "    pyplot.plot(StepXi, StepYi, color='b', ls = '-', lw=3)\n",
    "    pyplot.grid(True)\n",
    "    pyplot.grid(True)\n",
    "    pyplot.xlabel(r'x-position of the He ion', fontsize=12)\n",
    "    pyplot.ylabel(r'y-position of He ion', fontsize=12)\n",
    "    pyplot.title('He ion trajectory after 100 time steps for 10 particles', fontsize=14)\n",
    "    "
   ]
  },
  {
   "cell_type": "code",
   "execution_count": null,
   "metadata": {
    "collapsed": true
   },
   "outputs": [],
   "source": []
  }
 ],
 "metadata": {
  "kernelspec": {
   "display_name": "Python 3",
   "language": "python",
   "name": "python3"
  },
  "language_info": {
   "codemirror_mode": {
    "name": "ipython",
    "version": 3
   },
   "file_extension": ".py",
   "mimetype": "text/x-python",
   "name": "python",
   "nbconvert_exporter": "python",
   "pygments_lexer": "ipython3",
   "version": "3.4.3"
  }
 },
 "nbformat": 4,
 "nbformat_minor": 0
}
